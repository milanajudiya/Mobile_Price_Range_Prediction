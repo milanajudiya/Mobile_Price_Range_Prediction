{
  "nbformat": 4,
  "nbformat_minor": 0,
  "metadata": {
    "colab": {
      "name": "Mobile Price Range Prediction.ipynb",
      "provenance": [],
      "collapsed_sections": [],
      "authorship_tag": "ABX9TyOw/0iBjS+GXESrRdbzBaOs",
      "include_colab_link": true
    },
    "kernelspec": {
      "name": "python3",
      "display_name": "Python 3"
    },
    "language_info": {
      "name": "python"
    }
  },
  "cells": [
    {
      "cell_type": "markdown",
      "metadata": {
        "id": "view-in-github",
        "colab_type": "text"
      },
      "source": [
        "<a href=\"https://colab.research.google.com/github/milanajudiya/Mobile_Price_Range_Prediction/blob/main/Mobile_Price_Range_Prediction.ipynb\" target=\"_parent\"><img src=\"https://colab.research.google.com/assets/colab-badge.svg\" alt=\"Open In Colab\"/></a>"
      ]
    },
    {
      "cell_type": "markdown",
      "source": [
        "# **In the competitive mobile phone market companies want to understand sales data of mobile phones and factors which drive the prices.The objective is to find out some relation between features of a mobile phone(eg:- RAM,Internal Memory, etc) and its selling price. In this problem, we do not have to predict the actual price but a price range indicating how high the price.**"
      ],
      "metadata": {
        "id": "_-6Ha3DP00Hf"
      }
    },
    {
      "cell_type": "markdown",
      "source": [
        "## **Data Attributes**"
      ],
      "metadata": {
        "id": "ggx81ga9GcLm"
      }
    },
    {
      "cell_type": "markdown",
      "source": [
        "###**Battery_power** - Total energy a battery can store in one time measured in mAh\n",
        "###**Blue** - Has bluetooth or not\n",
        "###**Clock_speed** - speed at which microprocessor executes instructions\n",
        "###**Dual_sim** - Has dual sim support or not\n",
        "###**Fc** - Front Camera mega pixels\n",
        "###**Four_g** - Has 4G or not\n",
        "###**Int_memory** - Internal Memory in Gigabytes\n",
        "###**M_dep** - Mobile Depth in cm\n",
        "###**Mobile_wt** - Weight of mobile phone\n",
        "###**N_cores** - Number of cores of processor\n",
        "###**Pc** - Primary Camera mega pixels\n",
        "###**Px_height** - Pixel Resolution Height\n",
        "###**Px_width** - Pixel Resolution Width\n",
        "###**Ram** - Random Access Memory in Mega Bytes\n",
        "###**Sc_h** - Screen Height of mobile in cm\n",
        "###**Sc_w** - Screen Width of mobile in cm\n",
        "###**Talk_time** - longest time that a single battery charge will last \n",
        "###**Three_g**- Has 3G or not\n",
        "###**Touch_screen** - Has touch screen or not\n",
        "###**Wifi** - Has wifi or not\n",
        "###**Price_range** - This is the target variable with value of 0(low cost), 1(medium cost),2(high cost) and 3(very high cost)."
      ],
      "metadata": {
        "id": "OEzqSJ7b1LrJ"
      }
    },
    {
      "cell_type": "markdown",
      "source": [
        "## **Import Libraries**"
      ],
      "metadata": {
        "id": "JEhmeLgIGjDG"
      }
    },
    {
      "cell_type": "code",
      "execution_count": 1,
      "metadata": {
        "id": "BiTYlDwCjH7Q"
      },
      "outputs": [],
      "source": [
        "import pandas as pd\n",
        "import numpy as np\n",
        "import seaborn as sns\n",
        "import matplotlib.pyplot as plt\n",
        "%matplotlib inline\n",
        "\n",
        "from sklearn.model_selection import train_test_split\n",
        "from sklearn.model_selection import GridSearchCV\n",
        "from sklearn import ensemble\n",
        "from sklearn.tree import DecisionTreeClassifier\n",
        "from sklearn.ensemble import GradientBoostingClassifier\n",
        "\n",
        "from sklearn.metrics import accuracy_score\n",
        "from sklearn.metrics import roc_auc_score\n",
        "from sklearn.metrics import classification_report\n",
        "from sklearn.metrics import confusion_matrix , plot_confusion_matrix\n",
        "from sklearn.metrics import recall_score\n",
        "from sklearn.metrics import precision_score"
      ]
    },
    {
      "cell_type": "code",
      "source": [
        "from google.colab import drive\n",
        "drive.mount('/content/drive')"
      ],
      "metadata": {
        "colab": {
          "base_uri": "https://localhost:8080/"
        },
        "id": "9MW6amqbkG36",
        "outputId": "58291eeb-8680-4601-d5bc-dd52713c4666"
      },
      "execution_count": 2,
      "outputs": [
        {
          "output_type": "stream",
          "name": "stdout",
          "text": [
            "Mounted at /content/drive\n"
          ]
        }
      ]
    },
    {
      "cell_type": "code",
      "source": [
        "# Import dataset \n",
        "df=pd.read_csv(\"/content/drive/MyDrive/Mobile Price Prediction - Milan Ajudiya/data_mobile_price_range.csv\")"
      ],
      "metadata": {
        "id": "s354w3dqkQXd"
      },
      "execution_count": 3,
      "outputs": []
    },
    {
      "cell_type": "code",
      "source": [
        "pd.set_option(\"display.max_columns\", None)"
      ],
      "metadata": {
        "id": "-_3DyPTkF98T"
      },
      "execution_count": 4,
      "outputs": []
    },
    {
      "cell_type": "code",
      "source": [
        "df.head()"
      ],
      "metadata": {
        "colab": {
          "base_uri": "https://localhost:8080/",
          "height": 270
        },
        "id": "q3K4qN5jkfZ0",
        "outputId": "8efd0ca7-9f70-4ed0-9a48-fa9d36eedcf6"
      },
      "execution_count": 5,
      "outputs": [
        {
          "output_type": "execute_result",
          "data": {
            "text/plain": [
              "   battery_power  blue  clock_speed  dual_sim  fc  four_g  int_memory  m_dep  \\\n",
              "0            842     0          2.2         0   1       0           7    0.6   \n",
              "1           1021     1          0.5         1   0       1          53    0.7   \n",
              "2            563     1          0.5         1   2       1          41    0.9   \n",
              "3            615     1          2.5         0   0       0          10    0.8   \n",
              "4           1821     1          1.2         0  13       1          44    0.6   \n",
              "\n",
              "   mobile_wt  n_cores  pc  px_height  px_width   ram  sc_h  sc_w  talk_time  \\\n",
              "0        188        2   2         20       756  2549     9     7         19   \n",
              "1        136        3   6        905      1988  2631    17     3          7   \n",
              "2        145        5   6       1263      1716  2603    11     2          9   \n",
              "3        131        6   9       1216      1786  2769    16     8         11   \n",
              "4        141        2  14       1208      1212  1411     8     2         15   \n",
              "\n",
              "   three_g  touch_screen  wifi  price_range  \n",
              "0        0             0     1            1  \n",
              "1        1             1     0            2  \n",
              "2        1             1     0            2  \n",
              "3        1             0     0            2  \n",
              "4        1             1     0            1  "
            ],
            "text/html": [
              "\n",
              "  <div id=\"df-acbc3591-dd79-4936-99f5-1e628453ef11\">\n",
              "    <div class=\"colab-df-container\">\n",
              "      <div>\n",
              "<style scoped>\n",
              "    .dataframe tbody tr th:only-of-type {\n",
              "        vertical-align: middle;\n",
              "    }\n",
              "\n",
              "    .dataframe tbody tr th {\n",
              "        vertical-align: top;\n",
              "    }\n",
              "\n",
              "    .dataframe thead th {\n",
              "        text-align: right;\n",
              "    }\n",
              "</style>\n",
              "<table border=\"1\" class=\"dataframe\">\n",
              "  <thead>\n",
              "    <tr style=\"text-align: right;\">\n",
              "      <th></th>\n",
              "      <th>battery_power</th>\n",
              "      <th>blue</th>\n",
              "      <th>clock_speed</th>\n",
              "      <th>dual_sim</th>\n",
              "      <th>fc</th>\n",
              "      <th>four_g</th>\n",
              "      <th>int_memory</th>\n",
              "      <th>m_dep</th>\n",
              "      <th>mobile_wt</th>\n",
              "      <th>n_cores</th>\n",
              "      <th>pc</th>\n",
              "      <th>px_height</th>\n",
              "      <th>px_width</th>\n",
              "      <th>ram</th>\n",
              "      <th>sc_h</th>\n",
              "      <th>sc_w</th>\n",
              "      <th>talk_time</th>\n",
              "      <th>three_g</th>\n",
              "      <th>touch_screen</th>\n",
              "      <th>wifi</th>\n",
              "      <th>price_range</th>\n",
              "    </tr>\n",
              "  </thead>\n",
              "  <tbody>\n",
              "    <tr>\n",
              "      <th>0</th>\n",
              "      <td>842</td>\n",
              "      <td>0</td>\n",
              "      <td>2.2</td>\n",
              "      <td>0</td>\n",
              "      <td>1</td>\n",
              "      <td>0</td>\n",
              "      <td>7</td>\n",
              "      <td>0.6</td>\n",
              "      <td>188</td>\n",
              "      <td>2</td>\n",
              "      <td>2</td>\n",
              "      <td>20</td>\n",
              "      <td>756</td>\n",
              "      <td>2549</td>\n",
              "      <td>9</td>\n",
              "      <td>7</td>\n",
              "      <td>19</td>\n",
              "      <td>0</td>\n",
              "      <td>0</td>\n",
              "      <td>1</td>\n",
              "      <td>1</td>\n",
              "    </tr>\n",
              "    <tr>\n",
              "      <th>1</th>\n",
              "      <td>1021</td>\n",
              "      <td>1</td>\n",
              "      <td>0.5</td>\n",
              "      <td>1</td>\n",
              "      <td>0</td>\n",
              "      <td>1</td>\n",
              "      <td>53</td>\n",
              "      <td>0.7</td>\n",
              "      <td>136</td>\n",
              "      <td>3</td>\n",
              "      <td>6</td>\n",
              "      <td>905</td>\n",
              "      <td>1988</td>\n",
              "      <td>2631</td>\n",
              "      <td>17</td>\n",
              "      <td>3</td>\n",
              "      <td>7</td>\n",
              "      <td>1</td>\n",
              "      <td>1</td>\n",
              "      <td>0</td>\n",
              "      <td>2</td>\n",
              "    </tr>\n",
              "    <tr>\n",
              "      <th>2</th>\n",
              "      <td>563</td>\n",
              "      <td>1</td>\n",
              "      <td>0.5</td>\n",
              "      <td>1</td>\n",
              "      <td>2</td>\n",
              "      <td>1</td>\n",
              "      <td>41</td>\n",
              "      <td>0.9</td>\n",
              "      <td>145</td>\n",
              "      <td>5</td>\n",
              "      <td>6</td>\n",
              "      <td>1263</td>\n",
              "      <td>1716</td>\n",
              "      <td>2603</td>\n",
              "      <td>11</td>\n",
              "      <td>2</td>\n",
              "      <td>9</td>\n",
              "      <td>1</td>\n",
              "      <td>1</td>\n",
              "      <td>0</td>\n",
              "      <td>2</td>\n",
              "    </tr>\n",
              "    <tr>\n",
              "      <th>3</th>\n",
              "      <td>615</td>\n",
              "      <td>1</td>\n",
              "      <td>2.5</td>\n",
              "      <td>0</td>\n",
              "      <td>0</td>\n",
              "      <td>0</td>\n",
              "      <td>10</td>\n",
              "      <td>0.8</td>\n",
              "      <td>131</td>\n",
              "      <td>6</td>\n",
              "      <td>9</td>\n",
              "      <td>1216</td>\n",
              "      <td>1786</td>\n",
              "      <td>2769</td>\n",
              "      <td>16</td>\n",
              "      <td>8</td>\n",
              "      <td>11</td>\n",
              "      <td>1</td>\n",
              "      <td>0</td>\n",
              "      <td>0</td>\n",
              "      <td>2</td>\n",
              "    </tr>\n",
              "    <tr>\n",
              "      <th>4</th>\n",
              "      <td>1821</td>\n",
              "      <td>1</td>\n",
              "      <td>1.2</td>\n",
              "      <td>0</td>\n",
              "      <td>13</td>\n",
              "      <td>1</td>\n",
              "      <td>44</td>\n",
              "      <td>0.6</td>\n",
              "      <td>141</td>\n",
              "      <td>2</td>\n",
              "      <td>14</td>\n",
              "      <td>1208</td>\n",
              "      <td>1212</td>\n",
              "      <td>1411</td>\n",
              "      <td>8</td>\n",
              "      <td>2</td>\n",
              "      <td>15</td>\n",
              "      <td>1</td>\n",
              "      <td>1</td>\n",
              "      <td>0</td>\n",
              "      <td>1</td>\n",
              "    </tr>\n",
              "  </tbody>\n",
              "</table>\n",
              "</div>\n",
              "      <button class=\"colab-df-convert\" onclick=\"convertToInteractive('df-acbc3591-dd79-4936-99f5-1e628453ef11')\"\n",
              "              title=\"Convert this dataframe to an interactive table.\"\n",
              "              style=\"display:none;\">\n",
              "        \n",
              "  <svg xmlns=\"http://www.w3.org/2000/svg\" height=\"24px\"viewBox=\"0 0 24 24\"\n",
              "       width=\"24px\">\n",
              "    <path d=\"M0 0h24v24H0V0z\" fill=\"none\"/>\n",
              "    <path d=\"M18.56 5.44l.94 2.06.94-2.06 2.06-.94-2.06-.94-.94-2.06-.94 2.06-2.06.94zm-11 1L8.5 8.5l.94-2.06 2.06-.94-2.06-.94L8.5 2.5l-.94 2.06-2.06.94zm10 10l.94 2.06.94-2.06 2.06-.94-2.06-.94-.94-2.06-.94 2.06-2.06.94z\"/><path d=\"M17.41 7.96l-1.37-1.37c-.4-.4-.92-.59-1.43-.59-.52 0-1.04.2-1.43.59L10.3 9.45l-7.72 7.72c-.78.78-.78 2.05 0 2.83L4 21.41c.39.39.9.59 1.41.59.51 0 1.02-.2 1.41-.59l7.78-7.78 2.81-2.81c.8-.78.8-2.07 0-2.86zM5.41 20L4 18.59l7.72-7.72 1.47 1.35L5.41 20z\"/>\n",
              "  </svg>\n",
              "      </button>\n",
              "      \n",
              "  <style>\n",
              "    .colab-df-container {\n",
              "      display:flex;\n",
              "      flex-wrap:wrap;\n",
              "      gap: 12px;\n",
              "    }\n",
              "\n",
              "    .colab-df-convert {\n",
              "      background-color: #E8F0FE;\n",
              "      border: none;\n",
              "      border-radius: 50%;\n",
              "      cursor: pointer;\n",
              "      display: none;\n",
              "      fill: #1967D2;\n",
              "      height: 32px;\n",
              "      padding: 0 0 0 0;\n",
              "      width: 32px;\n",
              "    }\n",
              "\n",
              "    .colab-df-convert:hover {\n",
              "      background-color: #E2EBFA;\n",
              "      box-shadow: 0px 1px 2px rgba(60, 64, 67, 0.3), 0px 1px 3px 1px rgba(60, 64, 67, 0.15);\n",
              "      fill: #174EA6;\n",
              "    }\n",
              "\n",
              "    [theme=dark] .colab-df-convert {\n",
              "      background-color: #3B4455;\n",
              "      fill: #D2E3FC;\n",
              "    }\n",
              "\n",
              "    [theme=dark] .colab-df-convert:hover {\n",
              "      background-color: #434B5C;\n",
              "      box-shadow: 0px 1px 3px 1px rgba(0, 0, 0, 0.15);\n",
              "      filter: drop-shadow(0px 1px 2px rgba(0, 0, 0, 0.3));\n",
              "      fill: #FFFFFF;\n",
              "    }\n",
              "  </style>\n",
              "\n",
              "      <script>\n",
              "        const buttonEl =\n",
              "          document.querySelector('#df-acbc3591-dd79-4936-99f5-1e628453ef11 button.colab-df-convert');\n",
              "        buttonEl.style.display =\n",
              "          google.colab.kernel.accessAllowed ? 'block' : 'none';\n",
              "\n",
              "        async function convertToInteractive(key) {\n",
              "          const element = document.querySelector('#df-acbc3591-dd79-4936-99f5-1e628453ef11');\n",
              "          const dataTable =\n",
              "            await google.colab.kernel.invokeFunction('convertToInteractive',\n",
              "                                                     [key], {});\n",
              "          if (!dataTable) return;\n",
              "\n",
              "          const docLinkHtml = 'Like what you see? Visit the ' +\n",
              "            '<a target=\"_blank\" href=https://colab.research.google.com/notebooks/data_table.ipynb>data table notebook</a>'\n",
              "            + ' to learn more about interactive tables.';\n",
              "          element.innerHTML = '';\n",
              "          dataTable['output_type'] = 'display_data';\n",
              "          await google.colab.output.renderOutput(dataTable, element);\n",
              "          const docLink = document.createElement('div');\n",
              "          docLink.innerHTML = docLinkHtml;\n",
              "          element.appendChild(docLink);\n",
              "        }\n",
              "      </script>\n",
              "    </div>\n",
              "  </div>\n",
              "  "
            ]
          },
          "metadata": {},
          "execution_count": 5
        }
      ]
    },
    {
      "cell_type": "code",
      "source": [
        "df.tail()"
      ],
      "metadata": {
        "colab": {
          "base_uri": "https://localhost:8080/",
          "height": 270
        },
        "id": "6OGTRA_lkhvC",
        "outputId": "685123ca-f028-438c-bb17-08c1e3936e49"
      },
      "execution_count": 6,
      "outputs": [
        {
          "output_type": "execute_result",
          "data": {
            "text/plain": [
              "      battery_power  blue  clock_speed  dual_sim  fc  four_g  int_memory  \\\n",
              "1995            794     1          0.5         1   0       1           2   \n",
              "1996           1965     1          2.6         1   0       0          39   \n",
              "1997           1911     0          0.9         1   1       1          36   \n",
              "1998           1512     0          0.9         0   4       1          46   \n",
              "1999            510     1          2.0         1   5       1          45   \n",
              "\n",
              "      m_dep  mobile_wt  n_cores  pc  px_height  px_width   ram  sc_h  sc_w  \\\n",
              "1995    0.8        106        6  14       1222      1890   668    13     4   \n",
              "1996    0.2        187        4   3        915      1965  2032    11    10   \n",
              "1997    0.7        108        8   3        868      1632  3057     9     1   \n",
              "1998    0.1        145        5   5        336       670   869    18    10   \n",
              "1999    0.9        168        6  16        483       754  3919    19     4   \n",
              "\n",
              "      talk_time  three_g  touch_screen  wifi  price_range  \n",
              "1995         19        1             1     0            0  \n",
              "1996         16        1             1     1            2  \n",
              "1997          5        1             1     0            3  \n",
              "1998         19        1             1     1            0  \n",
              "1999          2        1             1     1            3  "
            ],
            "text/html": [
              "\n",
              "  <div id=\"df-af42b294-8974-49be-84e9-ea0c733b12a3\">\n",
              "    <div class=\"colab-df-container\">\n",
              "      <div>\n",
              "<style scoped>\n",
              "    .dataframe tbody tr th:only-of-type {\n",
              "        vertical-align: middle;\n",
              "    }\n",
              "\n",
              "    .dataframe tbody tr th {\n",
              "        vertical-align: top;\n",
              "    }\n",
              "\n",
              "    .dataframe thead th {\n",
              "        text-align: right;\n",
              "    }\n",
              "</style>\n",
              "<table border=\"1\" class=\"dataframe\">\n",
              "  <thead>\n",
              "    <tr style=\"text-align: right;\">\n",
              "      <th></th>\n",
              "      <th>battery_power</th>\n",
              "      <th>blue</th>\n",
              "      <th>clock_speed</th>\n",
              "      <th>dual_sim</th>\n",
              "      <th>fc</th>\n",
              "      <th>four_g</th>\n",
              "      <th>int_memory</th>\n",
              "      <th>m_dep</th>\n",
              "      <th>mobile_wt</th>\n",
              "      <th>n_cores</th>\n",
              "      <th>pc</th>\n",
              "      <th>px_height</th>\n",
              "      <th>px_width</th>\n",
              "      <th>ram</th>\n",
              "      <th>sc_h</th>\n",
              "      <th>sc_w</th>\n",
              "      <th>talk_time</th>\n",
              "      <th>three_g</th>\n",
              "      <th>touch_screen</th>\n",
              "      <th>wifi</th>\n",
              "      <th>price_range</th>\n",
              "    </tr>\n",
              "  </thead>\n",
              "  <tbody>\n",
              "    <tr>\n",
              "      <th>1995</th>\n",
              "      <td>794</td>\n",
              "      <td>1</td>\n",
              "      <td>0.5</td>\n",
              "      <td>1</td>\n",
              "      <td>0</td>\n",
              "      <td>1</td>\n",
              "      <td>2</td>\n",
              "      <td>0.8</td>\n",
              "      <td>106</td>\n",
              "      <td>6</td>\n",
              "      <td>14</td>\n",
              "      <td>1222</td>\n",
              "      <td>1890</td>\n",
              "      <td>668</td>\n",
              "      <td>13</td>\n",
              "      <td>4</td>\n",
              "      <td>19</td>\n",
              "      <td>1</td>\n",
              "      <td>1</td>\n",
              "      <td>0</td>\n",
              "      <td>0</td>\n",
              "    </tr>\n",
              "    <tr>\n",
              "      <th>1996</th>\n",
              "      <td>1965</td>\n",
              "      <td>1</td>\n",
              "      <td>2.6</td>\n",
              "      <td>1</td>\n",
              "      <td>0</td>\n",
              "      <td>0</td>\n",
              "      <td>39</td>\n",
              "      <td>0.2</td>\n",
              "      <td>187</td>\n",
              "      <td>4</td>\n",
              "      <td>3</td>\n",
              "      <td>915</td>\n",
              "      <td>1965</td>\n",
              "      <td>2032</td>\n",
              "      <td>11</td>\n",
              "      <td>10</td>\n",
              "      <td>16</td>\n",
              "      <td>1</td>\n",
              "      <td>1</td>\n",
              "      <td>1</td>\n",
              "      <td>2</td>\n",
              "    </tr>\n",
              "    <tr>\n",
              "      <th>1997</th>\n",
              "      <td>1911</td>\n",
              "      <td>0</td>\n",
              "      <td>0.9</td>\n",
              "      <td>1</td>\n",
              "      <td>1</td>\n",
              "      <td>1</td>\n",
              "      <td>36</td>\n",
              "      <td>0.7</td>\n",
              "      <td>108</td>\n",
              "      <td>8</td>\n",
              "      <td>3</td>\n",
              "      <td>868</td>\n",
              "      <td>1632</td>\n",
              "      <td>3057</td>\n",
              "      <td>9</td>\n",
              "      <td>1</td>\n",
              "      <td>5</td>\n",
              "      <td>1</td>\n",
              "      <td>1</td>\n",
              "      <td>0</td>\n",
              "      <td>3</td>\n",
              "    </tr>\n",
              "    <tr>\n",
              "      <th>1998</th>\n",
              "      <td>1512</td>\n",
              "      <td>0</td>\n",
              "      <td>0.9</td>\n",
              "      <td>0</td>\n",
              "      <td>4</td>\n",
              "      <td>1</td>\n",
              "      <td>46</td>\n",
              "      <td>0.1</td>\n",
              "      <td>145</td>\n",
              "      <td>5</td>\n",
              "      <td>5</td>\n",
              "      <td>336</td>\n",
              "      <td>670</td>\n",
              "      <td>869</td>\n",
              "      <td>18</td>\n",
              "      <td>10</td>\n",
              "      <td>19</td>\n",
              "      <td>1</td>\n",
              "      <td>1</td>\n",
              "      <td>1</td>\n",
              "      <td>0</td>\n",
              "    </tr>\n",
              "    <tr>\n",
              "      <th>1999</th>\n",
              "      <td>510</td>\n",
              "      <td>1</td>\n",
              "      <td>2.0</td>\n",
              "      <td>1</td>\n",
              "      <td>5</td>\n",
              "      <td>1</td>\n",
              "      <td>45</td>\n",
              "      <td>0.9</td>\n",
              "      <td>168</td>\n",
              "      <td>6</td>\n",
              "      <td>16</td>\n",
              "      <td>483</td>\n",
              "      <td>754</td>\n",
              "      <td>3919</td>\n",
              "      <td>19</td>\n",
              "      <td>4</td>\n",
              "      <td>2</td>\n",
              "      <td>1</td>\n",
              "      <td>1</td>\n",
              "      <td>1</td>\n",
              "      <td>3</td>\n",
              "    </tr>\n",
              "  </tbody>\n",
              "</table>\n",
              "</div>\n",
              "      <button class=\"colab-df-convert\" onclick=\"convertToInteractive('df-af42b294-8974-49be-84e9-ea0c733b12a3')\"\n",
              "              title=\"Convert this dataframe to an interactive table.\"\n",
              "              style=\"display:none;\">\n",
              "        \n",
              "  <svg xmlns=\"http://www.w3.org/2000/svg\" height=\"24px\"viewBox=\"0 0 24 24\"\n",
              "       width=\"24px\">\n",
              "    <path d=\"M0 0h24v24H0V0z\" fill=\"none\"/>\n",
              "    <path d=\"M18.56 5.44l.94 2.06.94-2.06 2.06-.94-2.06-.94-.94-2.06-.94 2.06-2.06.94zm-11 1L8.5 8.5l.94-2.06 2.06-.94-2.06-.94L8.5 2.5l-.94 2.06-2.06.94zm10 10l.94 2.06.94-2.06 2.06-.94-2.06-.94-.94-2.06-.94 2.06-2.06.94z\"/><path d=\"M17.41 7.96l-1.37-1.37c-.4-.4-.92-.59-1.43-.59-.52 0-1.04.2-1.43.59L10.3 9.45l-7.72 7.72c-.78.78-.78 2.05 0 2.83L4 21.41c.39.39.9.59 1.41.59.51 0 1.02-.2 1.41-.59l7.78-7.78 2.81-2.81c.8-.78.8-2.07 0-2.86zM5.41 20L4 18.59l7.72-7.72 1.47 1.35L5.41 20z\"/>\n",
              "  </svg>\n",
              "      </button>\n",
              "      \n",
              "  <style>\n",
              "    .colab-df-container {\n",
              "      display:flex;\n",
              "      flex-wrap:wrap;\n",
              "      gap: 12px;\n",
              "    }\n",
              "\n",
              "    .colab-df-convert {\n",
              "      background-color: #E8F0FE;\n",
              "      border: none;\n",
              "      border-radius: 50%;\n",
              "      cursor: pointer;\n",
              "      display: none;\n",
              "      fill: #1967D2;\n",
              "      height: 32px;\n",
              "      padding: 0 0 0 0;\n",
              "      width: 32px;\n",
              "    }\n",
              "\n",
              "    .colab-df-convert:hover {\n",
              "      background-color: #E2EBFA;\n",
              "      box-shadow: 0px 1px 2px rgba(60, 64, 67, 0.3), 0px 1px 3px 1px rgba(60, 64, 67, 0.15);\n",
              "      fill: #174EA6;\n",
              "    }\n",
              "\n",
              "    [theme=dark] .colab-df-convert {\n",
              "      background-color: #3B4455;\n",
              "      fill: #D2E3FC;\n",
              "    }\n",
              "\n",
              "    [theme=dark] .colab-df-convert:hover {\n",
              "      background-color: #434B5C;\n",
              "      box-shadow: 0px 1px 3px 1px rgba(0, 0, 0, 0.15);\n",
              "      filter: drop-shadow(0px 1px 2px rgba(0, 0, 0, 0.3));\n",
              "      fill: #FFFFFF;\n",
              "    }\n",
              "  </style>\n",
              "\n",
              "      <script>\n",
              "        const buttonEl =\n",
              "          document.querySelector('#df-af42b294-8974-49be-84e9-ea0c733b12a3 button.colab-df-convert');\n",
              "        buttonEl.style.display =\n",
              "          google.colab.kernel.accessAllowed ? 'block' : 'none';\n",
              "\n",
              "        async function convertToInteractive(key) {\n",
              "          const element = document.querySelector('#df-af42b294-8974-49be-84e9-ea0c733b12a3');\n",
              "          const dataTable =\n",
              "            await google.colab.kernel.invokeFunction('convertToInteractive',\n",
              "                                                     [key], {});\n",
              "          if (!dataTable) return;\n",
              "\n",
              "          const docLinkHtml = 'Like what you see? Visit the ' +\n",
              "            '<a target=\"_blank\" href=https://colab.research.google.com/notebooks/data_table.ipynb>data table notebook</a>'\n",
              "            + ' to learn more about interactive tables.';\n",
              "          element.innerHTML = '';\n",
              "          dataTable['output_type'] = 'display_data';\n",
              "          await google.colab.output.renderOutput(dataTable, element);\n",
              "          const docLink = document.createElement('div');\n",
              "          docLink.innerHTML = docLinkHtml;\n",
              "          element.appendChild(docLink);\n",
              "        }\n",
              "      </script>\n",
              "    </div>\n",
              "  </div>\n",
              "  "
            ]
          },
          "metadata": {},
          "execution_count": 6
        }
      ]
    },
    {
      "cell_type": "code",
      "source": [
        "df.columns"
      ],
      "metadata": {
        "colab": {
          "base_uri": "https://localhost:8080/"
        },
        "id": "EzXGX5LcklHd",
        "outputId": "4772508b-e191-4c8f-9446-2d8ababc6278"
      },
      "execution_count": 7,
      "outputs": [
        {
          "output_type": "execute_result",
          "data": {
            "text/plain": [
              "Index(['battery_power', 'blue', 'clock_speed', 'dual_sim', 'fc', 'four_g',\n",
              "       'int_memory', 'm_dep', 'mobile_wt', 'n_cores', 'pc', 'px_height',\n",
              "       'px_width', 'ram', 'sc_h', 'sc_w', 'talk_time', 'three_g',\n",
              "       'touch_screen', 'wifi', 'price_range'],\n",
              "      dtype='object')"
            ]
          },
          "metadata": {},
          "execution_count": 7
        }
      ]
    },
    {
      "cell_type": "code",
      "source": [
        "df.shape"
      ],
      "metadata": {
        "colab": {
          "base_uri": "https://localhost:8080/"
        },
        "id": "6MN8ttVwkqrq",
        "outputId": "3d8620cb-7dd6-4b36-ef56-f3fc0a03580d"
      },
      "execution_count": 8,
      "outputs": [
        {
          "output_type": "execute_result",
          "data": {
            "text/plain": [
              "(2000, 21)"
            ]
          },
          "metadata": {},
          "execution_count": 8
        }
      ]
    },
    {
      "cell_type": "code",
      "source": [
        "df.info()"
      ],
      "metadata": {
        "colab": {
          "base_uri": "https://localhost:8080/"
        },
        "id": "UNfB_inekstj",
        "outputId": "dc52e20d-9262-46b9-b8e8-dcb39a163790"
      },
      "execution_count": 9,
      "outputs": [
        {
          "output_type": "stream",
          "name": "stdout",
          "text": [
            "<class 'pandas.core.frame.DataFrame'>\n",
            "RangeIndex: 2000 entries, 0 to 1999\n",
            "Data columns (total 21 columns):\n",
            " #   Column         Non-Null Count  Dtype  \n",
            "---  ------         --------------  -----  \n",
            " 0   battery_power  2000 non-null   int64  \n",
            " 1   blue           2000 non-null   int64  \n",
            " 2   clock_speed    2000 non-null   float64\n",
            " 3   dual_sim       2000 non-null   int64  \n",
            " 4   fc             2000 non-null   int64  \n",
            " 5   four_g         2000 non-null   int64  \n",
            " 6   int_memory     2000 non-null   int64  \n",
            " 7   m_dep          2000 non-null   float64\n",
            " 8   mobile_wt      2000 non-null   int64  \n",
            " 9   n_cores        2000 non-null   int64  \n",
            " 10  pc             2000 non-null   int64  \n",
            " 11  px_height      2000 non-null   int64  \n",
            " 12  px_width       2000 non-null   int64  \n",
            " 13  ram            2000 non-null   int64  \n",
            " 14  sc_h           2000 non-null   int64  \n",
            " 15  sc_w           2000 non-null   int64  \n",
            " 16  talk_time      2000 non-null   int64  \n",
            " 17  three_g        2000 non-null   int64  \n",
            " 18  touch_screen   2000 non-null   int64  \n",
            " 19  wifi           2000 non-null   int64  \n",
            " 20  price_range    2000 non-null   int64  \n",
            "dtypes: float64(2), int64(19)\n",
            "memory usage: 328.2 KB\n"
          ]
        }
      ]
    },
    {
      "cell_type": "code",
      "source": [
        "df.describe()"
      ],
      "metadata": {
        "colab": {
          "base_uri": "https://localhost:8080/",
          "height": 364
        },
        "id": "KVPb3DyDku3P",
        "outputId": "b181e548-f6fe-4d5f-ede6-e7e200e0b94f"
      },
      "execution_count": 10,
      "outputs": [
        {
          "output_type": "execute_result",
          "data": {
            "text/plain": [
              "       battery_power       blue  clock_speed     dual_sim           fc  \\\n",
              "count    2000.000000  2000.0000  2000.000000  2000.000000  2000.000000   \n",
              "mean     1238.518500     0.4950     1.522250     0.509500     4.309500   \n",
              "std       439.418206     0.5001     0.816004     0.500035     4.341444   \n",
              "min       501.000000     0.0000     0.500000     0.000000     0.000000   \n",
              "25%       851.750000     0.0000     0.700000     0.000000     1.000000   \n",
              "50%      1226.000000     0.0000     1.500000     1.000000     3.000000   \n",
              "75%      1615.250000     1.0000     2.200000     1.000000     7.000000   \n",
              "max      1998.000000     1.0000     3.000000     1.000000    19.000000   \n",
              "\n",
              "            four_g   int_memory        m_dep    mobile_wt      n_cores  \\\n",
              "count  2000.000000  2000.000000  2000.000000  2000.000000  2000.000000   \n",
              "mean      0.521500    32.046500     0.501750   140.249000     4.520500   \n",
              "std       0.499662    18.145715     0.288416    35.399655     2.287837   \n",
              "min       0.000000     2.000000     0.100000    80.000000     1.000000   \n",
              "25%       0.000000    16.000000     0.200000   109.000000     3.000000   \n",
              "50%       1.000000    32.000000     0.500000   141.000000     4.000000   \n",
              "75%       1.000000    48.000000     0.800000   170.000000     7.000000   \n",
              "max       1.000000    64.000000     1.000000   200.000000     8.000000   \n",
              "\n",
              "                pc    px_height     px_width          ram         sc_h  \\\n",
              "count  2000.000000  2000.000000  2000.000000  2000.000000  2000.000000   \n",
              "mean      9.916500   645.108000  1251.515500  2124.213000    12.306500   \n",
              "std       6.064315   443.780811   432.199447  1084.732044     4.213245   \n",
              "min       0.000000     0.000000   500.000000   256.000000     5.000000   \n",
              "25%       5.000000   282.750000   874.750000  1207.500000     9.000000   \n",
              "50%      10.000000   564.000000  1247.000000  2146.500000    12.000000   \n",
              "75%      15.000000   947.250000  1633.000000  3064.500000    16.000000   \n",
              "max      20.000000  1960.000000  1998.000000  3998.000000    19.000000   \n",
              "\n",
              "              sc_w    talk_time      three_g  touch_screen         wifi  \\\n",
              "count  2000.000000  2000.000000  2000.000000   2000.000000  2000.000000   \n",
              "mean      5.767000    11.011000     0.761500      0.503000     0.507000   \n",
              "std       4.356398     5.463955     0.426273      0.500116     0.500076   \n",
              "min       0.000000     2.000000     0.000000      0.000000     0.000000   \n",
              "25%       2.000000     6.000000     1.000000      0.000000     0.000000   \n",
              "50%       5.000000    11.000000     1.000000      1.000000     1.000000   \n",
              "75%       9.000000    16.000000     1.000000      1.000000     1.000000   \n",
              "max      18.000000    20.000000     1.000000      1.000000     1.000000   \n",
              "\n",
              "       price_range  \n",
              "count  2000.000000  \n",
              "mean      1.500000  \n",
              "std       1.118314  \n",
              "min       0.000000  \n",
              "25%       0.750000  \n",
              "50%       1.500000  \n",
              "75%       2.250000  \n",
              "max       3.000000  "
            ],
            "text/html": [
              "\n",
              "  <div id=\"df-4eaf091e-ce88-4862-997d-e6888c172128\">\n",
              "    <div class=\"colab-df-container\">\n",
              "      <div>\n",
              "<style scoped>\n",
              "    .dataframe tbody tr th:only-of-type {\n",
              "        vertical-align: middle;\n",
              "    }\n",
              "\n",
              "    .dataframe tbody tr th {\n",
              "        vertical-align: top;\n",
              "    }\n",
              "\n",
              "    .dataframe thead th {\n",
              "        text-align: right;\n",
              "    }\n",
              "</style>\n",
              "<table border=\"1\" class=\"dataframe\">\n",
              "  <thead>\n",
              "    <tr style=\"text-align: right;\">\n",
              "      <th></th>\n",
              "      <th>battery_power</th>\n",
              "      <th>blue</th>\n",
              "      <th>clock_speed</th>\n",
              "      <th>dual_sim</th>\n",
              "      <th>fc</th>\n",
              "      <th>four_g</th>\n",
              "      <th>int_memory</th>\n",
              "      <th>m_dep</th>\n",
              "      <th>mobile_wt</th>\n",
              "      <th>n_cores</th>\n",
              "      <th>pc</th>\n",
              "      <th>px_height</th>\n",
              "      <th>px_width</th>\n",
              "      <th>ram</th>\n",
              "      <th>sc_h</th>\n",
              "      <th>sc_w</th>\n",
              "      <th>talk_time</th>\n",
              "      <th>three_g</th>\n",
              "      <th>touch_screen</th>\n",
              "      <th>wifi</th>\n",
              "      <th>price_range</th>\n",
              "    </tr>\n",
              "  </thead>\n",
              "  <tbody>\n",
              "    <tr>\n",
              "      <th>count</th>\n",
              "      <td>2000.000000</td>\n",
              "      <td>2000.0000</td>\n",
              "      <td>2000.000000</td>\n",
              "      <td>2000.000000</td>\n",
              "      <td>2000.000000</td>\n",
              "      <td>2000.000000</td>\n",
              "      <td>2000.000000</td>\n",
              "      <td>2000.000000</td>\n",
              "      <td>2000.000000</td>\n",
              "      <td>2000.000000</td>\n",
              "      <td>2000.000000</td>\n",
              "      <td>2000.000000</td>\n",
              "      <td>2000.000000</td>\n",
              "      <td>2000.000000</td>\n",
              "      <td>2000.000000</td>\n",
              "      <td>2000.000000</td>\n",
              "      <td>2000.000000</td>\n",
              "      <td>2000.000000</td>\n",
              "      <td>2000.000000</td>\n",
              "      <td>2000.000000</td>\n",
              "      <td>2000.000000</td>\n",
              "    </tr>\n",
              "    <tr>\n",
              "      <th>mean</th>\n",
              "      <td>1238.518500</td>\n",
              "      <td>0.4950</td>\n",
              "      <td>1.522250</td>\n",
              "      <td>0.509500</td>\n",
              "      <td>4.309500</td>\n",
              "      <td>0.521500</td>\n",
              "      <td>32.046500</td>\n",
              "      <td>0.501750</td>\n",
              "      <td>140.249000</td>\n",
              "      <td>4.520500</td>\n",
              "      <td>9.916500</td>\n",
              "      <td>645.108000</td>\n",
              "      <td>1251.515500</td>\n",
              "      <td>2124.213000</td>\n",
              "      <td>12.306500</td>\n",
              "      <td>5.767000</td>\n",
              "      <td>11.011000</td>\n",
              "      <td>0.761500</td>\n",
              "      <td>0.503000</td>\n",
              "      <td>0.507000</td>\n",
              "      <td>1.500000</td>\n",
              "    </tr>\n",
              "    <tr>\n",
              "      <th>std</th>\n",
              "      <td>439.418206</td>\n",
              "      <td>0.5001</td>\n",
              "      <td>0.816004</td>\n",
              "      <td>0.500035</td>\n",
              "      <td>4.341444</td>\n",
              "      <td>0.499662</td>\n",
              "      <td>18.145715</td>\n",
              "      <td>0.288416</td>\n",
              "      <td>35.399655</td>\n",
              "      <td>2.287837</td>\n",
              "      <td>6.064315</td>\n",
              "      <td>443.780811</td>\n",
              "      <td>432.199447</td>\n",
              "      <td>1084.732044</td>\n",
              "      <td>4.213245</td>\n",
              "      <td>4.356398</td>\n",
              "      <td>5.463955</td>\n",
              "      <td>0.426273</td>\n",
              "      <td>0.500116</td>\n",
              "      <td>0.500076</td>\n",
              "      <td>1.118314</td>\n",
              "    </tr>\n",
              "    <tr>\n",
              "      <th>min</th>\n",
              "      <td>501.000000</td>\n",
              "      <td>0.0000</td>\n",
              "      <td>0.500000</td>\n",
              "      <td>0.000000</td>\n",
              "      <td>0.000000</td>\n",
              "      <td>0.000000</td>\n",
              "      <td>2.000000</td>\n",
              "      <td>0.100000</td>\n",
              "      <td>80.000000</td>\n",
              "      <td>1.000000</td>\n",
              "      <td>0.000000</td>\n",
              "      <td>0.000000</td>\n",
              "      <td>500.000000</td>\n",
              "      <td>256.000000</td>\n",
              "      <td>5.000000</td>\n",
              "      <td>0.000000</td>\n",
              "      <td>2.000000</td>\n",
              "      <td>0.000000</td>\n",
              "      <td>0.000000</td>\n",
              "      <td>0.000000</td>\n",
              "      <td>0.000000</td>\n",
              "    </tr>\n",
              "    <tr>\n",
              "      <th>25%</th>\n",
              "      <td>851.750000</td>\n",
              "      <td>0.0000</td>\n",
              "      <td>0.700000</td>\n",
              "      <td>0.000000</td>\n",
              "      <td>1.000000</td>\n",
              "      <td>0.000000</td>\n",
              "      <td>16.000000</td>\n",
              "      <td>0.200000</td>\n",
              "      <td>109.000000</td>\n",
              "      <td>3.000000</td>\n",
              "      <td>5.000000</td>\n",
              "      <td>282.750000</td>\n",
              "      <td>874.750000</td>\n",
              "      <td>1207.500000</td>\n",
              "      <td>9.000000</td>\n",
              "      <td>2.000000</td>\n",
              "      <td>6.000000</td>\n",
              "      <td>1.000000</td>\n",
              "      <td>0.000000</td>\n",
              "      <td>0.000000</td>\n",
              "      <td>0.750000</td>\n",
              "    </tr>\n",
              "    <tr>\n",
              "      <th>50%</th>\n",
              "      <td>1226.000000</td>\n",
              "      <td>0.0000</td>\n",
              "      <td>1.500000</td>\n",
              "      <td>1.000000</td>\n",
              "      <td>3.000000</td>\n",
              "      <td>1.000000</td>\n",
              "      <td>32.000000</td>\n",
              "      <td>0.500000</td>\n",
              "      <td>141.000000</td>\n",
              "      <td>4.000000</td>\n",
              "      <td>10.000000</td>\n",
              "      <td>564.000000</td>\n",
              "      <td>1247.000000</td>\n",
              "      <td>2146.500000</td>\n",
              "      <td>12.000000</td>\n",
              "      <td>5.000000</td>\n",
              "      <td>11.000000</td>\n",
              "      <td>1.000000</td>\n",
              "      <td>1.000000</td>\n",
              "      <td>1.000000</td>\n",
              "      <td>1.500000</td>\n",
              "    </tr>\n",
              "    <tr>\n",
              "      <th>75%</th>\n",
              "      <td>1615.250000</td>\n",
              "      <td>1.0000</td>\n",
              "      <td>2.200000</td>\n",
              "      <td>1.000000</td>\n",
              "      <td>7.000000</td>\n",
              "      <td>1.000000</td>\n",
              "      <td>48.000000</td>\n",
              "      <td>0.800000</td>\n",
              "      <td>170.000000</td>\n",
              "      <td>7.000000</td>\n",
              "      <td>15.000000</td>\n",
              "      <td>947.250000</td>\n",
              "      <td>1633.000000</td>\n",
              "      <td>3064.500000</td>\n",
              "      <td>16.000000</td>\n",
              "      <td>9.000000</td>\n",
              "      <td>16.000000</td>\n",
              "      <td>1.000000</td>\n",
              "      <td>1.000000</td>\n",
              "      <td>1.000000</td>\n",
              "      <td>2.250000</td>\n",
              "    </tr>\n",
              "    <tr>\n",
              "      <th>max</th>\n",
              "      <td>1998.000000</td>\n",
              "      <td>1.0000</td>\n",
              "      <td>3.000000</td>\n",
              "      <td>1.000000</td>\n",
              "      <td>19.000000</td>\n",
              "      <td>1.000000</td>\n",
              "      <td>64.000000</td>\n",
              "      <td>1.000000</td>\n",
              "      <td>200.000000</td>\n",
              "      <td>8.000000</td>\n",
              "      <td>20.000000</td>\n",
              "      <td>1960.000000</td>\n",
              "      <td>1998.000000</td>\n",
              "      <td>3998.000000</td>\n",
              "      <td>19.000000</td>\n",
              "      <td>18.000000</td>\n",
              "      <td>20.000000</td>\n",
              "      <td>1.000000</td>\n",
              "      <td>1.000000</td>\n",
              "      <td>1.000000</td>\n",
              "      <td>3.000000</td>\n",
              "    </tr>\n",
              "  </tbody>\n",
              "</table>\n",
              "</div>\n",
              "      <button class=\"colab-df-convert\" onclick=\"convertToInteractive('df-4eaf091e-ce88-4862-997d-e6888c172128')\"\n",
              "              title=\"Convert this dataframe to an interactive table.\"\n",
              "              style=\"display:none;\">\n",
              "        \n",
              "  <svg xmlns=\"http://www.w3.org/2000/svg\" height=\"24px\"viewBox=\"0 0 24 24\"\n",
              "       width=\"24px\">\n",
              "    <path d=\"M0 0h24v24H0V0z\" fill=\"none\"/>\n",
              "    <path d=\"M18.56 5.44l.94 2.06.94-2.06 2.06-.94-2.06-.94-.94-2.06-.94 2.06-2.06.94zm-11 1L8.5 8.5l.94-2.06 2.06-.94-2.06-.94L8.5 2.5l-.94 2.06-2.06.94zm10 10l.94 2.06.94-2.06 2.06-.94-2.06-.94-.94-2.06-.94 2.06-2.06.94z\"/><path d=\"M17.41 7.96l-1.37-1.37c-.4-.4-.92-.59-1.43-.59-.52 0-1.04.2-1.43.59L10.3 9.45l-7.72 7.72c-.78.78-.78 2.05 0 2.83L4 21.41c.39.39.9.59 1.41.59.51 0 1.02-.2 1.41-.59l7.78-7.78 2.81-2.81c.8-.78.8-2.07 0-2.86zM5.41 20L4 18.59l7.72-7.72 1.47 1.35L5.41 20z\"/>\n",
              "  </svg>\n",
              "      </button>\n",
              "      \n",
              "  <style>\n",
              "    .colab-df-container {\n",
              "      display:flex;\n",
              "      flex-wrap:wrap;\n",
              "      gap: 12px;\n",
              "    }\n",
              "\n",
              "    .colab-df-convert {\n",
              "      background-color: #E8F0FE;\n",
              "      border: none;\n",
              "      border-radius: 50%;\n",
              "      cursor: pointer;\n",
              "      display: none;\n",
              "      fill: #1967D2;\n",
              "      height: 32px;\n",
              "      padding: 0 0 0 0;\n",
              "      width: 32px;\n",
              "    }\n",
              "\n",
              "    .colab-df-convert:hover {\n",
              "      background-color: #E2EBFA;\n",
              "      box-shadow: 0px 1px 2px rgba(60, 64, 67, 0.3), 0px 1px 3px 1px rgba(60, 64, 67, 0.15);\n",
              "      fill: #174EA6;\n",
              "    }\n",
              "\n",
              "    [theme=dark] .colab-df-convert {\n",
              "      background-color: #3B4455;\n",
              "      fill: #D2E3FC;\n",
              "    }\n",
              "\n",
              "    [theme=dark] .colab-df-convert:hover {\n",
              "      background-color: #434B5C;\n",
              "      box-shadow: 0px 1px 3px 1px rgba(0, 0, 0, 0.15);\n",
              "      filter: drop-shadow(0px 1px 2px rgba(0, 0, 0, 0.3));\n",
              "      fill: #FFFFFF;\n",
              "    }\n",
              "  </style>\n",
              "\n",
              "      <script>\n",
              "        const buttonEl =\n",
              "          document.querySelector('#df-4eaf091e-ce88-4862-997d-e6888c172128 button.colab-df-convert');\n",
              "        buttonEl.style.display =\n",
              "          google.colab.kernel.accessAllowed ? 'block' : 'none';\n",
              "\n",
              "        async function convertToInteractive(key) {\n",
              "          const element = document.querySelector('#df-4eaf091e-ce88-4862-997d-e6888c172128');\n",
              "          const dataTable =\n",
              "            await google.colab.kernel.invokeFunction('convertToInteractive',\n",
              "                                                     [key], {});\n",
              "          if (!dataTable) return;\n",
              "\n",
              "          const docLinkHtml = 'Like what you see? Visit the ' +\n",
              "            '<a target=\"_blank\" href=https://colab.research.google.com/notebooks/data_table.ipynb>data table notebook</a>'\n",
              "            + ' to learn more about interactive tables.';\n",
              "          element.innerHTML = '';\n",
              "          dataTable['output_type'] = 'display_data';\n",
              "          await google.colab.output.renderOutput(dataTable, element);\n",
              "          const docLink = document.createElement('div');\n",
              "          docLink.innerHTML = docLinkHtml;\n",
              "          element.appendChild(docLink);\n",
              "        }\n",
              "      </script>\n",
              "    </div>\n",
              "  </div>\n",
              "  "
            ]
          },
          "metadata": {},
          "execution_count": 10
        }
      ]
    },
    {
      "cell_type": "code",
      "source": [
        "# check for Null values or missing values\n",
        "df.isnull().sum()"
      ],
      "metadata": {
        "colab": {
          "base_uri": "https://localhost:8080/"
        },
        "id": "TOo0GOupkyY0",
        "outputId": "478ea333-cb05-4b23-ff8f-91cb5fa84180"
      },
      "execution_count": 11,
      "outputs": [
        {
          "output_type": "execute_result",
          "data": {
            "text/plain": [
              "battery_power    0\n",
              "blue             0\n",
              "clock_speed      0\n",
              "dual_sim         0\n",
              "fc               0\n",
              "four_g           0\n",
              "int_memory       0\n",
              "m_dep            0\n",
              "mobile_wt        0\n",
              "n_cores          0\n",
              "pc               0\n",
              "px_height        0\n",
              "px_width         0\n",
              "ram              0\n",
              "sc_h             0\n",
              "sc_w             0\n",
              "talk_time        0\n",
              "three_g          0\n",
              "touch_screen     0\n",
              "wifi             0\n",
              "price_range      0\n",
              "dtype: int64"
            ]
          },
          "metadata": {},
          "execution_count": 11
        }
      ]
    },
    {
      "cell_type": "code",
      "source": [
        "df_mobile=df.copy()"
      ],
      "metadata": {
        "id": "T2gTufIDltEF"
      },
      "execution_count": 12,
      "outputs": []
    },
    {
      "cell_type": "markdown",
      "source": [
        "## EDA"
      ],
      "metadata": {
        "id": "7wVoNQ7VlVVQ"
      }
    },
    {
      "cell_type": "code",
      "source": [
        "df_mobile.columns"
      ],
      "metadata": {
        "colab": {
          "base_uri": "https://localhost:8080/"
        },
        "id": "okcLWt5aL3r0",
        "outputId": "9fbb73b3-3eaa-48ef-a08f-e052c54cc715"
      },
      "execution_count": 13,
      "outputs": [
        {
          "output_type": "execute_result",
          "data": {
            "text/plain": [
              "Index(['battery_power', 'blue', 'clock_speed', 'dual_sim', 'fc', 'four_g',\n",
              "       'int_memory', 'm_dep', 'mobile_wt', 'n_cores', 'pc', 'px_height',\n",
              "       'px_width', 'ram', 'sc_h', 'sc_w', 'talk_time', 'three_g',\n",
              "       'touch_screen', 'wifi', 'price_range'],\n",
              "      dtype='object')"
            ]
          },
          "metadata": {},
          "execution_count": 13
        }
      ]
    },
    {
      "cell_type": "code",
      "source": [
        "df_mobile[\"blue\"].value_counts()"
      ],
      "metadata": {
        "colab": {
          "base_uri": "https://localhost:8080/"
        },
        "id": "RCjo6xF2L1Jv",
        "outputId": "6130faaf-d4cf-4d65-9da9-018faccc6a8f"
      },
      "execution_count": 14,
      "outputs": [
        {
          "output_type": "execute_result",
          "data": {
            "text/plain": [
              "0    1010\n",
              "1     990\n",
              "Name: blue, dtype: int64"
            ]
          },
          "metadata": {},
          "execution_count": 14
        }
      ]
    },
    {
      "cell_type": "code",
      "source": [
        "df_mobile[\"n_cores\"].value_counts()"
      ],
      "metadata": {
        "colab": {
          "base_uri": "https://localhost:8080/"
        },
        "id": "jqCxKrU_MADT",
        "outputId": "6dcd51ba-2d9b-442b-ba20-8cd2ec0387de"
      },
      "execution_count": 15,
      "outputs": [
        {
          "output_type": "execute_result",
          "data": {
            "text/plain": [
              "4    274\n",
              "7    259\n",
              "8    256\n",
              "2    247\n",
              "3    246\n",
              "5    246\n",
              "1    242\n",
              "6    230\n",
              "Name: n_cores, dtype: int64"
            ]
          },
          "metadata": {},
          "execution_count": 15
        }
      ]
    },
    {
      "cell_type": "code",
      "source": [
        "df_mobile[\"clock_speed\"].value_counts()"
      ],
      "metadata": {
        "colab": {
          "base_uri": "https://localhost:8080/"
        },
        "id": "IPiNPAtTMHly",
        "outputId": "415b3466-0f38-4a8b-db01-ce7b4fedecd1"
      },
      "execution_count": 16,
      "outputs": [
        {
          "output_type": "execute_result",
          "data": {
            "text/plain": [
              "0.5    413\n",
              "2.8     85\n",
              "2.3     78\n",
              "2.1     76\n",
              "1.6     76\n",
              "2.5     74\n",
              "0.6     74\n",
              "1.4     70\n",
              "1.3     68\n",
              "1.5     67\n",
              "2.0     67\n",
              "1.9     65\n",
              "0.7     64\n",
              "2.9     62\n",
              "1.8     62\n",
              "1.0     61\n",
              "1.7     60\n",
              "2.2     59\n",
              "0.9     58\n",
              "2.4     58\n",
              "0.8     58\n",
              "1.2     56\n",
              "2.6     55\n",
              "2.7     55\n",
              "1.1     51\n",
              "3.0     28\n",
              "Name: clock_speed, dtype: int64"
            ]
          },
          "metadata": {},
          "execution_count": 16
        }
      ]
    },
    {
      "cell_type": "code",
      "source": [
        "df_mobile[\"dual_sim\"].value_counts()"
      ],
      "metadata": {
        "colab": {
          "base_uri": "https://localhost:8080/"
        },
        "id": "NcuzGfdPMUEb",
        "outputId": "2f32f3b1-9fdd-4bfe-bdbc-115e9c699022"
      },
      "execution_count": 17,
      "outputs": [
        {
          "output_type": "execute_result",
          "data": {
            "text/plain": [
              "1    1019\n",
              "0     981\n",
              "Name: dual_sim, dtype: int64"
            ]
          },
          "metadata": {},
          "execution_count": 17
        }
      ]
    },
    {
      "cell_type": "code",
      "source": [
        "df_mobile[\"wifi\"].value_counts()"
      ],
      "metadata": {
        "colab": {
          "base_uri": "https://localhost:8080/"
        },
        "id": "vC06gOyLMZLm",
        "outputId": "9622d89e-41ba-4116-8736-b24382315ed2"
      },
      "execution_count": 18,
      "outputs": [
        {
          "output_type": "execute_result",
          "data": {
            "text/plain": [
              "1    1014\n",
              "0     986\n",
              "Name: wifi, dtype: int64"
            ]
          },
          "metadata": {},
          "execution_count": 18
        }
      ]
    },
    {
      "cell_type": "code",
      "source": [
        "df_mobile[\"touch_screen\"].value_counts()"
      ],
      "metadata": {
        "colab": {
          "base_uri": "https://localhost:8080/"
        },
        "id": "FtVCBILBMcD9",
        "outputId": "ffe43968-aac5-4e2c-c87b-7e8dc1bba9bb"
      },
      "execution_count": 19,
      "outputs": [
        {
          "output_type": "execute_result",
          "data": {
            "text/plain": [
              "1    1006\n",
              "0     994\n",
              "Name: touch_screen, dtype: int64"
            ]
          },
          "metadata": {},
          "execution_count": 19
        }
      ]
    },
    {
      "cell_type": "code",
      "source": [
        "df_mobile[\"price_range\"].value_counts()"
      ],
      "metadata": {
        "colab": {
          "base_uri": "https://localhost:8080/"
        },
        "id": "VJEtl5U8MgBd",
        "outputId": "f83e1fc2-9f31-4f49-8ee0-25357b11b71e"
      },
      "execution_count": 20,
      "outputs": [
        {
          "output_type": "execute_result",
          "data": {
            "text/plain": [
              "1    500\n",
              "2    500\n",
              "3    500\n",
              "0    500\n",
              "Name: price_range, dtype: int64"
            ]
          },
          "metadata": {},
          "execution_count": 20
        }
      ]
    },
    {
      "cell_type": "code",
      "source": [
        "# line plot of traget variable (price) vs Battery power\n",
        "plt.figure(figsize=(12,8))\n",
        "sns.lineplot(\"price_range\",\"battery_power\",data=df_mobile)\n",
        "plt.xlabel(\"Price range\")\n",
        "plt.ylabel(\"Battery power\")\n",
        "plt.title(\"Price vs Battery power\")"
      ],
      "metadata": {
        "colab": {
          "base_uri": "https://localhost:8080/",
          "height": 585
        },
        "id": "6jw9GtuVlFQa",
        "outputId": "ea77bab8-fc40-4c30-9b3f-d1f238b09161"
      },
      "execution_count": 21,
      "outputs": [
        {
          "output_type": "stream",
          "name": "stderr",
          "text": [
            "/usr/local/lib/python3.7/dist-packages/seaborn/_decorators.py:43: FutureWarning: Pass the following variables as keyword args: x, y. From version 0.12, the only valid positional argument will be `data`, and passing other arguments without an explicit keyword will result in an error or misinterpretation.\n",
            "  FutureWarning\n"
          ]
        },
        {
          "output_type": "execute_result",
          "data": {
            "text/plain": [
              "Text(0.5, 1.0, 'Price vs Battery power')"
            ]
          },
          "metadata": {},
          "execution_count": 21
        },
        {
          "output_type": "display_data",
          "data": {
            "text/plain": [
              "<Figure size 864x576 with 1 Axes>"
            ],
            "image/png": "[encoded data removed]"
          },
          "metadata": {
            "needs_background": "light"
          }
        }
      ]
    },
    {
      "cell_type": "markdown",
      "source": [
        "As see in line plot that  as Battery power increases correspondly price range is also increses. "
      ],
      "metadata": {
        "id": "HejpWemTHMC8"
      }
    },
    {
      "cell_type": "code",
      "source": [
        "# bar plot of traget variable price vs ram \n",
        "plt.figure(figsize=(12,8))\n",
        "sns.barplot(\"price_range\",\"ram\",data=df_mobile)\n",
        "plt.xlabel(\"Price range\")\n",
        "plt.ylabel(\"Ram\")\n",
        "plt.title(\"Price vs Ram\")"
      ],
      "metadata": {
        "colab": {
          "base_uri": "https://localhost:8080/",
          "height": 585
        },
        "id": "FZVjka6Klyaa",
        "outputId": "8e862b15-2f4b-4878-c950-ebb714c5f561"
      },
      "execution_count": 22,
      "outputs": [
        {
          "output_type": "stream",
          "name": "stderr",
          "text": [
            "/usr/local/lib/python3.7/dist-packages/seaborn/_decorators.py:43: FutureWarning: Pass the following variables as keyword args: x, y. From version 0.12, the only valid positional argument will be `data`, and passing other arguments without an explicit keyword will result in an error or misinterpretation.\n",
            "  FutureWarning\n"
          ]
        },
        {
          "output_type": "execute_result",
          "data": {
            "text/plain": [
              "Text(0.5, 1.0, 'Price vs Ram')"
            ]
          },
          "metadata": {},
          "execution_count": 22
        },
        {
          "output_type": "display_data",
          "data": {
            "text/plain": [
              "<Figure size 864x576 with 1 Axes>"
            ],
            "image/png": "[encoded data removed]"
          },
          "metadata": {
            "needs_background": "light"
          }
        }
      ]
    },
    {
      "cell_type": "markdown",
      "source": [
        "As see in bar graph Increase in Ram size also Increase in Price, this is because cost of RAM is incease ass size of RAM is increase so price of Moble is also increase."
      ],
      "metadata": {
        "id": "pL8CNxjEHhK4"
      }
    },
    {
      "cell_type": "code",
      "source": [
        "# bar plot of target variable price vs Toch screen\n",
        "plt.figure(figsize=(12,8))\n",
        "sns.barplot(\"price_range\",\"touch_screen\",data=df_mobile)\n",
        "plt.xlabel(\"Price range\")\n",
        "plt.ylabel(\"Touch screen\")\n",
        "plt.title(\"Price vs Touch screen\")"
      ],
      "metadata": {
        "colab": {
          "base_uri": "https://localhost:8080/",
          "height": 585
        },
        "id": "rhWqW218nI3o",
        "outputId": "195bb631-55bf-4adb-d137-f44b0fdc69b6"
      },
      "execution_count": 23,
      "outputs": [
        {
          "output_type": "stream",
          "name": "stderr",
          "text": [
            "/usr/local/lib/python3.7/dist-packages/seaborn/_decorators.py:43: FutureWarning: Pass the following variables as keyword args: x, y. From version 0.12, the only valid positional argument will be `data`, and passing other arguments without an explicit keyword will result in an error or misinterpretation.\n",
            "  FutureWarning\n"
          ]
        },
        {
          "output_type": "execute_result",
          "data": {
            "text/plain": [
              "Text(0.5, 1.0, 'Price vs Touch screen')"
            ]
          },
          "metadata": {},
          "execution_count": 23
        },
        {
          "output_type": "display_data",
          "data": {
            "text/plain": [
              "<Figure size 864x576 with 1 Axes>"
            ],
            "image/png": "[encoded data removed]"
          },
          "metadata": {
            "needs_background": "light"
          }
        }
      ]
    },
    {
      "cell_type": "code",
      "source": [
        "# bar plot of target variable price vs N core\n",
        "plt.figure(figsize=(12,8))\n",
        "sns.barplot(\"price_range\",\"n_cores\",data=df_mobile)\n",
        "plt.xlabel(\"Price range\")\n",
        "plt.ylabel(\"n core\")\n",
        "plt.title(\"Price vs Number of cores\")"
      ],
      "metadata": {
        "colab": {
          "base_uri": "https://localhost:8080/",
          "height": 585
        },
        "id": "6ePO93ZqnXv0",
        "outputId": "ff6f5d1d-0141-4237-ce21-6b96cd7451cb"
      },
      "execution_count": 24,
      "outputs": [
        {
          "output_type": "stream",
          "name": "stderr",
          "text": [
            "/usr/local/lib/python3.7/dist-packages/seaborn/_decorators.py:43: FutureWarning: Pass the following variables as keyword args: x, y. From version 0.12, the only valid positional argument will be `data`, and passing other arguments without an explicit keyword will result in an error or misinterpretation.\n",
            "  FutureWarning\n"
          ]
        },
        {
          "output_type": "execute_result",
          "data": {
            "text/plain": [
              "Text(0.5, 1.0, 'Price vs Number of cores')"
            ]
          },
          "metadata": {},
          "execution_count": 24
        },
        {
          "output_type": "display_data",
          "data": {
            "text/plain": [
              "<Figure size 864x576 with 1 Axes>"
            ],
            "image/png": "[encoded data removed]"
          },
          "metadata": {
            "needs_background": "light"
          }
        }
      ]
    },
    {
      "cell_type": "markdown",
      "source": [
        "As see in graph there is no significant change in price with number of cores"
      ],
      "metadata": {
        "id": "rlwJvkRyInYt"
      }
    },
    {
      "cell_type": "code",
      "source": [
        "# pie chart of is that mobile has bluthoot support or not\n",
        "data=df_mobile[\"blue\"].value_counts().values\n",
        "labels=[\"Bluthoot support\",\"Bluthoot Not Support\"]\n",
        "plt.pie(data,labels=labels,autopct=\"%.01f%%\",shadow=True,startangle=90)"
      ],
      "metadata": {
        "colab": {
          "base_uri": "https://localhost:8080/",
          "height": 352
        },
        "id": "nZYnybdowJNt",
        "outputId": "23f0117e-fbcc-44e3-b158-881dabc34493"
      },
      "execution_count": 25,
      "outputs": [
        {
          "output_type": "execute_result",
          "data": {
            "text/plain": [
              "([<matplotlib.patches.Wedge at 0x7ff678e9f650>,\n",
              "  <matplotlib.patches.Wedge at 0x7ff678ead050>],\n",
              " [Text(-1.0998642959886566, -0.01727803256672628, 'Bluthoot support'),\n",
              "  Text(1.0998642959886566, 0.017278032566726147, 'Bluthoot Not Support')],\n",
              " [Text(-0.5999259796301762, -0.009424381400032515, '50.5%'),\n",
              "  Text(0.5999259796301762, 0.009424381400032442, '49.5%')])"
            ]
          },
          "metadata": {},
          "execution_count": 25
        },
        {
          "output_type": "display_data",
          "data": {
            "text/plain": [
              "<Figure size 432x288 with 1 Axes>"
            ],
            "image/png": "[encoded data removed]"
          },
          "metadata": {}
        }
      ]
    },
    {
      "cell_type": "markdown",
      "source": [
        "Almost same ratio of 50%, mobile having bluthoot and not having bluthoot"
      ],
      "metadata": {
        "id": "S26MadGwI_5K"
      }
    },
    {
      "cell_type": "code",
      "source": [
        "# mobile is 4g support or not \n",
        "data=df_mobile[\"four_g\"].value_counts().values\n",
        "labels=[\"4G - support\",\"4G - Not Support\"]\n",
        "plt.pie(data,labels=labels,autopct=\"%.01f%%\",shadow=True,startangle=90)"
      ],
      "metadata": {
        "colab": {
          "base_uri": "https://localhost:8080/",
          "height": 352
        },
        "id": "k--A-66TxA0i",
        "outputId": "ef625e16-ad7e-484d-9a31-5a32d3b7a5b7"
      },
      "execution_count": 26,
      "outputs": [
        {
          "output_type": "execute_result",
          "data": {
            "text/plain": [
              "([<matplotlib.patches.Wedge at 0x7ff678e7ad50>,\n",
              "  <matplotlib.patches.Wedge at 0x7ff678e878d0>],\n",
              " [Text(-1.097491732278043, -0.07424215501546373, '4G - support'),\n",
              "  Text(1.0974917322780433, 0.07424215501546359, '4G - Not Support')],\n",
              " [Text(-0.5986318539698416, -0.04049572091752567, '52.1%'),\n",
              "  Text(0.5986318539698418, 0.040495720917525596, '47.9%')])"
            ]
          },
          "metadata": {},
          "execution_count": 26
        },
        {
          "output_type": "display_data",
          "data": {
            "text/plain": [
              "<Figure size 432x288 with 1 Axes>"
            ],
            "image/png": "[encoded data removed]"
          },
          "metadata": {}
        }
      ]
    },
    {
      "cell_type": "markdown",
      "source": [
        "From pie chart 52.1% of mobile phones are 4G - Supported and 47.9% of mobile are not 4G - Supported."
      ],
      "metadata": {
        "id": "64V_17GsJVZ3"
      }
    },
    {
      "cell_type": "code",
      "source": [
        "# Mobile is 3G support or not\n",
        "data=df_mobile[\"three_g\"].value_counts().values\n",
        "labels=[\"3G - support\",\"3G - Not Support\"]\n",
        "plt.pie(data,labels=labels,autopct=\"%.01f%%\",shadow=True,startangle=90)"
      ],
      "metadata": {
        "colab": {
          "base_uri": "https://localhost:8080/",
          "height": 352
        },
        "id": "Y0HB8xgXyRH5",
        "outputId": "f97c20d9-39f5-4c0e-b0af-2a92e0dc1d63"
      },
      "execution_count": 27,
      "outputs": [
        {
          "output_type": "execute_result",
          "data": {
            "text/plain": [
              "([<matplotlib.patches.Wedge at 0x7ff678dd2e50>,\n",
              "  <matplotlib.patches.Wedge at 0x7ff678dde810>],\n",
              " [Text(-0.749214765200941, -0.8054050133969238, '3G - support'),\n",
              "  Text(0.7492147652009411, 0.8054050133969237, '3G - Not Support')],\n",
              " [Text(-0.40866259920051323, -0.43931182548923114, '76.2%'),\n",
              "  Text(0.4086625992005133, 0.4393118254892311, '23.8%')])"
            ]
          },
          "metadata": {},
          "execution_count": 27
        },
        {
          "output_type": "display_data",
          "data": {
            "text/plain": [
              "<Figure size 432x288 with 1 Axes>"
            ],
            "image/png": "[encoded data removed]"
          },
          "metadata": {}
        }
      ]
    },
    {
      "cell_type": "markdown",
      "source": [
        "From pie chart 76.2% of mobile phones are 3G - Supported and 23.8% of mobile are not 3G - Supported."
      ],
      "metadata": {
        "id": "41c_GzTvJyJk"
      }
    },
    {
      "cell_type": "code",
      "source": [
        "# count plot of 3G supported by using hue of price range\n",
        "plt.figure(figsize=(12,8))\n",
        "sns.countplot(\"three_g\",hue=\"price_range\",palette=\"pink\",data=df_mobile)\n",
        "plt.xlabel(\"three_g\")\n",
        "plt.ylabel(\"Count of 3G Mobile\")"
      ],
      "metadata": {
        "colab": {
          "base_uri": "https://localhost:8080/",
          "height": 570
        },
        "id": "IB4_BVkBysJW",
        "outputId": "3c708e6d-b445-4a91-8bd7-af40e28dde87"
      },
      "execution_count": 28,
      "outputs": [
        {
          "output_type": "stream",
          "name": "stderr",
          "text": [
            "/usr/local/lib/python3.7/dist-packages/seaborn/_decorators.py:43: FutureWarning: Pass the following variable as a keyword arg: x. From version 0.12, the only valid positional argument will be `data`, and passing other arguments without an explicit keyword will result in an error or misinterpretation.\n",
            "  FutureWarning\n"
          ]
        },
        {
          "output_type": "execute_result",
          "data": {
            "text/plain": [
              "Text(0, 0.5, 'Count of 3G Mobile')"
            ]
          },
          "metadata": {},
          "execution_count": 28
        },
        {
          "output_type": "display_data",
          "data": {
            "text/plain": [
              "<Figure size 864x576 with 1 Axes>"
            ],
            "image/png": "[encoded data removed]"
          },
          "metadata": {
            "needs_background": "light"
          }
        }
      ]
    },
    {
      "cell_type": "code",
      "source": [
        "# count plot of 4G supported by using hue of price range\n",
        "plt.figure(figsize=(12,8))\n",
        "sns.countplot(\"four_g\",hue=\"price_range\",palette=\"Blues\",data=df_mobile)\n",
        "plt.xlabel(\"four_g\")\n",
        "plt.ylabel(\"Count of 4G Mobile\")"
      ],
      "metadata": {
        "colab": {
          "base_uri": "https://localhost:8080/",
          "height": 570
        },
        "id": "I_PnE1tgzJnf",
        "outputId": "40c8bdf5-7fba-4127-e2df-85aa06d30df4"
      },
      "execution_count": 29,
      "outputs": [
        {
          "output_type": "stream",
          "name": "stderr",
          "text": [
            "/usr/local/lib/python3.7/dist-packages/seaborn/_decorators.py:43: FutureWarning: Pass the following variable as a keyword arg: x. From version 0.12, the only valid positional argument will be `data`, and passing other arguments without an explicit keyword will result in an error or misinterpretation.\n",
            "  FutureWarning\n"
          ]
        },
        {
          "output_type": "execute_result",
          "data": {
            "text/plain": [
              "Text(0, 0.5, 'Count of 4G Mobile')"
            ]
          },
          "metadata": {},
          "execution_count": 29
        },
        {
          "output_type": "display_data",
          "data": {
            "text/plain": [
              "<Figure size 864x576 with 1 Axes>"
            ],
            "image/png": "[encoded data removed]"
          },
          "metadata": {
            "needs_background": "light"
          }
        }
      ]
    },
    {
      "cell_type": "code",
      "source": [
        "df_mobile.columns"
      ],
      "metadata": {
        "id": "OhDZBKp30EPL",
        "colab": {
          "base_uri": "https://localhost:8080/"
        },
        "outputId": "e7b0cb61-2027-4957-b070-9f7879ccfb10"
      },
      "execution_count": 30,
      "outputs": [
        {
          "output_type": "execute_result",
          "data": {
            "text/plain": [
              "Index(['battery_power', 'blue', 'clock_speed', 'dual_sim', 'fc', 'four_g',\n",
              "       'int_memory', 'm_dep', 'mobile_wt', 'n_cores', 'pc', 'px_height',\n",
              "       'px_width', 'ram', 'sc_h', 'sc_w', 'talk_time', 'three_g',\n",
              "       'touch_screen', 'wifi', 'price_range'],\n",
              "      dtype='object')"
            ]
          },
          "metadata": {},
          "execution_count": 30
        }
      ]
    },
    {
      "cell_type": "code",
      "source": [
        "# bar graph of target variable price vs primary camera\n",
        "plt.figure(figsize=(12,8))\n",
        "sns.barplot(\"price_range\",\"pc\",palette=\"Set2\",data=df_mobile)\n",
        "plt.xlabel(\"Primary camera\")\n",
        "plt.ylabel(\"price range\")"
      ],
      "metadata": {
        "colab": {
          "base_uri": "https://localhost:8080/",
          "height": 569
        },
        "id": "-0JK-Ek4KXM1",
        "outputId": "fd1eddd8-e99b-48ea-83bf-caa6c74c7a48"
      },
      "execution_count": 31,
      "outputs": [
        {
          "output_type": "stream",
          "name": "stderr",
          "text": [
            "/usr/local/lib/python3.7/dist-packages/seaborn/_decorators.py:43: FutureWarning: Pass the following variables as keyword args: x, y. From version 0.12, the only valid positional argument will be `data`, and passing other arguments without an explicit keyword will result in an error or misinterpretation.\n",
            "  FutureWarning\n"
          ]
        },
        {
          "output_type": "execute_result",
          "data": {
            "text/plain": [
              "Text(0, 0.5, 'price range')"
            ]
          },
          "metadata": {},
          "execution_count": 31
        },
        {
          "output_type": "display_data",
          "data": {
            "text/plain": [
              "<Figure size 864x576 with 1 Axes>"
            ],
            "image/png": "[encoded data removed]"
          },
          "metadata": {
            "needs_background": "light"
          }
        }
      ]
    },
    {
      "cell_type": "markdown",
      "source": [
        "As see in graph in all the price range has primary camera in it and it is almost more than 8 mega pixal."
      ],
      "metadata": {
        "id": "GdefpF7XNRu2"
      }
    },
    {
      "cell_type": "code",
      "source": [
        "# correlation of dataset features\n",
        "\n",
        "plt.figure(figsize=(20,8))\n",
        "correlation= df_mobile.corr()\n",
        "sns.heatmap(correlation,annot=True,cmap=\"coolwarm\")"
      ],
      "metadata": {
        "colab": {
          "base_uri": "https://localhost:8080/",
          "height": 566
        },
        "id": "TfNeOAhvOGV-",
        "outputId": "c7744904-a618-42ad-85ee-5ed8c60bf65a"
      },
      "execution_count": 32,
      "outputs": [
        {
          "output_type": "execute_result",
          "data": {
            "text/plain": [
              "<matplotlib.axes._subplots.AxesSubplot at 0x7ff678c940d0>"
            ]
          },
          "metadata": {},
          "execution_count": 32
        },
        {
          "output_type": "display_data",
          "data": {
            "text/plain": [
              "<Figure size 1440x576 with 2 Axes>"
            ],
            "image/png": "[encoded data removed]"
          },
          "metadata": {
            "needs_background": "light"
          }
        }
      ]
    },
    {
      "cell_type": "markdown",
      "source": [
        "### **From correlation heatmap:**\n",
        "\n",
        "Ram is positive and highly correlated with traget variable price it is the most important feature.\n",
        "\n",
        "Battery power is also has posive acorrelation with price range ir is the second most important feature for price range.\n",
        "\n",
        "three_g is positive and high correlated with four_g variable.\n",
        "\n",
        "Pc(Primary camera) positive and has high correlation with fc(Front camera).\n",
        "\n",
        "px_width and px_hight ha shigh correlation.it is also has positive correlation with target variable price range.\n"
      ],
      "metadata": {
        "id": "qlKNH3UISzQC"
      }
    },
    {
      "cell_type": "markdown",
      "source": [
        "# Split the Data"
      ],
      "metadata": {
        "id": "9MjwBQFYW7cM"
      }
    },
    {
      "cell_type": "code",
      "source": [
        "# Independent Feature \n",
        "x = df_mobile.drop(\"price_range\",axis=1)"
      ],
      "metadata": {
        "id": "ltXqqnM3OvbO"
      },
      "execution_count": 33,
      "outputs": []
    },
    {
      "cell_type": "code",
      "source": [
        "# target variable\n",
        "y = df_mobile[\"price_range\"]"
      ],
      "metadata": {
        "id": "fO93c1P1XLfb"
      },
      "execution_count": 34,
      "outputs": []
    },
    {
      "cell_type": "code",
      "source": [
        "# split the data in train and test \n",
        "x_train, x_test, y_train, y_test = train_test_split(x,y,test_size=0.3,random_state=42,stratify= y)"
      ],
      "metadata": {
        "id": "E6gtVtNaXSxl"
      },
      "execution_count": 35,
      "outputs": []
    },
    {
      "cell_type": "code",
      "source": [
        "print(x_train.shape)\n",
        "print(x_test.shape)"
      ],
      "metadata": {
        "colab": {
          "base_uri": "https://localhost:8080/"
        },
        "id": "2WYTAVu3X51s",
        "outputId": "e3a88873-6917-4187-d845-c4e88fff1873"
      },
      "execution_count": 36,
      "outputs": [
        {
          "output_type": "stream",
          "name": "stdout",
          "text": [
            "(1400, 20)\n",
            "(600, 20)\n"
          ]
        }
      ]
    },
    {
      "cell_type": "code",
      "source": [
        "print(y_train.shape)\n",
        "print(y_test.shape)"
      ],
      "metadata": {
        "colab": {
          "base_uri": "https://localhost:8080/"
        },
        "id": "CTDIcRJLX7Mv",
        "outputId": "ab97a7ed-776f-4707-941b-b09b6ca3991c"
      },
      "execution_count": 37,
      "outputs": [
        {
          "output_type": "stream",
          "name": "stdout",
          "text": [
            "(1400,)\n",
            "(600,)\n"
          ]
        }
      ]
    },
    {
      "cell_type": "markdown",
      "source": [
        "## **Fitting models**"
      ],
      "metadata": {
        "id": "843t_wMcYOoo"
      }
    },
    {
      "cell_type": "code",
      "source": [
        "from sklearn.neighbors import KNeighborsClassifier\n",
        "\n",
        "neighbors = np.arange(1,10)\n",
        "train_accuracy= np.empty(len(neighbors))\n",
        "test_accuracy= np.empty(len(neighbors))\n",
        "\n",
        "for i,m in enumerate(neighbors):\n",
        "  knn = KNeighborsClassifier(n_neighbors= m)\n",
        "\n",
        "  # fit model \n",
        "  knn.fit(x_train, y_train)\n",
        "\n",
        "  # accuracy of training set\n",
        "  train_accuracy[i] = knn.score(x_train,y_train)\n",
        "\n",
        "  # accuracy of testing set\n",
        "  test_accuracy[i] = knn.score(x_test,y_test)\n"
      ],
      "metadata": {
        "id": "ke8kZY2oYRs7"
      },
      "execution_count": 38,
      "outputs": []
    },
    {
      "cell_type": "code",
      "source": [
        "plt.plot(neighbors , train_accuracy , label = \"Train accuracy\")\n",
        "plt.plot(neighbors , test_accuracy , label = \"Test accuracy\")\n",
        "plt.xlabel(\"Number of Neighbors\")\n",
        "plt.ylabel(\"Accuracy\")\n",
        "plt.title(\"Knn accuracy with different n neighbors\")\n",
        "plt.legend()\n"
      ],
      "metadata": {
        "colab": {
          "base_uri": "https://localhost:8080/",
          "height": 312
        },
        "id": "tFOxVLD1aI4R",
        "outputId": "d4c3e260-bf9a-46fa-894a-46958235aa17"
      },
      "execution_count": 39,
      "outputs": [
        {
          "output_type": "execute_result",
          "data": {
            "text/plain": [
              "<matplotlib.legend.Legend at 0x7ff675fc6a10>"
            ]
          },
          "metadata": {},
          "execution_count": 39
        },
        {
          "output_type": "display_data",
          "data": {
            "text/plain": [
              "<Figure size 432x288 with 1 Axes>"
            ],
            "image/png": "[encoded data removed]"
          },
          "metadata": {
            "needs_background": "light"
          }
        }
      ]
    },
    {
      "cell_type": "code",
      "source": [
        "# setup knn classifier with k neighbour\n",
        "knn = KNeighborsClassifier(n_neighbors= 8)"
      ],
      "metadata": {
        "id": "YQJ4BcY8aneA"
      },
      "execution_count": 40,
      "outputs": []
    },
    {
      "cell_type": "code",
      "source": [
        "# fit the model\n",
        "knn.fit(x_train , y_train)"
      ],
      "metadata": {
        "colab": {
          "base_uri": "https://localhost:8080/"
        },
        "id": "PsyB9aeRbsUF",
        "outputId": "8b6aeda3-5e2a-40e7-c052-827458179b1e"
      },
      "execution_count": 41,
      "outputs": [
        {
          "output_type": "execute_result",
          "data": {
            "text/plain": [
              "KNeighborsClassifier(n_neighbors=8)"
            ]
          },
          "metadata": {},
          "execution_count": 41
        }
      ]
    },
    {
      "cell_type": "code",
      "source": [
        "# matrics\n",
        "knn_train_score = knn.score(x_train , y_train) \n",
        "knn_train_score "
      ],
      "metadata": {
        "colab": {
          "base_uri": "https://localhost:8080/"
        },
        "id": "KMTDfQoSb5q-",
        "outputId": "2acf1e9b-c6d6-4fa3-b2de-db427fe069f6"
      },
      "execution_count": 42,
      "outputs": [
        {
          "output_type": "execute_result",
          "data": {
            "text/plain": [
              "0.9371428571428572"
            ]
          },
          "metadata": {},
          "execution_count": 42
        }
      ]
    },
    {
      "cell_type": "code",
      "source": [
        "knn_test_score = knn.score(x_test , y_test) \n",
        "knn_test_score "
      ],
      "metadata": {
        "colab": {
          "base_uri": "https://localhost:8080/"
        },
        "id": "P9ICVu9DcGVR",
        "outputId": "e904a81f-4065-4521-ed3e-56a58466da91"
      },
      "execution_count": 43,
      "outputs": [
        {
          "output_type": "execute_result",
          "data": {
            "text/plain": [
              "0.9366666666666666"
            ]
          },
          "metadata": {},
          "execution_count": 43
        }
      ]
    },
    {
      "cell_type": "code",
      "source": [
        "y_train_pred = knn.predict(x_train)\n",
        "y_test_pred = knn.predict(x_test)"
      ],
      "metadata": {
        "id": "0qijghkdcP-8"
      },
      "execution_count": 44,
      "outputs": []
    },
    {
      "cell_type": "code",
      "source": [
        "# import confusion matrix and classification report\n",
        "from sklearn.metrics import classification_report, confusion_matrix , roc_auc_score"
      ],
      "metadata": {
        "id": "FJELE4VCcm3I"
      },
      "execution_count": 45,
      "outputs": []
    },
    {
      "cell_type": "code",
      "source": [
        "matrix = confusion_matrix(y_test , y_test_pred)\n",
        "matrix"
      ],
      "metadata": {
        "colab": {
          "base_uri": "https://localhost:8080/"
        },
        "id": "8XrcUvqyc44z",
        "outputId": "160b5a26-8d39-4238-ce05-7739df34be6d"
      },
      "execution_count": 46,
      "outputs": [
        {
          "output_type": "execute_result",
          "data": {
            "text/plain": [
              "array([[148,   2,   0,   0],\n",
              "       [  8, 139,   3,   0],\n",
              "       [  0,   7, 137,   6],\n",
              "       [  0,   0,  12, 138]])"
            ]
          },
          "metadata": {},
          "execution_count": 46
        }
      ]
    },
    {
      "cell_type": "code",
      "source": [
        "# plot confusion matrix for train\n",
        " \n",
        "train_cm = confusion_matrix(y_train , y_train_pred)\n",
        "\n",
        "df1 = pd.DataFrame(columns = [\"0\", \"1\", \"2\", \"3\" ], index= [\"0\", \"1\", \"2\", \"3\"],data = train_cm)\n",
        "\n",
        "plt.figure(figsize=(7,5))\n",
        "sns.heatmap(df1, annot = True, fmt = \".0f\",cmap=\"tab20\", cbar = False, linewidths=2)\n",
        "plt.xlabel(\"Predicted labels\", size=12)\n",
        "plt.ylabel(\"Actual labels\", size=12)\n",
        "plt.title(\"Confusion Matrix\",size=14)"
      ],
      "metadata": {
        "colab": {
          "base_uri": "https://localhost:8080/",
          "height": 371
        },
        "id": "k8kNQ3igdDdo",
        "outputId": "3869f18e-760f-4011-830a-47065f22775b"
      },
      "execution_count": 47,
      "outputs": [
        {
          "output_type": "execute_result",
          "data": {
            "text/plain": [
              "Text(0.5, 1.0, 'Confusion Matrix')"
            ]
          },
          "metadata": {},
          "execution_count": 47
        },
        {
          "output_type": "display_data",
          "data": {
            "text/plain": [
              "<Figure size 504x360 with 1 Axes>"
            ],
            "image/png": "[encoded data removed]"
          },
          "metadata": {
            "needs_background": "light"
          }
        }
      ]
    },
    {
      "cell_type": "code",
      "source": [
        "# plot confusion matrix for test\n",
        " \n",
        "test_cm = confusion_matrix(y_test , y_test_pred)\n",
        "\n",
        "df1 = pd.DataFrame(columns = [\"0\", \"1\", \"2\", \"3\" ], index= [\"0\", \"1\", \"2\", \"3\"],data = test_cm)\n",
        "\n",
        "plt.figure(figsize=(7,5))\n",
        "sns.heatmap(df1, annot = True, fmt = \".0f\",cmap=\"tab20\", cbar = False, linewidths=2)\n",
        "plt.xlabel(\"Predicted labels\", size=12)\n",
        "plt.ylabel(\"Actual labels\", size=12)\n",
        "plt.title(\"Confusion Matrix\",size=14)"
      ],
      "metadata": {
        "colab": {
          "base_uri": "https://localhost:8080/",
          "height": 371
        },
        "id": "9bUfYiXedb9b",
        "outputId": "6ff08575-8859-4504-e8f0-1018d9855293"
      },
      "execution_count": 48,
      "outputs": [
        {
          "output_type": "execute_result",
          "data": {
            "text/plain": [
              "Text(0.5, 1.0, 'Confusion Matrix')"
            ]
          },
          "metadata": {},
          "execution_count": 48
        },
        {
          "output_type": "display_data",
          "data": {
            "text/plain": [
              "<Figure size 504x360 with 1 Axes>"
            ],
            "image/png": "[encoded data removed]"
          },
          "metadata": {
            "needs_background": "light"
          }
        }
      ]
    },
    {
      "cell_type": "code",
      "source": [
        "y_pred_proba = knn.predict_proba(x_test)"
      ],
      "metadata": {
        "id": "dOFWdJSDyVLy"
      },
      "execution_count": 49,
      "outputs": []
    },
    {
      "cell_type": "code",
      "source": [
        "roc_auc_score(y_test , y_pred_proba,multi_class= \"ovo\",average=\"weighted\")"
      ],
      "metadata": {
        "colab": {
          "base_uri": "https://localhost:8080/"
        },
        "id": "NCVe6dgby2kt",
        "outputId": "67aff6a1-05e9-46b9-9e88-62c70b088389"
      },
      "execution_count": 50,
      "outputs": [
        {
          "output_type": "execute_result",
          "data": {
            "text/plain": [
              "0.9956722222222222"
            ]
          },
          "metadata": {},
          "execution_count": 50
        }
      ]
    },
    {
      "cell_type": "code",
      "source": [
        "# predict classification report for training dataset\n",
        "print(classification_report(y_train, y_train_pred))"
      ],
      "metadata": {
        "colab": {
          "base_uri": "https://localhost:8080/"
        },
        "id": "evFtRuH4zC3L",
        "outputId": "344972db-668f-48cc-f75a-22b961febfb9"
      },
      "execution_count": 51,
      "outputs": [
        {
          "output_type": "stream",
          "name": "stdout",
          "text": [
            "              precision    recall  f1-score   support\n",
            "\n",
            "           0       0.95      0.98      0.97       350\n",
            "           1       0.93      0.94      0.93       350\n",
            "           2       0.90      0.92      0.91       350\n",
            "           3       0.97      0.91      0.94       350\n",
            "\n",
            "    accuracy                           0.94      1400\n",
            "   macro avg       0.94      0.94      0.94      1400\n",
            "weighted avg       0.94      0.94      0.94      1400\n",
            "\n"
          ]
        }
      ]
    },
    {
      "cell_type": "code",
      "source": [
        "# predict classification report for test dataset\n",
        "print(classification_report(y_test, y_test_pred))"
      ],
      "metadata": {
        "colab": {
          "base_uri": "https://localhost:8080/"
        },
        "id": "KFS_8LAPzkqU",
        "outputId": "8ca31df0-bd24-41dc-ea43-161eac85e703"
      },
      "execution_count": 52,
      "outputs": [
        {
          "output_type": "stream",
          "name": "stdout",
          "text": [
            "              precision    recall  f1-score   support\n",
            "\n",
            "           0       0.95      0.99      0.97       150\n",
            "           1       0.94      0.93      0.93       150\n",
            "           2       0.90      0.91      0.91       150\n",
            "           3       0.96      0.92      0.94       150\n",
            "\n",
            "    accuracy                           0.94       600\n",
            "   macro avg       0.94      0.94      0.94       600\n",
            "weighted avg       0.94      0.94      0.94       600\n",
            "\n"
          ]
        }
      ]
    },
    {
      "cell_type": "code",
      "source": [
        "y_test"
      ],
      "metadata": {
        "colab": {
          "base_uri": "https://localhost:8080/"
        },
        "id": "NflXEzu7z1iF",
        "outputId": "12b8d09b-386a-4ae1-cae9-c0221cf0a409"
      },
      "execution_count": 53,
      "outputs": [
        {
          "output_type": "execute_result",
          "data": {
            "text/plain": [
              "570     3\n",
              "414     3\n",
              "1837    1\n",
              "1510    1\n",
              "1130    3\n",
              "       ..\n",
              "544     1\n",
              "1303    3\n",
              "1193    0\n",
              "1818    0\n",
              "67      3\n",
              "Name: price_range, Length: 600, dtype: int64"
            ]
          },
          "metadata": {},
          "execution_count": 53
        }
      ]
    },
    {
      "cell_type": "code",
      "source": [
        "y_test_pred"
      ],
      "metadata": {
        "colab": {
          "base_uri": "https://localhost:8080/"
        },
        "id": "dB9aah5_z8sO",
        "outputId": "ec052121-32f6-4b64-a6f9-9577606e3108"
      },
      "execution_count": 54,
      "outputs": [
        {
          "output_type": "execute_result",
          "data": {
            "text/plain": [
              "array([3, 3, 1, 1, 3, 3, 0, 0, 2, 3, 1, 1, 0, 1, 0, 2, 3, 1, 3, 2, 3, 2,\n",
              "       2, 0, 3, 2, 1, 3, 2, 3, 2, 3, 0, 1, 1, 1, 2, 2, 1, 2, 3, 1, 2, 3,\n",
              "       0, 1, 2, 3, 2, 2, 1, 0, 0, 2, 0, 2, 1, 2, 2, 3, 3, 1, 1, 3, 2, 2,\n",
              "       2, 2, 0, 0, 0, 0, 0, 3, 3, 0, 2, 1, 0, 2, 1, 2, 1, 3, 0, 2, 0, 2,\n",
              "       3, 2, 1, 2, 0, 3, 3, 3, 3, 3, 0, 0, 1, 0, 1, 1, 1, 3, 1, 2, 3, 2,\n",
              "       1, 1, 0, 2, 1, 3, 1, 0, 3, 1, 2, 1, 0, 0, 2, 1, 1, 3, 0, 0, 3, 2,\n",
              "       0, 0, 0, 0, 1, 2, 1, 2, 2, 0, 2, 0, 3, 3, 0, 3, 2, 0, 3, 1, 2, 3,\n",
              "       1, 1, 0, 3, 1, 2, 3, 1, 0, 3, 0, 0, 3, 1, 0, 2, 3, 2, 0, 1, 2, 2,\n",
              "       0, 1, 1, 1, 3, 1, 1, 3, 2, 2, 0, 3, 3, 1, 0, 2, 2, 0, 3, 2, 0, 1,\n",
              "       3, 3, 0, 1, 1, 2, 3, 0, 2, 3, 0, 2, 3, 0, 2, 3, 1, 1, 2, 1, 2, 2,\n",
              "       3, 0, 2, 2, 2, 1, 2, 3, 0, 2, 1, 0, 2, 3, 3, 1, 3, 0, 1, 3, 1, 2,\n",
              "       0, 1, 3, 0, 1, 3, 3, 0, 3, 0, 2, 0, 2, 3, 3, 1, 1, 3, 1, 0, 2, 0,\n",
              "       3, 2, 2, 2, 1, 2, 1, 2, 3, 1, 0, 3, 0, 3, 1, 1, 3, 2, 1, 3, 3, 1,\n",
              "       1, 2, 2, 2, 2, 1, 1, 2, 1, 0, 1, 0, 0, 0, 2, 3, 1, 3, 1, 2, 3, 0,\n",
              "       1, 3, 0, 0, 0, 3, 1, 1, 2, 1, 2, 0, 2, 1, 1, 1, 0, 0, 1, 1, 3, 3,\n",
              "       2, 0, 2, 0, 3, 0, 3, 0, 3, 1, 1, 3, 3, 2, 2, 0, 3, 1, 1, 2, 0, 1,\n",
              "       1, 3, 1, 0, 0, 3, 2, 3, 3, 0, 2, 2, 0, 0, 3, 3, 1, 2, 3, 3, 3, 2,\n",
              "       3, 2, 1, 0, 3, 1, 0, 0, 3, 0, 0, 0, 2, 1, 3, 0, 3, 1, 2, 1, 2, 0,\n",
              "       1, 1, 1, 2, 2, 0, 1, 1, 0, 0, 0, 2, 0, 1, 2, 1, 2, 2, 3, 3, 2, 2,\n",
              "       2, 0, 2, 1, 1, 2, 0, 2, 0, 0, 2, 0, 0, 0, 0, 2, 1, 2, 2, 1, 0, 2,\n",
              "       0, 2, 2, 1, 2, 2, 1, 1, 0, 3, 1, 3, 3, 3, 1, 0, 3, 0, 0, 2, 0, 1,\n",
              "       0, 3, 3, 0, 0, 0, 1, 0, 0, 0, 0, 3, 0, 1, 1, 2, 0, 3, 2, 1, 0, 1,\n",
              "       3, 3, 1, 0, 1, 1, 3, 1, 0, 2, 1, 2, 0, 2, 1, 3, 2, 0, 3, 0, 1, 3,\n",
              "       1, 1, 3, 3, 0, 2, 3, 2, 3, 2, 0, 2, 3, 0, 1, 3, 0, 3, 3, 1, 2, 1,\n",
              "       2, 0, 2, 2, 0, 3, 3, 0, 1, 3, 3, 2, 2, 1, 0, 1, 0, 0, 0, 1, 3, 1,\n",
              "       3, 3, 1, 0, 0, 1, 3, 2, 3, 0, 3, 1, 2, 3, 2, 0, 1, 3, 2, 2, 2, 3,\n",
              "       2, 2, 2, 3, 2, 2, 2, 2, 3, 1, 0, 0, 1, 0, 3, 2, 0, 0, 2, 1, 0, 0,\n",
              "       0, 1, 3, 0, 0, 3])"
            ]
          },
          "metadata": {},
          "execution_count": 54
        }
      ]
    },
    {
      "cell_type": "markdown",
      "source": [
        "## **Logistic Regression**"
      ],
      "metadata": {
        "id": "2YS_4rKk0RaH"
      }
    },
    {
      "cell_type": "code",
      "source": [
        "from sklearn.linear_model import LogisticRegression"
      ],
      "metadata": {
        "id": "M140wsfP0cur"
      },
      "execution_count": 55,
      "outputs": []
    },
    {
      "cell_type": "code",
      "source": [
        "logistic_model = LogisticRegression(max_iter=10000)"
      ],
      "metadata": {
        "id": "S_jBNC6g0_qg"
      },
      "execution_count": 56,
      "outputs": []
    },
    {
      "cell_type": "code",
      "source": [
        "# fit the model\n",
        "logistic_model.fit(x_train, y_train)"
      ],
      "metadata": {
        "colab": {
          "base_uri": "https://localhost:8080/"
        },
        "id": "P99C6-zp1MZB",
        "outputId": "0b4a00ba-04bc-4769-eafb-2d5e5399ee7d"
      },
      "execution_count": 57,
      "outputs": [
        {
          "output_type": "stream",
          "name": "stderr",
          "text": [
            "/usr/local/lib/python3.7/dist-packages/sklearn/linear_model/_logistic.py:818: ConvergenceWarning: lbfgs failed to converge (status=1):\n",
            "STOP: TOTAL NO. of ITERATIONS REACHED LIMIT.\n",
            "\n",
            "Increase the number of iterations (max_iter) or scale the data as shown in:\n",
            "    https://scikit-learn.org/stable/modules/preprocessing.html\n",
            "Please also refer to the documentation for alternative solver options:\n",
            "    https://scikit-learn.org/stable/modules/linear_model.html#logistic-regression\n",
            "  extra_warning_msg=_LOGISTIC_SOLVER_CONVERGENCE_MSG,\n"
          ]
        },
        {
          "output_type": "execute_result",
          "data": {
            "text/plain": [
              "LogisticRegression(max_iter=10000)"
            ]
          },
          "metadata": {},
          "execution_count": 57
        }
      ]
    },
    {
      "cell_type": "code",
      "source": [
        "# predict the model \n",
        "y_train_pred_logistic = logistic_model.predict(x_train)\n",
        "y_test_pred_logistic = logistic_model.predict(x_test)"
      ],
      "metadata": {
        "id": "NtTQb40a1VPL"
      },
      "execution_count": 58,
      "outputs": []
    },
    {
      "cell_type": "code",
      "source": [
        "# get accuracy score\n",
        "\n",
        "train_accuracy = accuracy_score(y_train , y_train_pred_logistic)\n",
        "test_accuracy = accuracy_score(y_test , y_test_pred_logistic)"
      ],
      "metadata": {
        "id": "hibzwaNc10XO"
      },
      "execution_count": 59,
      "outputs": []
    },
    {
      "cell_type": "code",
      "source": [
        "print(\"Accuracy on train data : \",train_accuracy)\n",
        "print(\"Accuracy on test data : \",test_accuracy)"
      ],
      "metadata": {
        "colab": {
          "base_uri": "https://localhost:8080/"
        },
        "id": "MtHPSObN2UuE",
        "outputId": "05ba374a-7075-4539-b259-971fc3e306dd"
      },
      "execution_count": 60,
      "outputs": [
        {
          "output_type": "stream",
          "name": "stdout",
          "text": [
            "Accuracy on train data :  0.8064285714285714\n",
            "Accuracy on test data :  0.725\n"
          ]
        }
      ]
    },
    {
      "cell_type": "code",
      "source": [
        "# confusion matrix of train data\n",
        "\n",
        "train_cm = confusion_matrix(y_train , y_train_pred_logistic)\n",
        "\n",
        "df1 = pd.DataFrame(columns = [\"0\", \"1\", \"2\", \"3\" ], index= [\"0\", \"1\", \"2\", \"3\"],data = train_cm)\n",
        "\n",
        "plt.figure(figsize=(7,5))\n",
        "sns.heatmap(df1, annot = True, fmt = \".0f\",cmap=\"tab20\", cbar = False, linewidths=2)\n",
        "plt.xlabel(\"Predicted labels\", size=12)\n",
        "plt.ylabel(\"Actual labels\", size=12)\n",
        "plt.title(\"Confusion Matrix\",size=14)\n"
      ],
      "metadata": {
        "colab": {
          "base_uri": "https://localhost:8080/",
          "height": 371
        },
        "id": "RGYgBFAa2ipc",
        "outputId": "b25a78f4-e427-425c-b808-e526c2305f43"
      },
      "execution_count": 61,
      "outputs": [
        {
          "output_type": "execute_result",
          "data": {
            "text/plain": [
              "Text(0.5, 1.0, 'Confusion Matrix')"
            ]
          },
          "metadata": {},
          "execution_count": 61
        },
        {
          "output_type": "display_data",
          "data": {
            "text/plain": [
              "<Figure size 504x360 with 1 Axes>"
            ],
            "image/png": "[encoded data removed]"
          },
          "metadata": {
            "needs_background": "light"
          }
        }
      ]
    },
    {
      "cell_type": "code",
      "source": [
        "# confusion matrix of train data\n",
        "\n",
        "train_cm = confusion_matrix(y_test , y_test_pred_logistic)\n",
        "\n",
        "df1 = pd.DataFrame(columns = [\"0\", \"1\", \"2\", \"3\" ], index= [\"0\", \"1\", \"2\", \"3\"],data = train_cm)\n",
        "\n",
        "plt.figure(figsize=(7,5))\n",
        "sns.heatmap(df1, annot = True, fmt = \".0f\",cmap=\"tab20\", cbar = False, linewidths=2)\n",
        "plt.xlabel(\"Predicted labels\", size=12)\n",
        "plt.ylabel(\"Actual labels\", size=12)\n",
        "plt.title(\"Confusion Matrix\",size=14)"
      ],
      "metadata": {
        "colab": {
          "base_uri": "https://localhost:8080/",
          "height": 371
        },
        "id": "p7y6LKkH3KvT",
        "outputId": "2cf30a5a-b5ee-47d9-c437-2eac6bd4a5bb"
      },
      "execution_count": 62,
      "outputs": [
        {
          "output_type": "execute_result",
          "data": {
            "text/plain": [
              "Text(0.5, 1.0, 'Confusion Matrix')"
            ]
          },
          "metadata": {},
          "execution_count": 62
        },
        {
          "output_type": "display_data",
          "data": {
            "text/plain": [
              "<Figure size 504x360 with 1 Axes>"
            ],
            "image/png": "[encoded data removed]"
          },
          "metadata": {
            "needs_background": "light"
          }
        }
      ]
    },
    {
      "cell_type": "code",
      "source": [
        "# predict probability\n",
        "y_pred_proba = logistic_model.predict_proba(x_test)"
      ],
      "metadata": {
        "id": "wM_1yvq73R-B"
      },
      "execution_count": 63,
      "outputs": []
    },
    {
      "cell_type": "code",
      "source": [
        "roc_auc_score(y_test , y_pred_proba,multi_class= \"ovo\",average=\"weighted\")"
      ],
      "metadata": {
        "colab": {
          "base_uri": "https://localhost:8080/"
        },
        "id": "97lqrLap3nPn",
        "outputId": "e677f41d-3da7-490e-9de5-0d75dac8a13d"
      },
      "execution_count": 64,
      "outputs": [
        {
          "output_type": "execute_result",
          "data": {
            "text/plain": [
              "0.9294740740740742"
            ]
          },
          "metadata": {},
          "execution_count": 64
        }
      ]
    },
    {
      "cell_type": "code",
      "source": [
        "# predict classification report for training dataset\n",
        "print(classification_report(y_train, y_train_pred_logistic))"
      ],
      "metadata": {
        "colab": {
          "base_uri": "https://localhost:8080/"
        },
        "id": "5_AMqJ693vjG",
        "outputId": "752d6f7d-973a-4a60-c5bd-64c99edd9b2a"
      },
      "execution_count": 65,
      "outputs": [
        {
          "output_type": "stream",
          "name": "stdout",
          "text": [
            "              precision    recall  f1-score   support\n",
            "\n",
            "           0       0.91      0.90      0.91       350\n",
            "           1       0.77      0.76      0.76       350\n",
            "           2       0.71      0.68      0.70       350\n",
            "           3       0.83      0.88      0.86       350\n",
            "\n",
            "    accuracy                           0.81      1400\n",
            "   macro avg       0.81      0.81      0.81      1400\n",
            "weighted avg       0.81      0.81      0.81      1400\n",
            "\n"
          ]
        }
      ]
    },
    {
      "cell_type": "code",
      "source": [
        "# predict classification report for test dataset\n",
        "print(classification_report(y_test, y_test_pred_logistic))"
      ],
      "metadata": {
        "colab": {
          "base_uri": "https://localhost:8080/"
        },
        "id": "f6C4XT6P33gO",
        "outputId": "46d29f31-425d-4fa1-a9f5-0180cb7484e6"
      },
      "execution_count": 66,
      "outputs": [
        {
          "output_type": "stream",
          "name": "stdout",
          "text": [
            "              precision    recall  f1-score   support\n",
            "\n",
            "           0       0.92      0.82      0.87       150\n",
            "           1       0.63      0.65      0.64       150\n",
            "           2       0.58      0.63      0.60       150\n",
            "           3       0.81      0.80      0.81       150\n",
            "\n",
            "    accuracy                           0.73       600\n",
            "   macro avg       0.73      0.72      0.73       600\n",
            "weighted avg       0.73      0.72      0.73       600\n",
            "\n"
          ]
        }
      ]
    },
    {
      "cell_type": "markdown",
      "source": [
        "## **GradientBoostingClassifier**"
      ],
      "metadata": {
        "id": "GxWmrTw16Bn6"
      }
    },
    {
      "cell_type": "code",
      "source": [
        "from sklearn.ensemble import GradientBoostingClassifier"
      ],
      "metadata": {
        "id": "p8xbHnJh6TUd"
      },
      "execution_count": 67,
      "outputs": []
    },
    {
      "cell_type": "code",
      "source": [
        "# list of learning rate\n",
        "learning_rate_list = [0.05, 0.07, 0.08, 0.1, 0.25, 0.5, 0.75, 1]\n",
        "\n",
        "for learning_rate in learning_rate_list:\n",
        "  gb_clsf = GradientBoostingClassifier(n_estimators=20, learning_rate = learning_rate, max_depth = 2,  random_state = 0) \n",
        "  gb_clsf.fit(x_train, y_train)\n",
        "\n",
        "  print(\"learning rate :\",learning_rate)\n",
        "  print(\"Accuracy score of train data : {0:.3f}\".format(gb_clsf.score(x_train, y_train)))\n",
        "  print(\"Accuracy score of test data : {0:.3f} \".format(gb_clsf.score(x_test, y_test)))\n",
        "    "
      ],
      "metadata": {
        "colab": {
          "base_uri": "https://localhost:8080/"
        },
        "id": "JzcLNuZf6JRy",
        "outputId": "9a7576c7-37e7-4816-8327-3ccff7faf84b"
      },
      "execution_count": 68,
      "outputs": [
        {
          "output_type": "stream",
          "name": "stdout",
          "text": [
            "learning rate : 0.05\n",
            "Accuracy score of train data : 0.783\n",
            "Accuracy score of test data : 0.753 \n",
            "learning rate : 0.07\n",
            "Accuracy score of train data : 0.804\n",
            "Accuracy score of test data : 0.772 \n",
            "learning rate : 0.08\n",
            "Accuracy score of train data : 0.804\n",
            "Accuracy score of test data : 0.772 \n",
            "learning rate : 0.1\n",
            "Accuracy score of train data : 0.816\n",
            "Accuracy score of test data : 0.780 \n",
            "learning rate : 0.25\n",
            "Accuracy score of train data : 0.907\n",
            "Accuracy score of test data : 0.853 \n",
            "learning rate : 0.5\n",
            "Accuracy score of train data : 0.967\n",
            "Accuracy score of test data : 0.902 \n",
            "learning rate : 0.75\n",
            "Accuracy score of train data : 0.988\n",
            "Accuracy score of test data : 0.912 \n",
            "learning rate : 1\n",
            "Accuracy score of train data : 0.996\n",
            "Accuracy score of test data : 0.893 \n"
          ]
        }
      ]
    },
    {
      "cell_type": "markdown",
      "source": [
        "From above we can say that learning rate 0.75 is gives the best result on train data as well as in test data also."
      ],
      "metadata": {
        "id": "-SQfV62p87Ed"
      }
    },
    {
      "cell_type": "code",
      "source": [
        "# new classifier with the learning rate of 0.75\n",
        "\n",
        "gb_clsf1 = GradientBoostingClassifier(n_estimators=20, learning_rate = 0.75, max_depth = 2,  random_state = 0) \n",
        "gb_clsf1.fit(x_train,y_train)"
      ],
      "metadata": {
        "colab": {
          "base_uri": "https://localhost:8080/"
        },
        "id": "JQnBw7o-9REF",
        "outputId": "47f68890-21af-4b78-dcf5-2d1b3994ec53"
      },
      "execution_count": 69,
      "outputs": [
        {
          "output_type": "execute_result",
          "data": {
            "text/plain": [
              "GradientBoostingClassifier(learning_rate=0.75, max_depth=2, n_estimators=20,\n",
              "                           random_state=0)"
            ]
          },
          "metadata": {},
          "execution_count": 69
        }
      ]
    },
    {
      "cell_type": "code",
      "source": [
        "# predict \n",
        "gb_clsf1_train_pred = gb_clsf1.predict(x_train)\n",
        "gb_clsf1_train_pred\n",
        "\n",
        "gb_clsf1_test_pred = gb_clsf1.predict(x_test)\n",
        "gb_clsf1_test_pred"
      ],
      "metadata": {
        "colab": {
          "base_uri": "https://localhost:8080/"
        },
        "id": "xZnDA2dM9wB_",
        "outputId": "0372437b-b4ea-4014-a330-703ee5866a89"
      },
      "execution_count": 70,
      "outputs": [
        {
          "output_type": "execute_result",
          "data": {
            "text/plain": [
              "array([3, 3, 1, 1, 3, 3, 0, 0, 2, 3, 1, 1, 0, 1, 0, 1, 3, 2, 3, 2, 3, 2,\n",
              "       2, 0, 3, 2, 1, 3, 2, 3, 2, 3, 0, 1, 2, 2, 2, 1, 1, 2, 3, 1, 2, 3,\n",
              "       0, 2, 2, 3, 2, 2, 1, 0, 0, 3, 0, 2, 0, 2, 2, 3, 3, 1, 1, 2, 2, 2,\n",
              "       2, 2, 0, 0, 0, 0, 0, 3, 3, 0, 2, 2, 0, 2, 1, 2, 1, 3, 0, 2, 0, 2,\n",
              "       3, 3, 1, 2, 0, 3, 3, 3, 3, 3, 0, 0, 1, 0, 1, 1, 1, 3, 1, 3, 3, 2,\n",
              "       1, 1, 0, 2, 1, 3, 1, 0, 3, 1, 2, 1, 1, 0, 1, 1, 1, 3, 0, 0, 3, 2,\n",
              "       0, 0, 0, 0, 1, 2, 1, 2, 3, 0, 2, 0, 3, 3, 0, 3, 2, 0, 3, 1, 2, 3,\n",
              "       2, 1, 0, 3, 1, 2, 3, 1, 0, 3, 0, 0, 3, 1, 1, 2, 3, 2, 0, 1, 1, 2,\n",
              "       0, 1, 1, 1, 3, 1, 1, 3, 2, 2, 0, 3, 3, 1, 0, 2, 2, 0, 3, 2, 0, 1,\n",
              "       3, 3, 0, 2, 1, 3, 3, 0, 2, 3, 0, 2, 3, 0, 2, 3, 1, 1, 3, 1, 2, 2,\n",
              "       3, 0, 2, 2, 2, 1, 2, 3, 0, 2, 1, 0, 2, 2, 3, 1, 3, 0, 2, 3, 1, 2,\n",
              "       0, 1, 3, 0, 1, 2, 3, 0, 3, 0, 2, 0, 2, 3, 3, 1, 1, 3, 1, 0, 2, 0,\n",
              "       3, 2, 2, 2, 2, 3, 1, 2, 3, 1, 0, 3, 0, 2, 1, 2, 3, 2, 1, 3, 3, 1,\n",
              "       1, 2, 2, 2, 1, 1, 1, 2, 1, 1, 2, 0, 0, 0, 2, 3, 1, 3, 1, 2, 3, 0,\n",
              "       1, 3, 0, 0, 0, 3, 1, 1, 2, 1, 2, 0, 2, 1, 2, 1, 1, 0, 1, 2, 3, 3,\n",
              "       2, 0, 2, 0, 3, 0, 3, 0, 3, 1, 1, 3, 3, 2, 2, 0, 2, 1, 1, 1, 0, 1,\n",
              "       1, 3, 1, 0, 0, 3, 2, 3, 3, 1, 2, 2, 0, 0, 3, 3, 1, 2, 2, 3, 3, 2,\n",
              "       3, 2, 1, 0, 3, 1, 0, 0, 3, 0, 0, 0, 3, 1, 3, 0, 3, 1, 2, 1, 2, 0,\n",
              "       1, 1, 1, 2, 2, 0, 1, 1, 0, 0, 0, 2, 0, 2, 2, 1, 2, 3, 3, 3, 2, 2,\n",
              "       2, 0, 1, 1, 1, 2, 0, 2, 0, 0, 2, 0, 0, 0, 0, 2, 1, 2, 2, 1, 0, 3,\n",
              "       0, 2, 2, 2, 2, 2, 1, 2, 0, 3, 1, 3, 3, 3, 1, 0, 3, 0, 1, 2, 0, 1,\n",
              "       0, 3, 3, 0, 0, 0, 2, 0, 0, 0, 0, 2, 0, 1, 1, 2, 0, 3, 2, 1, 0, 1,\n",
              "       3, 3, 1, 1, 1, 2, 3, 2, 0, 2, 1, 1, 0, 3, 1, 3, 2, 0, 3, 0, 1, 3,\n",
              "       1, 1, 3, 3, 0, 2, 2, 2, 3, 2, 0, 2, 3, 0, 1, 3, 0, 3, 3, 1, 2, 1,\n",
              "       2, 0, 2, 2, 0, 3, 3, 0, 2, 3, 3, 2, 2, 1, 0, 1, 0, 0, 0, 1, 3, 1,\n",
              "       3, 3, 1, 0, 0, 1, 3, 2, 3, 0, 3, 0, 2, 3, 2, 0, 1, 3, 2, 2, 2, 3,\n",
              "       3, 2, 2, 2, 2, 1, 2, 2, 3, 1, 0, 0, 1, 0, 3, 2, 0, 0, 2, 1, 0, 0,\n",
              "       0, 1, 3, 0, 0, 3])"
            ]
          },
          "metadata": {},
          "execution_count": 70
        }
      ]
    },
    {
      "cell_type": "code",
      "source": [
        "print(\"Classification report\",classification_report(y_test , gb_clsf1_test_pred))"
      ],
      "metadata": {
        "colab": {
          "base_uri": "https://localhost:8080/"
        },
        "id": "nRxtGTNi-CDQ",
        "outputId": "1b03d7a9-d641-4e2d-e3e3-ad78b89e7233"
      },
      "execution_count": 71,
      "outputs": [
        {
          "output_type": "stream",
          "name": "stdout",
          "text": [
            "Classification report               precision    recall  f1-score   support\n",
            "\n",
            "           0       0.97      0.98      0.98       150\n",
            "           1       0.90      0.85      0.88       150\n",
            "           2       0.82      0.88      0.85       150\n",
            "           3       0.95      0.93      0.94       150\n",
            "\n",
            "    accuracy                           0.91       600\n",
            "   macro avg       0.91      0.91      0.91       600\n",
            "weighted avg       0.91      0.91      0.91       600\n",
            "\n"
          ]
        }
      ]
    },
    {
      "cell_type": "code",
      "source": [
        "# confusion matrix of train data\n",
        "\n",
        "train_cm = confusion_matrix(y_train , gb_clsf1_train_pred)\n",
        "\n",
        "df1 = pd.DataFrame(columns = [\"0\", \"1\", \"2\", \"3\" ], index= [\"0\", \"1\", \"2\", \"3\"],data = train_cm)\n",
        "\n",
        "plt.figure(figsize=(7,5))\n",
        "sns.heatmap(df1, annot = True, fmt = \".0f\",cmap=\"tab20\", cbar = False, linewidths=2)\n",
        "plt.xlabel(\"Predicted labels\", size=12)\n",
        "plt.ylabel(\"Actual labels\", size=12)\n",
        "plt.title(\"Confusion Matrix\",size=14)"
      ],
      "metadata": {
        "colab": {
          "base_uri": "https://localhost:8080/",
          "height": 371
        },
        "id": "LM_JDHns-XuC",
        "outputId": "c3175951-52e4-4314-dc03-53eda0c6d0fb"
      },
      "execution_count": 72,
      "outputs": [
        {
          "output_type": "execute_result",
          "data": {
            "text/plain": [
              "Text(0.5, 1.0, 'Confusion Matrix')"
            ]
          },
          "metadata": {},
          "execution_count": 72
        },
        {
          "output_type": "display_data",
          "data": {
            "text/plain": [
              "<Figure size 504x360 with 1 Axes>"
            ],
            "image/png": "[encoded data removed]"
          },
          "metadata": {
            "needs_background": "light"
          }
        }
      ]
    },
    {
      "cell_type": "code",
      "source": [
        "# confusion matrix of train data\n",
        "\n",
        "test_cm = confusion_matrix(y_test , gb_clsf1_test_pred)\n",
        "\n",
        "df1 = pd.DataFrame(columns = [\"0\", \"1\", \"2\", \"3\" ], index= [\"0\", \"1\", \"2\", \"3\"],data = test_cm)\n",
        "\n",
        "plt.figure(figsize=(7,5))\n",
        "sns.heatmap(df1, annot = True, fmt = \".0f\",cmap=\"tab20\", cbar = False, linewidths=2)\n",
        "plt.xlabel(\"Predicted labels\", size=12)\n",
        "plt.ylabel(\"Actual labels\", size=12)\n",
        "plt.title(\"Confusion Matrix\",size=14)"
      ],
      "metadata": {
        "colab": {
          "base_uri": "https://localhost:8080/",
          "height": 371
        },
        "id": "6Vdf5gbU_erc",
        "outputId": "e75e4fa4-05d9-4d8d-c242-6a8fd8cf9ab1"
      },
      "execution_count": 73,
      "outputs": [
        {
          "output_type": "execute_result",
          "data": {
            "text/plain": [
              "Text(0.5, 1.0, 'Confusion Matrix')"
            ]
          },
          "metadata": {},
          "execution_count": 73
        },
        {
          "output_type": "display_data",
          "data": {
            "text/plain": [
              "<Figure size 504x360 with 1 Axes>"
            ],
            "image/png": "[encoded data removed]"
          },
          "metadata": {
            "needs_background": "light"
          }
        }
      ]
    },
    {
      "cell_type": "markdown",
      "source": [
        "## **XGBclassifier**"
      ],
      "metadata": {
        "id": "lLE7BHSi4S30"
      }
    },
    {
      "cell_type": "code",
      "source": [
        "from xgboost import XGBClassifier"
      ],
      "metadata": {
        "id": "OpfvMTz04W-r"
      },
      "execution_count": 74,
      "outputs": []
    },
    {
      "cell_type": "code",
      "source": [
        "xgb_clsf = XGBClassifier()"
      ],
      "metadata": {
        "id": "IZ-yy6_S5BZw"
      },
      "execution_count": 75,
      "outputs": []
    },
    {
      "cell_type": "code",
      "source": [
        "# fit the model\n",
        "xgb_clsf.fit(x_train , y_train)"
      ],
      "metadata": {
        "colab": {
          "base_uri": "https://localhost:8080/"
        },
        "id": "VnOlVmtc5QYA",
        "outputId": "09f2095d-ee64-4fd6-dec4-c1e599b3535c"
      },
      "execution_count": 76,
      "outputs": [
        {
          "output_type": "execute_result",
          "data": {
            "text/plain": [
              "XGBClassifier(objective='multi:softprob')"
            ]
          },
          "metadata": {},
          "execution_count": 76
        }
      ]
    },
    {
      "cell_type": "code",
      "source": [
        "# predict\n",
        "xgb_train_pred = xgb_clsf.predict(x_train)\n",
        "xgb_test_pred = xgb_clsf.predict(x_test)\n"
      ],
      "metadata": {
        "id": "gS358NPn5dCB"
      },
      "execution_count": 77,
      "outputs": []
    },
    {
      "cell_type": "code",
      "source": [
        "print(\"Classification report\",classification_report(y_test , xgb_test_pred))"
      ],
      "metadata": {
        "colab": {
          "base_uri": "https://localhost:8080/"
        },
        "id": "UnkeZW9FBIeI",
        "outputId": "29894da9-bda0-4e1f-dea6-5ae40b41d2bb"
      },
      "execution_count": 78,
      "outputs": [
        {
          "output_type": "stream",
          "name": "stdout",
          "text": [
            "Classification report               precision    recall  f1-score   support\n",
            "\n",
            "           0       0.97      0.97      0.97       150\n",
            "           1       0.89      0.90      0.89       150\n",
            "           2       0.85      0.84      0.85       150\n",
            "           3       0.93      0.92      0.92       150\n",
            "\n",
            "    accuracy                           0.91       600\n",
            "   macro avg       0.91      0.91      0.91       600\n",
            "weighted avg       0.91      0.91      0.91       600\n",
            "\n"
          ]
        }
      ]
    },
    {
      "cell_type": "code",
      "source": [
        "# confusion matrix of train data\n",
        "\n",
        "train_cm = confusion_matrix(y_train , xgb_train_pred)\n",
        "\n",
        "df1 = pd.DataFrame(columns = [\"0\", \"1\", \"2\", \"3\" ], index= [\"0\", \"1\", \"2\", \"3\"],data = train_cm)\n",
        "\n",
        "plt.figure(figsize=(7,5))\n",
        "sns.heatmap(df1, annot = True, fmt = \".0f\",cmap=\"tab20\", cbar = False, linewidths=2)\n",
        "plt.xlabel(\"Predicted labels\", size=12)\n",
        "plt.ylabel(\"Actual labels\", size=12)\n",
        "plt.title(\"Confusion Matrix\",size=14)"
      ],
      "metadata": {
        "colab": {
          "base_uri": "https://localhost:8080/",
          "height": 371
        },
        "id": "ZTopbPG6AShj",
        "outputId": "c02d4fc5-fa8b-4f9c-f005-149c4a6b737e"
      },
      "execution_count": 79,
      "outputs": [
        {
          "output_type": "execute_result",
          "data": {
            "text/plain": [
              "Text(0.5, 1.0, 'Confusion Matrix')"
            ]
          },
          "metadata": {},
          "execution_count": 79
        },
        {
          "output_type": "display_data",
          "data": {
            "text/plain": [
              "<Figure size 504x360 with 1 Axes>"
            ],
            "image/png": "[encoded data removed]"
          },
          "metadata": {
            "needs_background": "light"
          }
        }
      ]
    },
    {
      "cell_type": "code",
      "source": [
        "# confusion matrix of test data\n",
        "\n",
        "test_cm = confusion_matrix(y_test , xgb_test_pred)\n",
        "\n",
        "df1 = pd.DataFrame(columns = [\"0\", \"1\", \"2\", \"3\" ], index= [\"0\", \"1\", \"2\", \"3\"],data = test_cm)\n",
        "\n",
        "plt.figure(figsize=(7,5))\n",
        "sns.heatmap(df1, annot = True, fmt = \".0f\",cmap=\"tab20\", cbar = False, linewidths=2)\n",
        "plt.xlabel(\"Predicted labels\", size=12)\n",
        "plt.ylabel(\"Actual labels\", size=12)\n",
        "plt.title(\"Confusion Matrix\",size=14)"
      ],
      "metadata": {
        "colab": {
          "base_uri": "https://localhost:8080/",
          "height": 371
        },
        "id": "HrGFEQMMA12e",
        "outputId": "b707edc0-2f83-4737-9baf-6c9d83d4fe1e"
      },
      "execution_count": 80,
      "outputs": [
        {
          "output_type": "execute_result",
          "data": {
            "text/plain": [
              "Text(0.5, 1.0, 'Confusion Matrix')"
            ]
          },
          "metadata": {},
          "execution_count": 80
        },
        {
          "output_type": "display_data",
          "data": {
            "text/plain": [
              "<Figure size 504x360 with 1 Axes>"
            ],
            "image/png": "[encoded data removed]"
          },
          "metadata": {
            "needs_background": "light"
          }
        }
      ]
    },
    {
      "cell_type": "markdown",
      "source": [
        "## **Random Forest Classification**"
      ],
      "metadata": {
        "id": "eykHQOhDCWSP"
      }
    },
    {
      "cell_type": "code",
      "source": [
        "from sklearn.ensemble import RandomForestClassifier"
      ],
      "metadata": {
        "id": "fB-BZTL8BCDW"
      },
      "execution_count": 81,
      "outputs": []
    },
    {
      "cell_type": "code",
      "source": [
        "# parameters for random forest\n",
        "\n",
        "# number of estimators\n",
        "n_estimators = [50,80,100,125]\n",
        "\n",
        "# maximun depth of tree\n",
        "max_depth = [3,4,5,7,8]\n",
        "\n",
        "\n",
        "parameter = {\n",
        "    \"n_estimators\" : n_estimators,\n",
        "    \"max_depth\" : max_depth,\n",
        "   \n",
        "}\n",
        "\n",
        "rf_clsf = RandomForestClassifier()"
      ],
      "metadata": {
        "id": "gSyDoN28ChUl"
      },
      "execution_count": 82,
      "outputs": []
    },
    {
      "cell_type": "code",
      "source": [
        "# gridsearchCV \n",
        "\n",
        "rf_grid = GridSearchCV(estimator = rf_clsf, param_grid=parameter, cv = 5, verbose= 2, n_jobs = -1, scoring = \"accuracy\")\n",
        "\n",
        "# fit the data\n",
        "rf_grid.fit(x_train,y_train)"
      ],
      "metadata": {
        "colab": {
          "base_uri": "https://localhost:8080/"
        },
        "id": "NbNnn9VAEWIr",
        "outputId": "d953cafa-58cf-4053-8023-161a0689635f"
      },
      "execution_count": 83,
      "outputs": [
        {
          "output_type": "stream",
          "name": "stdout",
          "text": [
            "Fitting 5 folds for each of 20 candidates, totalling 100 fits\n"
          ]
        },
        {
          "output_type": "execute_result",
          "data": {
            "text/plain": [
              "GridSearchCV(cv=5, estimator=RandomForestClassifier(), n_jobs=-1,\n",
              "             param_grid={'max_depth': [3, 4, 5, 7, 8],\n",
              "                         'n_estimators': [50, 80, 100, 125]},\n",
              "             scoring='accuracy', verbose=2)"
            ]
          },
          "metadata": {},
          "execution_count": 83
        }
      ]
    },
    {
      "cell_type": "code",
      "source": [
        "rf_optimal = rf_grid.best_estimator_"
      ],
      "metadata": {
        "id": "1RnQmAmPE-7m"
      },
      "execution_count": 84,
      "outputs": []
    },
    {
      "cell_type": "code",
      "source": [
        "rf_grid.best_params_"
      ],
      "metadata": {
        "colab": {
          "base_uri": "https://localhost:8080/"
        },
        "id": "IivVsLE4GjpV",
        "outputId": "1ae5fdd1-7635-4ca7-8037-dca103583199"
      },
      "execution_count": 85,
      "outputs": [
        {
          "output_type": "execute_result",
          "data": {
            "text/plain": [
              "{'max_depth': 7, 'n_estimators': 100}"
            ]
          },
          "metadata": {},
          "execution_count": 85
        }
      ]
    },
    {
      "cell_type": "code",
      "source": [
        "# prediction on train and test data\n",
        "y_train_pred_rf = rf_optimal.predict(x_train)\n",
        "y_test_pred_rf = rf_optimal.predict(x_test)"
      ],
      "metadata": {
        "id": "xt0St-khGm_V"
      },
      "execution_count": 86,
      "outputs": []
    },
    {
      "cell_type": "code",
      "source": [
        "# probability on train and test data\n",
        "y_train_proba = rf_optimal.predict_proba(x_train)\n",
        "y_test_proba = rf_optimal.predict_proba(x_test)"
      ],
      "metadata": {
        "id": "W2r14JA_Hr4a"
      },
      "execution_count": 87,
      "outputs": []
    },
    {
      "cell_type": "code",
      "source": [
        "# accuracy score\n",
        "rf_train_accuracy = accuracy_score(y_train , y_train_pred_rf)\n",
        "rf_test_accuracy = accuracy_score(y_test , y_test_pred_rf)"
      ],
      "metadata": {
        "id": "hdmp-3vFIG0j"
      },
      "execution_count": 88,
      "outputs": []
    },
    {
      "cell_type": "code",
      "source": [
        "  print(\"Accuracy score of train data : \",rf_train_accuracy)\n",
        "  print(\"Accuracy score of test data : \" ,rf_test_accuracy)"
      ],
      "metadata": {
        "colab": {
          "base_uri": "https://localhost:8080/"
        },
        "id": "zgYEJ4DLIgQE",
        "outputId": "14e431d8-85db-4f0d-e63a-b7dc5a87b7dd"
      },
      "execution_count": 89,
      "outputs": [
        {
          "output_type": "stream",
          "name": "stdout",
          "text": [
            "Accuracy score of train data :  0.9678571428571429\n",
            "Accuracy score of test data :  0.8516666666666667\n"
          ]
        }
      ]
    },
    {
      "cell_type": "code",
      "source": [
        "# confusion matrix of train data\n",
        "\n",
        "train_cm = confusion_matrix(y_train , y_train_pred_rf)\n",
        "\n",
        "df1 = pd.DataFrame(columns = [\"0\", \"1\", \"2\", \"3\" ], index= [\"0\", \"1\", \"2\", \"3\"],data = train_cm)\n",
        "\n",
        "plt.figure(figsize=(7,5))\n",
        "sns.heatmap(df1, annot = True, fmt = \".0f\",cmap=\"tab20\", cbar = False, linewidths=2)\n",
        "plt.xlabel(\"Predicted labels\", size=12)\n",
        "plt.ylabel(\"Actual labels\", size=12)\n",
        "plt.title(\"Confusion Matrix\",size=14)"
      ],
      "metadata": {
        "colab": {
          "base_uri": "https://localhost:8080/",
          "height": 371
        },
        "id": "PY-8emDEJC1o",
        "outputId": "5349b8ef-83aa-481c-899e-18807b746382"
      },
      "execution_count": 90,
      "outputs": [
        {
          "output_type": "execute_result",
          "data": {
            "text/plain": [
              "Text(0.5, 1.0, 'Confusion Matrix')"
            ]
          },
          "metadata": {},
          "execution_count": 90
        },
        {
          "output_type": "display_data",
          "data": {
            "text/plain": [
              "<Figure size 504x360 with 1 Axes>"
            ],
            "image/png": "[encoded data removed]"
          },
          "metadata": {
            "needs_background": "light"
          }
        }
      ]
    },
    {
      "cell_type": "code",
      "source": [
        "# confusion matrix of test data\n",
        "\n",
        "test_cm = confusion_matrix(y_test , y_test_pred_rf)\n",
        "\n",
        "df1 = pd.DataFrame(columns = [\"0\", \"1\", \"2\", \"3\" ], index= [\"0\", \"1\", \"2\", \"3\"],data = test_cm)\n",
        "\n",
        "plt.figure(figsize=(7,5))\n",
        "sns.heatmap(df1, annot = True, fmt = \".0f\",cmap=\"tab20\", cbar = False, linewidths=2)\n",
        "plt.xlabel(\"Predicted labels\", size=12)\n",
        "plt.ylabel(\"Actual labels\", size=12)\n",
        "plt.title(\"Confusion Matrix\",size=14)"
      ],
      "metadata": {
        "colab": {
          "base_uri": "https://localhost:8080/",
          "height": 371
        },
        "id": "FtlGRBtFJVer",
        "outputId": "69c4c9a5-76d7-45d3-d615-3de1d512f3c6"
      },
      "execution_count": 91,
      "outputs": [
        {
          "output_type": "execute_result",
          "data": {
            "text/plain": [
              "Text(0.5, 1.0, 'Confusion Matrix')"
            ]
          },
          "metadata": {},
          "execution_count": 91
        },
        {
          "output_type": "display_data",
          "data": {
            "text/plain": [
              "<Figure size 504x360 with 1 Axes>"
            ],
            "image/png": "[encoded data removed]"
          },
          "metadata": {
            "needs_background": "light"
          }
        }
      ]
    },
    {
      "cell_type": "code",
      "source": [
        "print(\"Classification report\",classification_report(y_train , y_train_pred_rf))"
      ],
      "metadata": {
        "colab": {
          "base_uri": "https://localhost:8080/"
        },
        "id": "qWDSr469JhXo",
        "outputId": "d69e1dc7-d727-4f5d-ae24-3de0a6c72e91"
      },
      "execution_count": 92,
      "outputs": [
        {
          "output_type": "stream",
          "name": "stdout",
          "text": [
            "Classification report               precision    recall  f1-score   support\n",
            "\n",
            "           0       1.00      0.98      0.99       350\n",
            "           1       0.94      0.95      0.94       350\n",
            "           2       0.94      0.95      0.95       350\n",
            "           3       0.99      0.99      0.99       350\n",
            "\n",
            "    accuracy                           0.97      1400\n",
            "   macro avg       0.97      0.97      0.97      1400\n",
            "weighted avg       0.97      0.97      0.97      1400\n",
            "\n"
          ]
        }
      ]
    },
    {
      "cell_type": "code",
      "source": [
        "print(\"Classification report\",classification_report(y_test , y_test_pred_rf))"
      ],
      "metadata": {
        "colab": {
          "base_uri": "https://localhost:8080/"
        },
        "id": "GVggu4Q8JuSy",
        "outputId": "b3b52a8c-6158-46a4-aaa8-4e371335aee6"
      },
      "execution_count": 93,
      "outputs": [
        {
          "output_type": "stream",
          "name": "stdout",
          "text": [
            "Classification report               precision    recall  f1-score   support\n",
            "\n",
            "           0       0.96      0.95      0.96       150\n",
            "           1       0.78      0.83      0.81       150\n",
            "           2       0.78      0.68      0.73       150\n",
            "           3       0.88      0.94      0.91       150\n",
            "\n",
            "    accuracy                           0.85       600\n",
            "   macro avg       0.85      0.85      0.85       600\n",
            "weighted avg       0.85      0.85      0.85       600\n",
            "\n"
          ]
        }
      ]
    },
    {
      "cell_type": "code",
      "source": [
        ""
      ],
      "metadata": {
        "id": "X7kK_-mmJ0Mg"
      },
      "execution_count": 93,
      "outputs": []
    }
  ]
}