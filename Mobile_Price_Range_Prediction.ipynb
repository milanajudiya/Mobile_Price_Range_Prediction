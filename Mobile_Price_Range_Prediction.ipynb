{
  "cells": [
    {
      "cell_type": "markdown",
      "metadata": {
        "id": "view-in-github",
        "colab_type": "text"
      },
      "source": [
        "<a href=\"https://colab.research.google.com/github/milanajudiya/Mobile_Price_Range_Prediction/blob/main/Mobile_Price_Range_Prediction.ipynb\" target=\"_parent\"><img src=\"https://colab.research.google.com/assets/colab-badge.svg\" alt=\"Open In Colab\"/></a>"
      ]
    },
    {
      "cell_type": "markdown",
      "metadata": {
        "id": "_-6Ha3DP00Hf"
      },
      "source": [
        "# **In the competitive mobile phone market companies want to understand sales data of mobile phones and factors which drive the prices.The objective is to find out some relation between features of a mobile phone(eg:- RAM,Internal Memory, etc) and its selling price. In this problem, we do not have to predict the actual price but a price range indicating how high the price.**"
      ]
    },
    {
      "cell_type": "markdown",
      "metadata": {
        "id": "ggx81ga9GcLm"
      },
      "source": [
        "## **Data Attributes**"
      ]
    },
    {
      "cell_type": "markdown",
      "metadata": {
        "id": "OEzqSJ7b1LrJ"
      },
      "source": [
        "###**Battery_power** - Total energy a battery can store in one time measured in mAh\n",
        "###**Blue** - Has bluetooth or not\n",
        "###**Clock_speed** - speed at which microprocessor executes instructions\n",
        "###**Dual_sim** - Has dual sim support or not\n",
        "###**Fc** - Front Camera mega pixels\n",
        "###**Four_g** - Has 4G or not\n",
        "###**Int_memory** - Internal Memory in Gigabytes\n",
        "###**M_dep** - Mobile Depth in cm\n",
        "###**Mobile_wt** - Weight of mobile phone\n",
        "###**N_cores** - Number of cores of processor\n",
        "###**Pc** - Primary Camera mega pixels\n",
        "###**Px_height** - Pixel Resolution Height\n",
        "###**Px_width** - Pixel Resolution Width\n",
        "###**Ram** - Random Access Memory in Mega Bytes\n",
        "###**Sc_h** - Screen Height of mobile in cm\n",
        "###**Sc_w** - Screen Width of mobile in cm\n",
        "###**Talk_time** - longest time that a single battery charge will last \n",
        "###**Three_g**- Has 3G or not\n",
        "###**Touch_screen** - Has touch screen or not\n",
        "###**Wifi** - Has wifi or not\n",
        "###**Price_range** - This is the target variable with value of 0(low cost), 1(medium cost),2(high cost) and 3(very high cost)."
      ]
    },
    {
      "cell_type": "markdown",
      "metadata": {
        "id": "JEhmeLgIGjDG"
      },
      "source": [
        "## **Import Libraries**"
      ]
    },
    {
      "cell_type": "code",
      "execution_count": 1,
      "metadata": {
        "id": "BiTYlDwCjH7Q"
      },
      "outputs": [],
      "source": [
        "import pandas as pd\n",
        "import numpy as np\n",
        "import seaborn as sns\n",
        "import matplotlib.pyplot as plt\n",
        "%matplotlib inline\n",
        "\n",
        "from sklearn.model_selection import train_test_split\n",
        "from sklearn.model_selection import GridSearchCV\n",
        "from sklearn import ensemble\n",
        "from sklearn.tree import DecisionTreeClassifier\n",
        "from sklearn.ensemble import GradientBoostingClassifier\n",
        "\n",
        "from sklearn.metrics import accuracy_score\n",
        "from sklearn.metrics import roc_auc_score\n",
        "from sklearn.metrics import classification_report\n",
        "from sklearn.metrics import confusion_matrix , plot_confusion_matrix\n",
        "from sklearn.metrics import recall_score\n",
        "from sklearn.metrics import precision_score"
      ]
    },
    {
      "cell_type": "code",
      "execution_count": 2,
      "metadata": {
        "colab": {
          "base_uri": "https://localhost:8080/"
        },
        "id": "9MW6amqbkG36",
        "outputId": "d32c5417-eabb-4033-ef72-898e0dee3d31"
      },
      "outputs": [
        {
          "output_type": "stream",
          "name": "stdout",
          "text": [
            "Mounted at /content/drive\n"
          ]
        }
      ],
      "source": [
        "from google.colab import drive\n",
        "drive.mount('/content/drive')"
      ]
    },
    {
      "cell_type": "code",
      "execution_count": 3,
      "metadata": {
        "id": "s354w3dqkQXd"
      },
      "outputs": [],
      "source": [
        "# Import dataset \n",
        "df=pd.read_csv(\"/content/drive/MyDrive/Mobile Price Prediction - Milan Ajudiya/data_mobile_price_range.csv\")"
      ]
    },
    {
      "cell_type": "code",
      "execution_count": 4,
      "metadata": {
        "id": "-_3DyPTkF98T"
      },
      "outputs": [],
      "source": [
        "pd.set_option(\"display.max_columns\", None)"
      ]
    },
    {
      "cell_type": "code",
      "execution_count": 5,
      "metadata": {
        "colab": {
          "base_uri": "https://localhost:8080/",
          "height": 270
        },
        "id": "q3K4qN5jkfZ0",
        "outputId": "47ae87c8-1161-4275-9ae4-e05169067843"
      },
      "outputs": [
        {
          "output_type": "execute_result",
          "data": {
            "text/plain": [
              "   battery_power  blue  clock_speed  dual_sim  fc  four_g  int_memory  m_dep  \\\n",
              "0            842     0          2.2         0   1       0           7    0.6   \n",
              "1           1021     1          0.5         1   0       1          53    0.7   \n",
              "2            563     1          0.5         1   2       1          41    0.9   \n",
              "3            615     1          2.5         0   0       0          10    0.8   \n",
              "4           1821     1          1.2         0  13       1          44    0.6   \n",
              "\n",
              "   mobile_wt  n_cores  pc  px_height  px_width   ram  sc_h  sc_w  talk_time  \\\n",
              "0        188        2   2         20       756  2549     9     7         19   \n",
              "1        136        3   6        905      1988  2631    17     3          7   \n",
              "2        145        5   6       1263      1716  2603    11     2          9   \n",
              "3        131        6   9       1216      1786  2769    16     8         11   \n",
              "4        141        2  14       1208      1212  1411     8     2         15   \n",
              "\n",
              "   three_g  touch_screen  wifi  price_range  \n",
              "0        0             0     1            1  \n",
              "1        1             1     0            2  \n",
              "2        1             1     0            2  \n",
              "3        1             0     0            2  \n",
              "4        1             1     0            1  "
            ],
            "text/html": [
              "\n",
              "  <div id=\"df-130a9b55-4b40-444c-a19d-42e9ced9f409\">\n",
              "    <div class=\"colab-df-container\">\n",
              "      <div>\n",
              "<style scoped>\n",
              "    .dataframe tbody tr th:only-of-type {\n",
              "        vertical-align: middle;\n",
              "    }\n",
              "\n",
              "    .dataframe tbody tr th {\n",
              "        vertical-align: top;\n",
              "    }\n",
              "\n",
              "    .dataframe thead th {\n",
              "        text-align: right;\n",
              "    }\n",
              "</style>\n",
              "<table border=\"1\" class=\"dataframe\">\n",
              "  <thead>\n",
              "    <tr style=\"text-align: right;\">\n",
              "      <th></th>\n",
              "      <th>battery_power</th>\n",
              "      <th>blue</th>\n",
              "      <th>clock_speed</th>\n",
              "      <th>dual_sim</th>\n",
              "      <th>fc</th>\n",
              "      <th>four_g</th>\n",
              "      <th>int_memory</th>\n",
              "      <th>m_dep</th>\n",
              "      <th>mobile_wt</th>\n",
              "      <th>n_cores</th>\n",
              "      <th>pc</th>\n",
              "      <th>px_height</th>\n",
              "      <th>px_width</th>\n",
              "      <th>ram</th>\n",
              "      <th>sc_h</th>\n",
              "      <th>sc_w</th>\n",
              "      <th>talk_time</th>\n",
              "      <th>three_g</th>\n",
              "      <th>touch_screen</th>\n",
              "      <th>wifi</th>\n",
              "      <th>price_range</th>\n",
              "    </tr>\n",
              "  </thead>\n",
              "  <tbody>\n",
              "    <tr>\n",
              "      <th>0</th>\n",
              "      <td>842</td>\n",
              "      <td>0</td>\n",
              "      <td>2.2</td>\n",
              "      <td>0</td>\n",
              "      <td>1</td>\n",
              "      <td>0</td>\n",
              "      <td>7</td>\n",
              "      <td>0.6</td>\n",
              "      <td>188</td>\n",
              "      <td>2</td>\n",
              "      <td>2</td>\n",
              "      <td>20</td>\n",
              "      <td>756</td>\n",
              "      <td>2549</td>\n",
              "      <td>9</td>\n",
              "      <td>7</td>\n",
              "      <td>19</td>\n",
              "      <td>0</td>\n",
              "      <td>0</td>\n",
              "      <td>1</td>\n",
              "      <td>1</td>\n",
              "    </tr>\n",
              "    <tr>\n",
              "      <th>1</th>\n",
              "      <td>1021</td>\n",
              "      <td>1</td>\n",
              "      <td>0.5</td>\n",
              "      <td>1</td>\n",
              "      <td>0</td>\n",
              "      <td>1</td>\n",
              "      <td>53</td>\n",
              "      <td>0.7</td>\n",
              "      <td>136</td>\n",
              "      <td>3</td>\n",
              "      <td>6</td>\n",
              "      <td>905</td>\n",
              "      <td>1988</td>\n",
              "      <td>2631</td>\n",
              "      <td>17</td>\n",
              "      <td>3</td>\n",
              "      <td>7</td>\n",
              "      <td>1</td>\n",
              "      <td>1</td>\n",
              "      <td>0</td>\n",
              "      <td>2</td>\n",
              "    </tr>\n",
              "    <tr>\n",
              "      <th>2</th>\n",
              "      <td>563</td>\n",
              "      <td>1</td>\n",
              "      <td>0.5</td>\n",
              "      <td>1</td>\n",
              "      <td>2</td>\n",
              "      <td>1</td>\n",
              "      <td>41</td>\n",
              "      <td>0.9</td>\n",
              "      <td>145</td>\n",
              "      <td>5</td>\n",
              "      <td>6</td>\n",
              "      <td>1263</td>\n",
              "      <td>1716</td>\n",
              "      <td>2603</td>\n",
              "      <td>11</td>\n",
              "      <td>2</td>\n",
              "      <td>9</td>\n",
              "      <td>1</td>\n",
              "      <td>1</td>\n",
              "      <td>0</td>\n",
              "      <td>2</td>\n",
              "    </tr>\n",
              "    <tr>\n",
              "      <th>3</th>\n",
              "      <td>615</td>\n",
              "      <td>1</td>\n",
              "      <td>2.5</td>\n",
              "      <td>0</td>\n",
              "      <td>0</td>\n",
              "      <td>0</td>\n",
              "      <td>10</td>\n",
              "      <td>0.8</td>\n",
              "      <td>131</td>\n",
              "      <td>6</td>\n",
              "      <td>9</td>\n",
              "      <td>1216</td>\n",
              "      <td>1786</td>\n",
              "      <td>2769</td>\n",
              "      <td>16</td>\n",
              "      <td>8</td>\n",
              "      <td>11</td>\n",
              "      <td>1</td>\n",
              "      <td>0</td>\n",
              "      <td>0</td>\n",
              "      <td>2</td>\n",
              "    </tr>\n",
              "    <tr>\n",
              "      <th>4</th>\n",
              "      <td>1821</td>\n",
              "      <td>1</td>\n",
              "      <td>1.2</td>\n",
              "      <td>0</td>\n",
              "      <td>13</td>\n",
              "      <td>1</td>\n",
              "      <td>44</td>\n",
              "      <td>0.6</td>\n",
              "      <td>141</td>\n",
              "      <td>2</td>\n",
              "      <td>14</td>\n",
              "      <td>1208</td>\n",
              "      <td>1212</td>\n",
              "      <td>1411</td>\n",
              "      <td>8</td>\n",
              "      <td>2</td>\n",
              "      <td>15</td>\n",
              "      <td>1</td>\n",
              "      <td>1</td>\n",
              "      <td>0</td>\n",
              "      <td>1</td>\n",
              "    </tr>\n",
              "  </tbody>\n",
              "</table>\n",
              "</div>\n",
              "      <button class=\"colab-df-convert\" onclick=\"convertToInteractive('df-130a9b55-4b40-444c-a19d-42e9ced9f409')\"\n",
              "              title=\"Convert this dataframe to an interactive table.\"\n",
              "              style=\"display:none;\">\n",
              "        \n",
              "  <svg xmlns=\"http://www.w3.org/2000/svg\" height=\"24px\"viewBox=\"0 0 24 24\"\n",
              "       width=\"24px\">\n",
              "    <path d=\"M0 0h24v24H0V0z\" fill=\"none\"/>\n",
              "    <path d=\"M18.56 5.44l.94 2.06.94-2.06 2.06-.94-2.06-.94-.94-2.06-.94 2.06-2.06.94zm-11 1L8.5 8.5l.94-2.06 2.06-.94-2.06-.94L8.5 2.5l-.94 2.06-2.06.94zm10 10l.94 2.06.94-2.06 2.06-.94-2.06-.94-.94-2.06-.94 2.06-2.06.94z\"/><path d=\"M17.41 7.96l-1.37-1.37c-.4-.4-.92-.59-1.43-.59-.52 0-1.04.2-1.43.59L10.3 9.45l-7.72 7.72c-.78.78-.78 2.05 0 2.83L4 21.41c.39.39.9.59 1.41.59.51 0 1.02-.2 1.41-.59l7.78-7.78 2.81-2.81c.8-.78.8-2.07 0-2.86zM5.41 20L4 18.59l7.72-7.72 1.47 1.35L5.41 20z\"/>\n",
              "  </svg>\n",
              "      </button>\n",
              "      \n",
              "  <style>\n",
              "    .colab-df-container {\n",
              "      display:flex;\n",
              "      flex-wrap:wrap;\n",
              "      gap: 12px;\n",
              "    }\n",
              "\n",
              "    .colab-df-convert {\n",
              "      background-color: #E8F0FE;\n",
              "      border: none;\n",
              "      border-radius: 50%;\n",
              "      cursor: pointer;\n",
              "      display: none;\n",
              "      fill: #1967D2;\n",
              "      height: 32px;\n",
              "      padding: 0 0 0 0;\n",
              "      width: 32px;\n",
              "    }\n",
              "\n",
              "    .colab-df-convert:hover {\n",
              "      background-color: #E2EBFA;\n",
              "      box-shadow: 0px 1px 2px rgba(60, 64, 67, 0.3), 0px 1px 3px 1px rgba(60, 64, 67, 0.15);\n",
              "      fill: #174EA6;\n",
              "    }\n",
              "\n",
              "    [theme=dark] .colab-df-convert {\n",
              "      background-color: #3B4455;\n",
              "      fill: #D2E3FC;\n",
              "    }\n",
              "\n",
              "    [theme=dark] .colab-df-convert:hover {\n",
              "      background-color: #434B5C;\n",
              "      box-shadow: 0px 1px 3px 1px rgba(0, 0, 0, 0.15);\n",
              "      filter: drop-shadow(0px 1px 2px rgba(0, 0, 0, 0.3));\n",
              "      fill: #FFFFFF;\n",
              "    }\n",
              "  </style>\n",
              "\n",
              "      <script>\n",
              "        const buttonEl =\n",
              "          document.querySelector('#df-130a9b55-4b40-444c-a19d-42e9ced9f409 button.colab-df-convert');\n",
              "        buttonEl.style.display =\n",
              "          google.colab.kernel.accessAllowed ? 'block' : 'none';\n",
              "\n",
              "        async function convertToInteractive(key) {\n",
              "          const element = document.querySelector('#df-130a9b55-4b40-444c-a19d-42e9ced9f409');\n",
              "          const dataTable =\n",
              "            await google.colab.kernel.invokeFunction('convertToInteractive',\n",
              "                                                     [key], {});\n",
              "          if (!dataTable) return;\n",
              "\n",
              "          const docLinkHtml = 'Like what you see? Visit the ' +\n",
              "            '<a target=\"_blank\" href=https://colab.research.google.com/notebooks/data_table.ipynb>data table notebook</a>'\n",
              "            + ' to learn more about interactive tables.';\n",
              "          element.innerHTML = '';\n",
              "          dataTable['output_type'] = 'display_data';\n",
              "          await google.colab.output.renderOutput(dataTable, element);\n",
              "          const docLink = document.createElement('div');\n",
              "          docLink.innerHTML = docLinkHtml;\n",
              "          element.appendChild(docLink);\n",
              "        }\n",
              "      </script>\n",
              "    </div>\n",
              "  </div>\n",
              "  "
            ]
          },
          "metadata": {},
          "execution_count": 5
        }
      ],
      "source": [
        "df.head()"
      ]
    },
    {
      "cell_type": "code",
      "execution_count": 6,
      "metadata": {
        "colab": {
          "base_uri": "https://localhost:8080/",
          "height": 270
        },
        "id": "6OGTRA_lkhvC",
        "outputId": "58074ec8-384c-4270-c2d3-5fbabe562eca"
      },
      "outputs": [
        {
          "output_type": "execute_result",
          "data": {
            "text/plain": [
              "      battery_power  blue  clock_speed  dual_sim  fc  four_g  int_memory  \\\n",
              "1995            794     1          0.5         1   0       1           2   \n",
              "1996           1965     1          2.6         1   0       0          39   \n",
              "1997           1911     0          0.9         1   1       1          36   \n",
              "1998           1512     0          0.9         0   4       1          46   \n",
              "1999            510     1          2.0         1   5       1          45   \n",
              "\n",
              "      m_dep  mobile_wt  n_cores  pc  px_height  px_width   ram  sc_h  sc_w  \\\n",
              "1995    0.8        106        6  14       1222      1890   668    13     4   \n",
              "1996    0.2        187        4   3        915      1965  2032    11    10   \n",
              "1997    0.7        108        8   3        868      1632  3057     9     1   \n",
              "1998    0.1        145        5   5        336       670   869    18    10   \n",
              "1999    0.9        168        6  16        483       754  3919    19     4   \n",
              "\n",
              "      talk_time  three_g  touch_screen  wifi  price_range  \n",
              "1995         19        1             1     0            0  \n",
              "1996         16        1             1     1            2  \n",
              "1997          5        1             1     0            3  \n",
              "1998         19        1             1     1            0  \n",
              "1999          2        1             1     1            3  "
            ],
            "text/html": [
              "\n",
              "  <div id=\"df-e413688d-4c30-4c1b-8e0b-6b10d5d50414\">\n",
              "    <div class=\"colab-df-container\">\n",
              "      <div>\n",
              "<style scoped>\n",
              "    .dataframe tbody tr th:only-of-type {\n",
              "        vertical-align: middle;\n",
              "    }\n",
              "\n",
              "    .dataframe tbody tr th {\n",
              "        vertical-align: top;\n",
              "    }\n",
              "\n",
              "    .dataframe thead th {\n",
              "        text-align: right;\n",
              "    }\n",
              "</style>\n",
              "<table border=\"1\" class=\"dataframe\">\n",
              "  <thead>\n",
              "    <tr style=\"text-align: right;\">\n",
              "      <th></th>\n",
              "      <th>battery_power</th>\n",
              "      <th>blue</th>\n",
              "      <th>clock_speed</th>\n",
              "      <th>dual_sim</th>\n",
              "      <th>fc</th>\n",
              "      <th>four_g</th>\n",
              "      <th>int_memory</th>\n",
              "      <th>m_dep</th>\n",
              "      <th>mobile_wt</th>\n",
              "      <th>n_cores</th>\n",
              "      <th>pc</th>\n",
              "      <th>px_height</th>\n",
              "      <th>px_width</th>\n",
              "      <th>ram</th>\n",
              "      <th>sc_h</th>\n",
              "      <th>sc_w</th>\n",
              "      <th>talk_time</th>\n",
              "      <th>three_g</th>\n",
              "      <th>touch_screen</th>\n",
              "      <th>wifi</th>\n",
              "      <th>price_range</th>\n",
              "    </tr>\n",
              "  </thead>\n",
              "  <tbody>\n",
              "    <tr>\n",
              "      <th>1995</th>\n",
              "      <td>794</td>\n",
              "      <td>1</td>\n",
              "      <td>0.5</td>\n",
              "      <td>1</td>\n",
              "      <td>0</td>\n",
              "      <td>1</td>\n",
              "      <td>2</td>\n",
              "      <td>0.8</td>\n",
              "      <td>106</td>\n",
              "      <td>6</td>\n",
              "      <td>14</td>\n",
              "      <td>1222</td>\n",
              "      <td>1890</td>\n",
              "      <td>668</td>\n",
              "      <td>13</td>\n",
              "      <td>4</td>\n",
              "      <td>19</td>\n",
              "      <td>1</td>\n",
              "      <td>1</td>\n",
              "      <td>0</td>\n",
              "      <td>0</td>\n",
              "    </tr>\n",
              "    <tr>\n",
              "      <th>1996</th>\n",
              "      <td>1965</td>\n",
              "      <td>1</td>\n",
              "      <td>2.6</td>\n",
              "      <td>1</td>\n",
              "      <td>0</td>\n",
              "      <td>0</td>\n",
              "      <td>39</td>\n",
              "      <td>0.2</td>\n",
              "      <td>187</td>\n",
              "      <td>4</td>\n",
              "      <td>3</td>\n",
              "      <td>915</td>\n",
              "      <td>1965</td>\n",
              "      <td>2032</td>\n",
              "      <td>11</td>\n",
              "      <td>10</td>\n",
              "      <td>16</td>\n",
              "      <td>1</td>\n",
              "      <td>1</td>\n",
              "      <td>1</td>\n",
              "      <td>2</td>\n",
              "    </tr>\n",
              "    <tr>\n",
              "      <th>1997</th>\n",
              "      <td>1911</td>\n",
              "      <td>0</td>\n",
              "      <td>0.9</td>\n",
              "      <td>1</td>\n",
              "      <td>1</td>\n",
              "      <td>1</td>\n",
              "      <td>36</td>\n",
              "      <td>0.7</td>\n",
              "      <td>108</td>\n",
              "      <td>8</td>\n",
              "      <td>3</td>\n",
              "      <td>868</td>\n",
              "      <td>1632</td>\n",
              "      <td>3057</td>\n",
              "      <td>9</td>\n",
              "      <td>1</td>\n",
              "      <td>5</td>\n",
              "      <td>1</td>\n",
              "      <td>1</td>\n",
              "      <td>0</td>\n",
              "      <td>3</td>\n",
              "    </tr>\n",
              "    <tr>\n",
              "      <th>1998</th>\n",
              "      <td>1512</td>\n",
              "      <td>0</td>\n",
              "      <td>0.9</td>\n",
              "      <td>0</td>\n",
              "      <td>4</td>\n",
              "      <td>1</td>\n",
              "      <td>46</td>\n",
              "      <td>0.1</td>\n",
              "      <td>145</td>\n",
              "      <td>5</td>\n",
              "      <td>5</td>\n",
              "      <td>336</td>\n",
              "      <td>670</td>\n",
              "      <td>869</td>\n",
              "      <td>18</td>\n",
              "      <td>10</td>\n",
              "      <td>19</td>\n",
              "      <td>1</td>\n",
              "      <td>1</td>\n",
              "      <td>1</td>\n",
              "      <td>0</td>\n",
              "    </tr>\n",
              "    <tr>\n",
              "      <th>1999</th>\n",
              "      <td>510</td>\n",
              "      <td>1</td>\n",
              "      <td>2.0</td>\n",
              "      <td>1</td>\n",
              "      <td>5</td>\n",
              "      <td>1</td>\n",
              "      <td>45</td>\n",
              "      <td>0.9</td>\n",
              "      <td>168</td>\n",
              "      <td>6</td>\n",
              "      <td>16</td>\n",
              "      <td>483</td>\n",
              "      <td>754</td>\n",
              "      <td>3919</td>\n",
              "      <td>19</td>\n",
              "      <td>4</td>\n",
              "      <td>2</td>\n",
              "      <td>1</td>\n",
              "      <td>1</td>\n",
              "      <td>1</td>\n",
              "      <td>3</td>\n",
              "    </tr>\n",
              "  </tbody>\n",
              "</table>\n",
              "</div>\n",
              "      <button class=\"colab-df-convert\" onclick=\"convertToInteractive('df-e413688d-4c30-4c1b-8e0b-6b10d5d50414')\"\n",
              "              title=\"Convert this dataframe to an interactive table.\"\n",
              "              style=\"display:none;\">\n",
              "        \n",
              "  <svg xmlns=\"http://www.w3.org/2000/svg\" height=\"24px\"viewBox=\"0 0 24 24\"\n",
              "       width=\"24px\">\n",
              "    <path d=\"M0 0h24v24H0V0z\" fill=\"none\"/>\n",
              "    <path d=\"M18.56 5.44l.94 2.06.94-2.06 2.06-.94-2.06-.94-.94-2.06-.94 2.06-2.06.94zm-11 1L8.5 8.5l.94-2.06 2.06-.94-2.06-.94L8.5 2.5l-.94 2.06-2.06.94zm10 10l.94 2.06.94-2.06 2.06-.94-2.06-.94-.94-2.06-.94 2.06-2.06.94z\"/><path d=\"M17.41 7.96l-1.37-1.37c-.4-.4-.92-.59-1.43-.59-.52 0-1.04.2-1.43.59L10.3 9.45l-7.72 7.72c-.78.78-.78 2.05 0 2.83L4 21.41c.39.39.9.59 1.41.59.51 0 1.02-.2 1.41-.59l7.78-7.78 2.81-2.81c.8-.78.8-2.07 0-2.86zM5.41 20L4 18.59l7.72-7.72 1.47 1.35L5.41 20z\"/>\n",
              "  </svg>\n",
              "      </button>\n",
              "      \n",
              "  <style>\n",
              "    .colab-df-container {\n",
              "      display:flex;\n",
              "      flex-wrap:wrap;\n",
              "      gap: 12px;\n",
              "    }\n",
              "\n",
              "    .colab-df-convert {\n",
              "      background-color: #E8F0FE;\n",
              "      border: none;\n",
              "      border-radius: 50%;\n",
              "      cursor: pointer;\n",
              "      display: none;\n",
              "      fill: #1967D2;\n",
              "      height: 32px;\n",
              "      padding: 0 0 0 0;\n",
              "      width: 32px;\n",
              "    }\n",
              "\n",
              "    .colab-df-convert:hover {\n",
              "      background-color: #E2EBFA;\n",
              "      box-shadow: 0px 1px 2px rgba(60, 64, 67, 0.3), 0px 1px 3px 1px rgba(60, 64, 67, 0.15);\n",
              "      fill: #174EA6;\n",
              "    }\n",
              "\n",
              "    [theme=dark] .colab-df-convert {\n",
              "      background-color: #3B4455;\n",
              "      fill: #D2E3FC;\n",
              "    }\n",
              "\n",
              "    [theme=dark] .colab-df-convert:hover {\n",
              "      background-color: #434B5C;\n",
              "      box-shadow: 0px 1px 3px 1px rgba(0, 0, 0, 0.15);\n",
              "      filter: drop-shadow(0px 1px 2px rgba(0, 0, 0, 0.3));\n",
              "      fill: #FFFFFF;\n",
              "    }\n",
              "  </style>\n",
              "\n",
              "      <script>\n",
              "        const buttonEl =\n",
              "          document.querySelector('#df-e413688d-4c30-4c1b-8e0b-6b10d5d50414 button.colab-df-convert');\n",
              "        buttonEl.style.display =\n",
              "          google.colab.kernel.accessAllowed ? 'block' : 'none';\n",
              "\n",
              "        async function convertToInteractive(key) {\n",
              "          const element = document.querySelector('#df-e413688d-4c30-4c1b-8e0b-6b10d5d50414');\n",
              "          const dataTable =\n",
              "            await google.colab.kernel.invokeFunction('convertToInteractive',\n",
              "                                                     [key], {});\n",
              "          if (!dataTable) return;\n",
              "\n",
              "          const docLinkHtml = 'Like what you see? Visit the ' +\n",
              "            '<a target=\"_blank\" href=https://colab.research.google.com/notebooks/data_table.ipynb>data table notebook</a>'\n",
              "            + ' to learn more about interactive tables.';\n",
              "          element.innerHTML = '';\n",
              "          dataTable['output_type'] = 'display_data';\n",
              "          await google.colab.output.renderOutput(dataTable, element);\n",
              "          const docLink = document.createElement('div');\n",
              "          docLink.innerHTML = docLinkHtml;\n",
              "          element.appendChild(docLink);\n",
              "        }\n",
              "      </script>\n",
              "    </div>\n",
              "  </div>\n",
              "  "
            ]
          },
          "metadata": {},
          "execution_count": 6
        }
      ],
      "source": [
        "df.tail()"
      ]
    },
    {
      "cell_type": "code",
      "execution_count": 7,
      "metadata": {
        "colab": {
          "base_uri": "https://localhost:8080/"
        },
        "id": "EzXGX5LcklHd",
        "outputId": "f9053ede-d443-4b32-d01c-a0592615d55c"
      },
      "outputs": [
        {
          "output_type": "execute_result",
          "data": {
            "text/plain": [
              "Index(['battery_power', 'blue', 'clock_speed', 'dual_sim', 'fc', 'four_g',\n",
              "       'int_memory', 'm_dep', 'mobile_wt', 'n_cores', 'pc', 'px_height',\n",
              "       'px_width', 'ram', 'sc_h', 'sc_w', 'talk_time', 'three_g',\n",
              "       'touch_screen', 'wifi', 'price_range'],\n",
              "      dtype='object')"
            ]
          },
          "metadata": {},
          "execution_count": 7
        }
      ],
      "source": [
        "df.columns"
      ]
    },
    {
      "cell_type": "code",
      "execution_count": 8,
      "metadata": {
        "colab": {
          "base_uri": "https://localhost:8080/"
        },
        "id": "6MN8ttVwkqrq",
        "outputId": "b488f252-d76f-4eda-c340-49f23104e519"
      },
      "outputs": [
        {
          "output_type": "execute_result",
          "data": {
            "text/plain": [
              "(2000, 21)"
            ]
          },
          "metadata": {},
          "execution_count": 8
        }
      ],
      "source": [
        "df.shape"
      ]
    },
    {
      "cell_type": "code",
      "execution_count": 9,
      "metadata": {
        "colab": {
          "base_uri": "https://localhost:8080/"
        },
        "id": "UNfB_inekstj",
        "outputId": "31d81672-326f-4d02-d67f-d7ffa69392b7"
      },
      "outputs": [
        {
          "output_type": "stream",
          "name": "stdout",
          "text": [
            "<class 'pandas.core.frame.DataFrame'>\n",
            "RangeIndex: 2000 entries, 0 to 1999\n",
            "Data columns (total 21 columns):\n",
            " #   Column         Non-Null Count  Dtype  \n",
            "---  ------         --------------  -----  \n",
            " 0   battery_power  2000 non-null   int64  \n",
            " 1   blue           2000 non-null   int64  \n",
            " 2   clock_speed    2000 non-null   float64\n",
            " 3   dual_sim       2000 non-null   int64  \n",
            " 4   fc             2000 non-null   int64  \n",
            " 5   four_g         2000 non-null   int64  \n",
            " 6   int_memory     2000 non-null   int64  \n",
            " 7   m_dep          2000 non-null   float64\n",
            " 8   mobile_wt      2000 non-null   int64  \n",
            " 9   n_cores        2000 non-null   int64  \n",
            " 10  pc             2000 non-null   int64  \n",
            " 11  px_height      2000 non-null   int64  \n",
            " 12  px_width       2000 non-null   int64  \n",
            " 13  ram            2000 non-null   int64  \n",
            " 14  sc_h           2000 non-null   int64  \n",
            " 15  sc_w           2000 non-null   int64  \n",
            " 16  talk_time      2000 non-null   int64  \n",
            " 17  three_g        2000 non-null   int64  \n",
            " 18  touch_screen   2000 non-null   int64  \n",
            " 19  wifi           2000 non-null   int64  \n",
            " 20  price_range    2000 non-null   int64  \n",
            "dtypes: float64(2), int64(19)\n",
            "memory usage: 328.2 KB\n"
          ]
        }
      ],
      "source": [
        "df.info()"
      ]
    },
    {
      "cell_type": "code",
      "execution_count": 10,
      "metadata": {
        "colab": {
          "base_uri": "https://localhost:8080/",
          "height": 364
        },
        "id": "KVPb3DyDku3P",
        "outputId": "4b73992b-e8b3-4c0b-c75b-cb62414db721"
      },
      "outputs": [
        {
          "output_type": "execute_result",
          "data": {
            "text/plain": [
              "       battery_power       blue  clock_speed     dual_sim           fc  \\\n",
              "count    2000.000000  2000.0000  2000.000000  2000.000000  2000.000000   \n",
              "mean     1238.518500     0.4950     1.522250     0.509500     4.309500   \n",
              "std       439.418206     0.5001     0.816004     0.500035     4.341444   \n",
              "min       501.000000     0.0000     0.500000     0.000000     0.000000   \n",
              "25%       851.750000     0.0000     0.700000     0.000000     1.000000   \n",
              "50%      1226.000000     0.0000     1.500000     1.000000     3.000000   \n",
              "75%      1615.250000     1.0000     2.200000     1.000000     7.000000   \n",
              "max      1998.000000     1.0000     3.000000     1.000000    19.000000   \n",
              "\n",
              "            four_g   int_memory        m_dep    mobile_wt      n_cores  \\\n",
              "count  2000.000000  2000.000000  2000.000000  2000.000000  2000.000000   \n",
              "mean      0.521500    32.046500     0.501750   140.249000     4.520500   \n",
              "std       0.499662    18.145715     0.288416    35.399655     2.287837   \n",
              "min       0.000000     2.000000     0.100000    80.000000     1.000000   \n",
              "25%       0.000000    16.000000     0.200000   109.000000     3.000000   \n",
              "50%       1.000000    32.000000     0.500000   141.000000     4.000000   \n",
              "75%       1.000000    48.000000     0.800000   170.000000     7.000000   \n",
              "max       1.000000    64.000000     1.000000   200.000000     8.000000   \n",
              "\n",
              "                pc    px_height     px_width          ram         sc_h  \\\n",
              "count  2000.000000  2000.000000  2000.000000  2000.000000  2000.000000   \n",
              "mean      9.916500   645.108000  1251.515500  2124.213000    12.306500   \n",
              "std       6.064315   443.780811   432.199447  1084.732044     4.213245   \n",
              "min       0.000000     0.000000   500.000000   256.000000     5.000000   \n",
              "25%       5.000000   282.750000   874.750000  1207.500000     9.000000   \n",
              "50%      10.000000   564.000000  1247.000000  2146.500000    12.000000   \n",
              "75%      15.000000   947.250000  1633.000000  3064.500000    16.000000   \n",
              "max      20.000000  1960.000000  1998.000000  3998.000000    19.000000   \n",
              "\n",
              "              sc_w    talk_time      three_g  touch_screen         wifi  \\\n",
              "count  2000.000000  2000.000000  2000.000000   2000.000000  2000.000000   \n",
              "mean      5.767000    11.011000     0.761500      0.503000     0.507000   \n",
              "std       4.356398     5.463955     0.426273      0.500116     0.500076   \n",
              "min       0.000000     2.000000     0.000000      0.000000     0.000000   \n",
              "25%       2.000000     6.000000     1.000000      0.000000     0.000000   \n",
              "50%       5.000000    11.000000     1.000000      1.000000     1.000000   \n",
              "75%       9.000000    16.000000     1.000000      1.000000     1.000000   \n",
              "max      18.000000    20.000000     1.000000      1.000000     1.000000   \n",
              "\n",
              "       price_range  \n",
              "count  2000.000000  \n",
              "mean      1.500000  \n",
              "std       1.118314  \n",
              "min       0.000000  \n",
              "25%       0.750000  \n",
              "50%       1.500000  \n",
              "75%       2.250000  \n",
              "max       3.000000  "
            ],
            "text/html": [
              "\n",
              "  <div id=\"df-76e38a08-7fa1-498f-afce-4068bcd695cd\">\n",
              "    <div class=\"colab-df-container\">\n",
              "      <div>\n",
              "<style scoped>\n",
              "    .dataframe tbody tr th:only-of-type {\n",
              "        vertical-align: middle;\n",
              "    }\n",
              "\n",
              "    .dataframe tbody tr th {\n",
              "        vertical-align: top;\n",
              "    }\n",
              "\n",
              "    .dataframe thead th {\n",
              "        text-align: right;\n",
              "    }\n",
              "</style>\n",
              "<table border=\"1\" class=\"dataframe\">\n",
              "  <thead>\n",
              "    <tr style=\"text-align: right;\">\n",
              "      <th></th>\n",
              "      <th>battery_power</th>\n",
              "      <th>blue</th>\n",
              "      <th>clock_speed</th>\n",
              "      <th>dual_sim</th>\n",
              "      <th>fc</th>\n",
              "      <th>four_g</th>\n",
              "      <th>int_memory</th>\n",
              "      <th>m_dep</th>\n",
              "      <th>mobile_wt</th>\n",
              "      <th>n_cores</th>\n",
              "      <th>pc</th>\n",
              "      <th>px_height</th>\n",
              "      <th>px_width</th>\n",
              "      <th>ram</th>\n",
              "      <th>sc_h</th>\n",
              "      <th>sc_w</th>\n",
              "      <th>talk_time</th>\n",
              "      <th>three_g</th>\n",
              "      <th>touch_screen</th>\n",
              "      <th>wifi</th>\n",
              "      <th>price_range</th>\n",
              "    </tr>\n",
              "  </thead>\n",
              "  <tbody>\n",
              "    <tr>\n",
              "      <th>count</th>\n",
              "      <td>2000.000000</td>\n",
              "      <td>2000.0000</td>\n",
              "      <td>2000.000000</td>\n",
              "      <td>2000.000000</td>\n",
              "      <td>2000.000000</td>\n",
              "      <td>2000.000000</td>\n",
              "      <td>2000.000000</td>\n",
              "      <td>2000.000000</td>\n",
              "      <td>2000.000000</td>\n",
              "      <td>2000.000000</td>\n",
              "      <td>2000.000000</td>\n",
              "      <td>2000.000000</td>\n",
              "      <td>2000.000000</td>\n",
              "      <td>2000.000000</td>\n",
              "      <td>2000.000000</td>\n",
              "      <td>2000.000000</td>\n",
              "      <td>2000.000000</td>\n",
              "      <td>2000.000000</td>\n",
              "      <td>2000.000000</td>\n",
              "      <td>2000.000000</td>\n",
              "      <td>2000.000000</td>\n",
              "    </tr>\n",
              "    <tr>\n",
              "      <th>mean</th>\n",
              "      <td>1238.518500</td>\n",
              "      <td>0.4950</td>\n",
              "      <td>1.522250</td>\n",
              "      <td>0.509500</td>\n",
              "      <td>4.309500</td>\n",
              "      <td>0.521500</td>\n",
              "      <td>32.046500</td>\n",
              "      <td>0.501750</td>\n",
              "      <td>140.249000</td>\n",
              "      <td>4.520500</td>\n",
              "      <td>9.916500</td>\n",
              "      <td>645.108000</td>\n",
              "      <td>1251.515500</td>\n",
              "      <td>2124.213000</td>\n",
              "      <td>12.306500</td>\n",
              "      <td>5.767000</td>\n",
              "      <td>11.011000</td>\n",
              "      <td>0.761500</td>\n",
              "      <td>0.503000</td>\n",
              "      <td>0.507000</td>\n",
              "      <td>1.500000</td>\n",
              "    </tr>\n",
              "    <tr>\n",
              "      <th>std</th>\n",
              "      <td>439.418206</td>\n",
              "      <td>0.5001</td>\n",
              "      <td>0.816004</td>\n",
              "      <td>0.500035</td>\n",
              "      <td>4.341444</td>\n",
              "      <td>0.499662</td>\n",
              "      <td>18.145715</td>\n",
              "      <td>0.288416</td>\n",
              "      <td>35.399655</td>\n",
              "      <td>2.287837</td>\n",
              "      <td>6.064315</td>\n",
              "      <td>443.780811</td>\n",
              "      <td>432.199447</td>\n",
              "      <td>1084.732044</td>\n",
              "      <td>4.213245</td>\n",
              "      <td>4.356398</td>\n",
              "      <td>5.463955</td>\n",
              "      <td>0.426273</td>\n",
              "      <td>0.500116</td>\n",
              "      <td>0.500076</td>\n",
              "      <td>1.118314</td>\n",
              "    </tr>\n",
              "    <tr>\n",
              "      <th>min</th>\n",
              "      <td>501.000000</td>\n",
              "      <td>0.0000</td>\n",
              "      <td>0.500000</td>\n",
              "      <td>0.000000</td>\n",
              "      <td>0.000000</td>\n",
              "      <td>0.000000</td>\n",
              "      <td>2.000000</td>\n",
              "      <td>0.100000</td>\n",
              "      <td>80.000000</td>\n",
              "      <td>1.000000</td>\n",
              "      <td>0.000000</td>\n",
              "      <td>0.000000</td>\n",
              "      <td>500.000000</td>\n",
              "      <td>256.000000</td>\n",
              "      <td>5.000000</td>\n",
              "      <td>0.000000</td>\n",
              "      <td>2.000000</td>\n",
              "      <td>0.000000</td>\n",
              "      <td>0.000000</td>\n",
              "      <td>0.000000</td>\n",
              "      <td>0.000000</td>\n",
              "    </tr>\n",
              "    <tr>\n",
              "      <th>25%</th>\n",
              "      <td>851.750000</td>\n",
              "      <td>0.0000</td>\n",
              "      <td>0.700000</td>\n",
              "      <td>0.000000</td>\n",
              "      <td>1.000000</td>\n",
              "      <td>0.000000</td>\n",
              "      <td>16.000000</td>\n",
              "      <td>0.200000</td>\n",
              "      <td>109.000000</td>\n",
              "      <td>3.000000</td>\n",
              "      <td>5.000000</td>\n",
              "      <td>282.750000</td>\n",
              "      <td>874.750000</td>\n",
              "      <td>1207.500000</td>\n",
              "      <td>9.000000</td>\n",
              "      <td>2.000000</td>\n",
              "      <td>6.000000</td>\n",
              "      <td>1.000000</td>\n",
              "      <td>0.000000</td>\n",
              "      <td>0.000000</td>\n",
              "      <td>0.750000</td>\n",
              "    </tr>\n",
              "    <tr>\n",
              "      <th>50%</th>\n",
              "      <td>1226.000000</td>\n",
              "      <td>0.0000</td>\n",
              "      <td>1.500000</td>\n",
              "      <td>1.000000</td>\n",
              "      <td>3.000000</td>\n",
              "      <td>1.000000</td>\n",
              "      <td>32.000000</td>\n",
              "      <td>0.500000</td>\n",
              "      <td>141.000000</td>\n",
              "      <td>4.000000</td>\n",
              "      <td>10.000000</td>\n",
              "      <td>564.000000</td>\n",
              "      <td>1247.000000</td>\n",
              "      <td>2146.500000</td>\n",
              "      <td>12.000000</td>\n",
              "      <td>5.000000</td>\n",
              "      <td>11.000000</td>\n",
              "      <td>1.000000</td>\n",
              "      <td>1.000000</td>\n",
              "      <td>1.000000</td>\n",
              "      <td>1.500000</td>\n",
              "    </tr>\n",
              "    <tr>\n",
              "      <th>75%</th>\n",
              "      <td>1615.250000</td>\n",
              "      <td>1.0000</td>\n",
              "      <td>2.200000</td>\n",
              "      <td>1.000000</td>\n",
              "      <td>7.000000</td>\n",
              "      <td>1.000000</td>\n",
              "      <td>48.000000</td>\n",
              "      <td>0.800000</td>\n",
              "      <td>170.000000</td>\n",
              "      <td>7.000000</td>\n",
              "      <td>15.000000</td>\n",
              "      <td>947.250000</td>\n",
              "      <td>1633.000000</td>\n",
              "      <td>3064.500000</td>\n",
              "      <td>16.000000</td>\n",
              "      <td>9.000000</td>\n",
              "      <td>16.000000</td>\n",
              "      <td>1.000000</td>\n",
              "      <td>1.000000</td>\n",
              "      <td>1.000000</td>\n",
              "      <td>2.250000</td>\n",
              "    </tr>\n",
              "    <tr>\n",
              "      <th>max</th>\n",
              "      <td>1998.000000</td>\n",
              "      <td>1.0000</td>\n",
              "      <td>3.000000</td>\n",
              "      <td>1.000000</td>\n",
              "      <td>19.000000</td>\n",
              "      <td>1.000000</td>\n",
              "      <td>64.000000</td>\n",
              "      <td>1.000000</td>\n",
              "      <td>200.000000</td>\n",
              "      <td>8.000000</td>\n",
              "      <td>20.000000</td>\n",
              "      <td>1960.000000</td>\n",
              "      <td>1998.000000</td>\n",
              "      <td>3998.000000</td>\n",
              "      <td>19.000000</td>\n",
              "      <td>18.000000</td>\n",
              "      <td>20.000000</td>\n",
              "      <td>1.000000</td>\n",
              "      <td>1.000000</td>\n",
              "      <td>1.000000</td>\n",
              "      <td>3.000000</td>\n",
              "    </tr>\n",
              "  </tbody>\n",
              "</table>\n",
              "</div>\n",
              "      <button class=\"colab-df-convert\" onclick=\"convertToInteractive('df-76e38a08-7fa1-498f-afce-4068bcd695cd')\"\n",
              "              title=\"Convert this dataframe to an interactive table.\"\n",
              "              style=\"display:none;\">\n",
              "        \n",
              "  <svg xmlns=\"http://www.w3.org/2000/svg\" height=\"24px\"viewBox=\"0 0 24 24\"\n",
              "       width=\"24px\">\n",
              "    <path d=\"M0 0h24v24H0V0z\" fill=\"none\"/>\n",
              "    <path d=\"M18.56 5.44l.94 2.06.94-2.06 2.06-.94-2.06-.94-.94-2.06-.94 2.06-2.06.94zm-11 1L8.5 8.5l.94-2.06 2.06-.94-2.06-.94L8.5 2.5l-.94 2.06-2.06.94zm10 10l.94 2.06.94-2.06 2.06-.94-2.06-.94-.94-2.06-.94 2.06-2.06.94z\"/><path d=\"M17.41 7.96l-1.37-1.37c-.4-.4-.92-.59-1.43-.59-.52 0-1.04.2-1.43.59L10.3 9.45l-7.72 7.72c-.78.78-.78 2.05 0 2.83L4 21.41c.39.39.9.59 1.41.59.51 0 1.02-.2 1.41-.59l7.78-7.78 2.81-2.81c.8-.78.8-2.07 0-2.86zM5.41 20L4 18.59l7.72-7.72 1.47 1.35L5.41 20z\"/>\n",
              "  </svg>\n",
              "      </button>\n",
              "      \n",
              "  <style>\n",
              "    .colab-df-container {\n",
              "      display:flex;\n",
              "      flex-wrap:wrap;\n",
              "      gap: 12px;\n",
              "    }\n",
              "\n",
              "    .colab-df-convert {\n",
              "      background-color: #E8F0FE;\n",
              "      border: none;\n",
              "      border-radius: 50%;\n",
              "      cursor: pointer;\n",
              "      display: none;\n",
              "      fill: #1967D2;\n",
              "      height: 32px;\n",
              "      padding: 0 0 0 0;\n",
              "      width: 32px;\n",
              "    }\n",
              "\n",
              "    .colab-df-convert:hover {\n",
              "      background-color: #E2EBFA;\n",
              "      box-shadow: 0px 1px 2px rgba(60, 64, 67, 0.3), 0px 1px 3px 1px rgba(60, 64, 67, 0.15);\n",
              "      fill: #174EA6;\n",
              "    }\n",
              "\n",
              "    [theme=dark] .colab-df-convert {\n",
              "      background-color: #3B4455;\n",
              "      fill: #D2E3FC;\n",
              "    }\n",
              "\n",
              "    [theme=dark] .colab-df-convert:hover {\n",
              "      background-color: #434B5C;\n",
              "      box-shadow: 0px 1px 3px 1px rgba(0, 0, 0, 0.15);\n",
              "      filter: drop-shadow(0px 1px 2px rgba(0, 0, 0, 0.3));\n",
              "      fill: #FFFFFF;\n",
              "    }\n",
              "  </style>\n",
              "\n",
              "      <script>\n",
              "        const buttonEl =\n",
              "          document.querySelector('#df-76e38a08-7fa1-498f-afce-4068bcd695cd button.colab-df-convert');\n",
              "        buttonEl.style.display =\n",
              "          google.colab.kernel.accessAllowed ? 'block' : 'none';\n",
              "\n",
              "        async function convertToInteractive(key) {\n",
              "          const element = document.querySelector('#df-76e38a08-7fa1-498f-afce-4068bcd695cd');\n",
              "          const dataTable =\n",
              "            await google.colab.kernel.invokeFunction('convertToInteractive',\n",
              "                                                     [key], {});\n",
              "          if (!dataTable) return;\n",
              "\n",
              "          const docLinkHtml = 'Like what you see? Visit the ' +\n",
              "            '<a target=\"_blank\" href=https://colab.research.google.com/notebooks/data_table.ipynb>data table notebook</a>'\n",
              "            + ' to learn more about interactive tables.';\n",
              "          element.innerHTML = '';\n",
              "          dataTable['output_type'] = 'display_data';\n",
              "          await google.colab.output.renderOutput(dataTable, element);\n",
              "          const docLink = document.createElement('div');\n",
              "          docLink.innerHTML = docLinkHtml;\n",
              "          element.appendChild(docLink);\n",
              "        }\n",
              "      </script>\n",
              "    </div>\n",
              "  </div>\n",
              "  "
            ]
          },
          "metadata": {},
          "execution_count": 10
        }
      ],
      "source": [
        "df.describe()"
      ]
    },
    {
      "cell_type": "code",
      "execution_count": 11,
      "metadata": {
        "colab": {
          "base_uri": "https://localhost:8080/"
        },
        "id": "TOo0GOupkyY0",
        "outputId": "75b693ba-911c-4ef2-b4d6-323a48b4cd71"
      },
      "outputs": [
        {
          "output_type": "execute_result",
          "data": {
            "text/plain": [
              "battery_power    0\n",
              "blue             0\n",
              "clock_speed      0\n",
              "dual_sim         0\n",
              "fc               0\n",
              "four_g           0\n",
              "int_memory       0\n",
              "m_dep            0\n",
              "mobile_wt        0\n",
              "n_cores          0\n",
              "pc               0\n",
              "px_height        0\n",
              "px_width         0\n",
              "ram              0\n",
              "sc_h             0\n",
              "sc_w             0\n",
              "talk_time        0\n",
              "three_g          0\n",
              "touch_screen     0\n",
              "wifi             0\n",
              "price_range      0\n",
              "dtype: int64"
            ]
          },
          "metadata": {},
          "execution_count": 11
        }
      ],
      "source": [
        "# check for Null values or missing values\n",
        "df.isnull().sum()"
      ]
    },
    {
      "cell_type": "code",
      "execution_count": 12,
      "metadata": {
        "id": "T2gTufIDltEF"
      },
      "outputs": [],
      "source": [
        "df_mobile=df.copy()"
      ]
    },
    {
      "cell_type": "markdown",
      "metadata": {
        "id": "7wVoNQ7VlVVQ"
      },
      "source": [
        "## EDA"
      ]
    },
    {
      "cell_type": "code",
      "execution_count": 13,
      "metadata": {
        "colab": {
          "base_uri": "https://localhost:8080/"
        },
        "id": "okcLWt5aL3r0",
        "outputId": "f9adc54b-a1f6-49dd-b93f-b80848ccde9e"
      },
      "outputs": [
        {
          "output_type": "execute_result",
          "data": {
            "text/plain": [
              "Index(['battery_power', 'blue', 'clock_speed', 'dual_sim', 'fc', 'four_g',\n",
              "       'int_memory', 'm_dep', 'mobile_wt', 'n_cores', 'pc', 'px_height',\n",
              "       'px_width', 'ram', 'sc_h', 'sc_w', 'talk_time', 'three_g',\n",
              "       'touch_screen', 'wifi', 'price_range'],\n",
              "      dtype='object')"
            ]
          },
          "metadata": {},
          "execution_count": 13
        }
      ],
      "source": [
        "df_mobile.columns"
      ]
    },
    {
      "cell_type": "code",
      "execution_count": 14,
      "metadata": {
        "colab": {
          "base_uri": "https://localhost:8080/"
        },
        "id": "RCjo6xF2L1Jv",
        "outputId": "24a93c27-c5bc-4cb7-96f4-54cee12f41ae"
      },
      "outputs": [
        {
          "output_type": "execute_result",
          "data": {
            "text/plain": [
              "0    1010\n",
              "1     990\n",
              "Name: blue, dtype: int64"
            ]
          },
          "metadata": {},
          "execution_count": 14
        }
      ],
      "source": [
        "df_mobile[\"blue\"].value_counts()"
      ]
    },
    {
      "cell_type": "code",
      "execution_count": 15,
      "metadata": {
        "colab": {
          "base_uri": "https://localhost:8080/"
        },
        "id": "jqCxKrU_MADT",
        "outputId": "fec8b146-8c13-4036-c8a1-aca03c520ac1"
      },
      "outputs": [
        {
          "output_type": "execute_result",
          "data": {
            "text/plain": [
              "4    274\n",
              "7    259\n",
              "8    256\n",
              "2    247\n",
              "3    246\n",
              "5    246\n",
              "1    242\n",
              "6    230\n",
              "Name: n_cores, dtype: int64"
            ]
          },
          "metadata": {},
          "execution_count": 15
        }
      ],
      "source": [
        "df_mobile[\"n_cores\"].value_counts()"
      ]
    },
    {
      "cell_type": "code",
      "execution_count": 16,
      "metadata": {
        "colab": {
          "base_uri": "https://localhost:8080/"
        },
        "id": "IPiNPAtTMHly",
        "outputId": "7aa60841-e01e-4351-ce88-8c5100f90c50"
      },
      "outputs": [
        {
          "output_type": "execute_result",
          "data": {
            "text/plain": [
              "0.5    413\n",
              "2.8     85\n",
              "2.3     78\n",
              "2.1     76\n",
              "1.6     76\n",
              "2.5     74\n",
              "0.6     74\n",
              "1.4     70\n",
              "1.3     68\n",
              "1.5     67\n",
              "2.0     67\n",
              "1.9     65\n",
              "0.7     64\n",
              "2.9     62\n",
              "1.8     62\n",
              "1.0     61\n",
              "1.7     60\n",
              "2.2     59\n",
              "0.9     58\n",
              "2.4     58\n",
              "0.8     58\n",
              "1.2     56\n",
              "2.6     55\n",
              "2.7     55\n",
              "1.1     51\n",
              "3.0     28\n",
              "Name: clock_speed, dtype: int64"
            ]
          },
          "metadata": {},
          "execution_count": 16
        }
      ],
      "source": [
        "df_mobile[\"clock_speed\"].value_counts()"
      ]
    },
    {
      "cell_type": "code",
      "execution_count": 17,
      "metadata": {
        "colab": {
          "base_uri": "https://localhost:8080/"
        },
        "id": "NcuzGfdPMUEb",
        "outputId": "2c16a587-a274-4aea-a2ad-42ad61d40577"
      },
      "outputs": [
        {
          "output_type": "execute_result",
          "data": {
            "text/plain": [
              "1    1019\n",
              "0     981\n",
              "Name: dual_sim, dtype: int64"
            ]
          },
          "metadata": {},
          "execution_count": 17
        }
      ],
      "source": [
        "df_mobile[\"dual_sim\"].value_counts()"
      ]
    },
    {
      "cell_type": "code",
      "execution_count": 18,
      "metadata": {
        "colab": {
          "base_uri": "https://localhost:8080/"
        },
        "id": "vC06gOyLMZLm",
        "outputId": "0af80456-046f-4d35-b1f9-9555c1c1d832"
      },
      "outputs": [
        {
          "output_type": "execute_result",
          "data": {
            "text/plain": [
              "1    1014\n",
              "0     986\n",
              "Name: wifi, dtype: int64"
            ]
          },
          "metadata": {},
          "execution_count": 18
        }
      ],
      "source": [
        "df_mobile[\"wifi\"].value_counts()"
      ]
    },
    {
      "cell_type": "code",
      "execution_count": 19,
      "metadata": {
        "colab": {
          "base_uri": "https://localhost:8080/"
        },
        "id": "FtVCBILBMcD9",
        "outputId": "078a89cd-fefb-4387-8c21-d62c2620f21b"
      },
      "outputs": [
        {
          "output_type": "execute_result",
          "data": {
            "text/plain": [
              "1    1006\n",
              "0     994\n",
              "Name: touch_screen, dtype: int64"
            ]
          },
          "metadata": {},
          "execution_count": 19
        }
      ],
      "source": [
        "df_mobile[\"touch_screen\"].value_counts()"
      ]
    },
    {
      "cell_type": "code",
      "execution_count": 20,
      "metadata": {
        "colab": {
          "base_uri": "https://localhost:8080/"
        },
        "id": "VJEtl5U8MgBd",
        "outputId": "dd38a4d8-48f9-4526-f065-2e47add4acc6"
      },
      "outputs": [
        {
          "output_type": "execute_result",
          "data": {
            "text/plain": [
              "1    500\n",
              "2    500\n",
              "3    500\n",
              "0    500\n",
              "Name: price_range, dtype: int64"
            ]
          },
          "metadata": {},
          "execution_count": 20
        }
      ],
      "source": [
        "df_mobile[\"price_range\"].value_counts()"
      ]
    },
    {
      "cell_type": "markdown",
      "source": [
        "0 (low cost), 1 (medium cost), 2 (high cost) and 3 (very high cost)."
      ],
      "metadata": {
        "id": "eT5iURhngNs8"
      }
    },
    {
      "cell_type": "markdown",
      "source": [
        "**Plot graph of independent feature with target variable**"
      ],
      "metadata": {
        "id": "ALPOouaggUHz"
      }
    },
    {
      "cell_type": "code",
      "execution_count": 21,
      "metadata": {
        "colab": {
          "base_uri": "https://localhost:8080/",
          "height": 585
        },
        "id": "6jw9GtuVlFQa",
        "outputId": "69d6e32f-4772-4fcd-af1a-69423c741dbb"
      },
      "outputs": [
        {
          "output_type": "stream",
          "name": "stderr",
          "text": [
            "/usr/local/lib/python3.7/dist-packages/seaborn/_decorators.py:43: FutureWarning: Pass the following variables as keyword args: x, y. From version 0.12, the only valid positional argument will be `data`, and passing other arguments without an explicit keyword will result in an error or misinterpretation.\n",
            "  FutureWarning\n"
          ]
        },
        {
          "output_type": "execute_result",
          "data": {
            "text/plain": [
              "Text(0.5, 1.0, 'Price vs Battery power')"
            ]
          },
          "metadata": {},
          "execution_count": 21
        },
        {
          "output_type": "display_data",
          "data": {
            "text/plain": [
              "<Figure size 864x576 with 1 Axes>"
            ],
            "image/png": "[encoded data removed]"
          },
          "metadata": {
            "needs_background": "light"
          }
        }
      ],
      "source": [
        "# line plot of traget variable (price) vs Battery power\n",
        "plt.figure(figsize=(12,8))\n",
        "sns.lineplot(\"price_range\",\"battery_power\",data=df_mobile)\n",
        "plt.xlabel(\"Price range\")\n",
        "plt.ylabel(\"Battery power\")\n",
        "plt.title(\"Price vs Battery power\")"
      ]
    },
    {
      "cell_type": "markdown",
      "metadata": {
        "id": "HejpWemTHMC8"
      },
      "source": [
        "As see in line plot that  as Battery power increases correspondly price range is also increses. "
      ]
    },
    {
      "cell_type": "code",
      "execution_count": 22,
      "metadata": {
        "colab": {
          "base_uri": "https://localhost:8080/",
          "height": 585
        },
        "id": "FZVjka6Klyaa",
        "outputId": "1b1217d3-dbb2-4864-a669-57e2a1b00c9d"
      },
      "outputs": [
        {
          "output_type": "stream",
          "name": "stderr",
          "text": [
            "/usr/local/lib/python3.7/dist-packages/seaborn/_decorators.py:43: FutureWarning: Pass the following variables as keyword args: x, y. From version 0.12, the only valid positional argument will be `data`, and passing other arguments without an explicit keyword will result in an error or misinterpretation.\n",
            "  FutureWarning\n"
          ]
        },
        {
          "output_type": "execute_result",
          "data": {
            "text/plain": [
              "Text(0.5, 1.0, 'Price vs Ram')"
            ]
          },
          "metadata": {},
          "execution_count": 22
        },
        {
          "output_type": "display_data",
          "data": {
            "text/plain": [
              "<Figure size 864x576 with 1 Axes>"
            ],
            "image/png": "[encoded data removed]"
          },
          "metadata": {
            "needs_background": "light"
          }
        }
      ],
      "source": [
        "# bar plot of traget variable price vs ram \n",
        "plt.figure(figsize=(12,8))\n",
        "sns.barplot(\"price_range\",\"ram\",data=df_mobile)\n",
        "plt.xlabel(\"Price range\")\n",
        "plt.ylabel(\"Ram\")\n",
        "plt.title(\"Price vs Ram\")"
      ]
    },
    {
      "cell_type": "markdown",
      "metadata": {
        "id": "pL8CNxjEHhK4"
      },
      "source": [
        "As see in bar graph Increase in Ram size also Increase in Price, this is because cost of RAM is incease ass size of RAM is increase so price of Moble is also increase."
      ]
    },
    {
      "cell_type": "code",
      "execution_count": 23,
      "metadata": {
        "colab": {
          "base_uri": "https://localhost:8080/",
          "height": 585
        },
        "id": "rhWqW218nI3o",
        "outputId": "892b8a39-8176-4c03-9b3a-9bd7a60cec2c"
      },
      "outputs": [
        {
          "output_type": "stream",
          "name": "stderr",
          "text": [
            "/usr/local/lib/python3.7/dist-packages/seaborn/_decorators.py:43: FutureWarning: Pass the following variables as keyword args: x, y. From version 0.12, the only valid positional argument will be `data`, and passing other arguments without an explicit keyword will result in an error or misinterpretation.\n",
            "  FutureWarning\n"
          ]
        },
        {
          "output_type": "execute_result",
          "data": {
            "text/plain": [
              "Text(0.5, 1.0, 'Price vs Touch screen')"
            ]
          },
          "metadata": {},
          "execution_count": 23
        },
        {
          "output_type": "display_data",
          "data": {
            "text/plain": [
              "<Figure size 864x576 with 1 Axes>"
            ],
            "image/png": "[encoded data removed]"
          },
          "metadata": {
            "needs_background": "light"
          }
        }
      ],
      "source": [
        "# bar plot of target variable price vs Toch screen\n",
        "plt.figure(figsize=(12,8))\n",
        "sns.barplot(\"price_range\",\"touch_screen\",data=df_mobile)\n",
        "plt.xlabel(\"Price range\")\n",
        "plt.ylabel(\"Touch screen\")\n",
        "plt.title(\"Price vs Touch screen\")"
      ]
    },
    {
      "cell_type": "code",
      "execution_count": 24,
      "metadata": {
        "colab": {
          "base_uri": "https://localhost:8080/",
          "height": 585
        },
        "id": "6ePO93ZqnXv0",
        "outputId": "703e197b-29bf-4300-d479-597a6c42ecc9"
      },
      "outputs": [
        {
          "output_type": "stream",
          "name": "stderr",
          "text": [
            "/usr/local/lib/python3.7/dist-packages/seaborn/_decorators.py:43: FutureWarning: Pass the following variables as keyword args: x, y. From version 0.12, the only valid positional argument will be `data`, and passing other arguments without an explicit keyword will result in an error or misinterpretation.\n",
            "  FutureWarning\n"
          ]
        },
        {
          "output_type": "execute_result",
          "data": {
            "text/plain": [
              "Text(0.5, 1.0, 'Price vs Number of cores')"
            ]
          },
          "metadata": {},
          "execution_count": 24
        },
        {
          "output_type": "display_data",
          "data": {
            "text/plain": [
              "<Figure size 864x576 with 1 Axes>"
            ],
            "image/png": "[encoded data removed]"
          },
          "metadata": {
            "needs_background": "light"
          }
        }
      ],
      "source": [
        "# bar plot of target variable price vs N core\n",
        "plt.figure(figsize=(12,8))\n",
        "sns.barplot(\"price_range\",\"n_cores\",data=df_mobile)\n",
        "plt.xlabel(\"Price range\")\n",
        "plt.ylabel(\"n core\")\n",
        "plt.title(\"Price vs Number of cores\")"
      ]
    },
    {
      "cell_type": "markdown",
      "metadata": {
        "id": "rlwJvkRyInYt"
      },
      "source": [
        "As see in graph there is no significant change in price with number of cores"
      ]
    },
    {
      "cell_type": "code",
      "execution_count": 25,
      "metadata": {
        "colab": {
          "base_uri": "https://localhost:8080/",
          "height": 352
        },
        "id": "nZYnybdowJNt",
        "outputId": "20adad2d-774c-477b-df4c-55d1526dc9ee"
      },
      "outputs": [
        {
          "output_type": "execute_result",
          "data": {
            "text/plain": [
              "([<matplotlib.patches.Wedge at 0x7fa5daaa8e50>,\n",
              "  <matplotlib.patches.Wedge at 0x7fa5daab5910>],\n",
              " [Text(-1.0998642959886566, -0.01727803256672628, 'Bluthoot support'),\n",
              "  Text(1.0998642959886566, 0.017278032566726147, 'Bluthoot Not Support')],\n",
              " [Text(-0.5999259796301762, -0.009424381400032515, '50.5%'),\n",
              "  Text(0.5999259796301762, 0.009424381400032442, '49.5%')])"
            ]
          },
          "metadata": {},
          "execution_count": 25
        },
        {
          "output_type": "display_data",
          "data": {
            "text/plain": [
              "<Figure size 432x288 with 1 Axes>"
            ],
            "image/png": "[encoded data removed]"
          },
          "metadata": {}
        }
      ],
      "source": [
        "# pie chart of is that mobile has bluthoot support or not\n",
        "data=df_mobile[\"blue\"].value_counts().values\n",
        "labels=[\"Bluthoot support\",\"Bluthoot Not Support\"]\n",
        "plt.pie(data,labels=labels,autopct=\"%.01f%%\",shadow=True,startangle=90)"
      ]
    },
    {
      "cell_type": "markdown",
      "metadata": {
        "id": "S26MadGwI_5K"
      },
      "source": [
        "Almost same ratio of 50%, mobile having bluthoot and not having bluthoot"
      ]
    },
    {
      "cell_type": "code",
      "execution_count": 26,
      "metadata": {
        "colab": {
          "base_uri": "https://localhost:8080/",
          "height": 352
        },
        "id": "k--A-66TxA0i",
        "outputId": "d0252ec6-1673-4fe3-8248-45097465b793"
      },
      "outputs": [
        {
          "output_type": "execute_result",
          "data": {
            "text/plain": [
              "([<matplotlib.patches.Wedge at 0x7fa5daa88190>,\n",
              "  <matplotlib.patches.Wedge at 0x7fa5daa88b90>],\n",
              " [Text(-1.097491732278043, -0.07424215501546373, '4G - support'),\n",
              "  Text(1.0974917322780433, 0.07424215501546359, '4G - Not Support')],\n",
              " [Text(-0.5986318539698416, -0.04049572091752567, '52.1%'),\n",
              "  Text(0.5986318539698418, 0.040495720917525596, '47.9%')])"
            ]
          },
          "metadata": {},
          "execution_count": 26
        },
        {
          "output_type": "display_data",
          "data": {
            "text/plain": [
              "<Figure size 432x288 with 1 Axes>"
            ],
            "image/png": "[encoded data removed]"
          },
          "metadata": {}
        }
      ],
      "source": [
        "# mobile is 4g support or not \n",
        "data=df_mobile[\"four_g\"].value_counts().values\n",
        "labels=[\"4G - support\",\"4G - Not Support\"]\n",
        "plt.pie(data,labels=labels,autopct=\"%.01f%%\",shadow=True,startangle=90)"
      ]
    },
    {
      "cell_type": "markdown",
      "metadata": {
        "id": "64V_17GsJVZ3"
      },
      "source": [
        "From pie chart 52.1% of mobile phones are 4G - Supported and 47.9% of mobile are not 4G - Supported."
      ]
    },
    {
      "cell_type": "code",
      "execution_count": 27,
      "metadata": {
        "colab": {
          "base_uri": "https://localhost:8080/",
          "height": 352
        },
        "id": "Y0HB8xgXyRH5",
        "outputId": "083fb39c-f12b-44e9-f37d-02769e8b297f"
      },
      "outputs": [
        {
          "output_type": "execute_result",
          "data": {
            "text/plain": [
              "([<matplotlib.patches.Wedge at 0x7fa5daa5a510>,\n",
              "  <matplotlib.patches.Wedge at 0x7fa5daa5af10>],\n",
              " [Text(-0.749214765200941, -0.8054050133969238, '3G - support'),\n",
              "  Text(0.7492147652009411, 0.8054050133969237, '3G - Not Support')],\n",
              " [Text(-0.40866259920051323, -0.43931182548923114, '76.2%'),\n",
              "  Text(0.4086625992005133, 0.4393118254892311, '23.8%')])"
            ]
          },
          "metadata": {},
          "execution_count": 27
        },
        {
          "output_type": "display_data",
          "data": {
            "text/plain": [
              "<Figure size 432x288 with 1 Axes>"
            ],
            "image/png": "[encoded data removed]"
          },
          "metadata": {}
        }
      ],
      "source": [
        "# Mobile is 3G support or not\n",
        "data=df_mobile[\"three_g\"].value_counts().values\n",
        "labels=[\"3G - support\",\"3G - Not Support\"]\n",
        "plt.pie(data,labels=labels,autopct=\"%.01f%%\",shadow=True,startangle=90)"
      ]
    },
    {
      "cell_type": "markdown",
      "metadata": {
        "id": "41c_GzTvJyJk"
      },
      "source": [
        "From pie chart 76.2% of mobile phones are 3G - Supported and 23.8% of mobile are not 3G - Supported."
      ]
    },
    {
      "cell_type": "code",
      "execution_count": 28,
      "metadata": {
        "colab": {
          "base_uri": "https://localhost:8080/",
          "height": 570
        },
        "id": "IB4_BVkBysJW",
        "outputId": "eb9997d3-2b19-4b0a-c5a3-d284504dac1b"
      },
      "outputs": [
        {
          "output_type": "stream",
          "name": "stderr",
          "text": [
            "/usr/local/lib/python3.7/dist-packages/seaborn/_decorators.py:43: FutureWarning: Pass the following variable as a keyword arg: x. From version 0.12, the only valid positional argument will be `data`, and passing other arguments without an explicit keyword will result in an error or misinterpretation.\n",
            "  FutureWarning\n"
          ]
        },
        {
          "output_type": "execute_result",
          "data": {
            "text/plain": [
              "Text(0, 0.5, 'Count of 3G Mobile')"
            ]
          },
          "metadata": {},
          "execution_count": 28
        },
        {
          "output_type": "display_data",
          "data": {
            "text/plain": [
              "<Figure size 864x576 with 1 Axes>"
            ],
            "image/png": "[encoded data removed]"
          },
          "metadata": {
            "needs_background": "light"
          }
        }
      ],
      "source": [
        "# count plot of 3G supported by using hue of price range\n",
        "plt.figure(figsize=(12,8))\n",
        "sns.countplot(\"three_g\",hue=\"price_range\",palette=\"pink\",data=df_mobile)\n",
        "plt.xlabel(\"three_g\")\n",
        "plt.ylabel(\"Count of 3G Mobile\")"
      ]
    },
    {
      "cell_type": "code",
      "execution_count": 29,
      "metadata": {
        "colab": {
          "base_uri": "https://localhost:8080/",
          "height": 570
        },
        "id": "I_PnE1tgzJnf",
        "outputId": "b1c6fd9d-edce-49ab-9643-1d97296d9fdb"
      },
      "outputs": [
        {
          "output_type": "stream",
          "name": "stderr",
          "text": [
            "/usr/local/lib/python3.7/dist-packages/seaborn/_decorators.py:43: FutureWarning: Pass the following variable as a keyword arg: x. From version 0.12, the only valid positional argument will be `data`, and passing other arguments without an explicit keyword will result in an error or misinterpretation.\n",
            "  FutureWarning\n"
          ]
        },
        {
          "output_type": "execute_result",
          "data": {
            "text/plain": [
              "Text(0, 0.5, 'Count of 4G Mobile')"
            ]
          },
          "metadata": {},
          "execution_count": 29
        },
        {
          "output_type": "display_data",
          "data": {
            "text/plain": [
              "<Figure size 864x576 with 1 Axes>"
            ],
            "image/png": "[encoded data removed]"
          },
          "metadata": {
            "needs_background": "light"
          }
        }
      ],
      "source": [
        "# count plot of 4G supported by using hue of price range\n",
        "plt.figure(figsize=(12,8))\n",
        "sns.countplot(\"four_g\",hue=\"price_range\",palette=\"Blues\",data=df_mobile)\n",
        "plt.xlabel(\"four_g\")\n",
        "plt.ylabel(\"Count of 4G Mobile\")"
      ]
    },
    {
      "cell_type": "code",
      "source": [
        "# bar plot of target variable price vs pixal_height\n",
        "plt.figure(figsize=(12,8))\n",
        "sns.barplot(\"price_range\",\"px_height\",palette=\"YlOrRd_r\",data=df_mobile)\n",
        "plt.xlabel(\"Price range\")\n",
        "plt.ylabel(\"px_height\")\n",
        "plt.title(\"Price vs pixel height\")"
      ],
      "metadata": {
        "colab": {
          "base_uri": "https://localhost:8080/",
          "height": 585
        },
        "id": "R-CCRV92LJ6x",
        "outputId": "9c4f3b23-0345-4bbb-febd-c6b622a9d3ca"
      },
      "execution_count": 30,
      "outputs": [
        {
          "output_type": "stream",
          "name": "stderr",
          "text": [
            "/usr/local/lib/python3.7/dist-packages/seaborn/_decorators.py:43: FutureWarning: Pass the following variables as keyword args: x, y. From version 0.12, the only valid positional argument will be `data`, and passing other arguments without an explicit keyword will result in an error or misinterpretation.\n",
            "  FutureWarning\n"
          ]
        },
        {
          "output_type": "execute_result",
          "data": {
            "text/plain": [
              "Text(0.5, 1.0, 'Price vs pixel height')"
            ]
          },
          "metadata": {},
          "execution_count": 30
        },
        {
          "output_type": "display_data",
          "data": {
            "text/plain": [
              "<Figure size 864x576 with 1 Axes>"
            ],
            "image/png": "[encoded data removed]"
          },
          "metadata": {
            "needs_background": "light"
          }
        }
      ]
    },
    {
      "cell_type": "code",
      "source": [
        "# bar plot of target variable price vs pixal_width\n",
        "plt.figure(figsize=(12,8))\n",
        "sns.barplot(\"price_range\",\"px_width\",palette=\"Spectral\",data=df_mobile)\n",
        "plt.xlabel(\"Price range\")\n",
        "plt.ylabel(\"px_width\")\n",
        "plt.title(\"Price vs pixel width\")"
      ],
      "metadata": {
        "colab": {
          "base_uri": "https://localhost:8080/",
          "height": 585
        },
        "id": "LoOCAtcJLw9C",
        "outputId": "0dd35c53-719a-4d7f-cea4-ff2809c45203"
      },
      "execution_count": 31,
      "outputs": [
        {
          "output_type": "stream",
          "name": "stderr",
          "text": [
            "/usr/local/lib/python3.7/dist-packages/seaborn/_decorators.py:43: FutureWarning: Pass the following variables as keyword args: x, y. From version 0.12, the only valid positional argument will be `data`, and passing other arguments without an explicit keyword will result in an error or misinterpretation.\n",
            "  FutureWarning\n"
          ]
        },
        {
          "output_type": "execute_result",
          "data": {
            "text/plain": [
              "Text(0.5, 1.0, 'Price vs pixel width')"
            ]
          },
          "metadata": {},
          "execution_count": 31
        },
        {
          "output_type": "display_data",
          "data": {
            "text/plain": [
              "<Figure size 864x576 with 1 Axes>"
            ],
            "image/png": "[encoded data removed]"
          },
          "metadata": {
            "needs_background": "light"
          }
        }
      ]
    },
    {
      "cell_type": "code",
      "execution_count": 32,
      "metadata": {
        "colab": {
          "base_uri": "https://localhost:8080/"
        },
        "id": "OhDZBKp30EPL",
        "outputId": "0f271fe2-6f98-417d-d7b9-41e8b9f0f078"
      },
      "outputs": [
        {
          "output_type": "execute_result",
          "data": {
            "text/plain": [
              "Index(['battery_power', 'blue', 'clock_speed', 'dual_sim', 'fc', 'four_g',\n",
              "       'int_memory', 'm_dep', 'mobile_wt', 'n_cores', 'pc', 'px_height',\n",
              "       'px_width', 'ram', 'sc_h', 'sc_w', 'talk_time', 'three_g',\n",
              "       'touch_screen', 'wifi', 'price_range'],\n",
              "      dtype='object')"
            ]
          },
          "metadata": {},
          "execution_count": 32
        }
      ],
      "source": [
        "df_mobile.columns"
      ]
    },
    {
      "cell_type": "code",
      "execution_count": 33,
      "metadata": {
        "colab": {
          "base_uri": "https://localhost:8080/",
          "height": 569
        },
        "id": "-0JK-Ek4KXM1",
        "outputId": "190d2a73-2726-48d8-e0db-0d2032bd477a"
      },
      "outputs": [
        {
          "output_type": "stream",
          "name": "stderr",
          "text": [
            "/usr/local/lib/python3.7/dist-packages/seaborn/_decorators.py:43: FutureWarning: Pass the following variables as keyword args: x, y. From version 0.12, the only valid positional argument will be `data`, and passing other arguments without an explicit keyword will result in an error or misinterpretation.\n",
            "  FutureWarning\n"
          ]
        },
        {
          "output_type": "execute_result",
          "data": {
            "text/plain": [
              "Text(0, 0.5, 'price range')"
            ]
          },
          "metadata": {},
          "execution_count": 33
        },
        {
          "output_type": "display_data",
          "data": {
            "text/plain": [
              "<Figure size 864x576 with 1 Axes>"
            ],
            "image/png": "[encoded data removed]"
          },
          "metadata": {
            "needs_background": "light"
          }
        }
      ],
      "source": [
        "# bar graph of target variable price vs primary camera\n",
        "\n",
        "plt.figure(figsize=(12,8))\n",
        "sns.barplot(\"price_range\",\"pc\",palette=\"Set2\",data=df_mobile)\n",
        "plt.xlabel(\"Primary camera\")\n",
        "plt.ylabel(\"price range\")"
      ]
    },
    {
      "cell_type": "markdown",
      "metadata": {
        "id": "GdefpF7XNRu2"
      },
      "source": [
        "As see in graph in all the price range has primary camera in it and it is almost more than 8 mega pixal."
      ]
    },
    {
      "cell_type": "code",
      "execution_count": 34,
      "metadata": {
        "colab": {
          "base_uri": "https://localhost:8080/",
          "height": 566
        },
        "id": "TfNeOAhvOGV-",
        "outputId": "54420130-5489-400d-b4f7-5ef582e7bc7e"
      },
      "outputs": [
        {
          "output_type": "execute_result",
          "data": {
            "text/plain": [
              "<matplotlib.axes._subplots.AxesSubplot at 0x7fa5da7723d0>"
            ]
          },
          "metadata": {},
          "execution_count": 34
        },
        {
          "output_type": "display_data",
          "data": {
            "text/plain": [
              "<Figure size 1440x576 with 2 Axes>"
            ],
            "image/png": "[encoded data removed]"
          },
          "metadata": {
            "needs_background": "light"
          }
        }
      ],
      "source": [
        "# correlation of dataset features\n",
        "\n",
        "plt.figure(figsize=(20,8))\n",
        "correlation= df_mobile.corr()\n",
        "sns.heatmap(correlation,annot=True,cmap=\"coolwarm\")"
      ]
    },
    {
      "cell_type": "markdown",
      "metadata": {
        "id": "qlKNH3UISzQC"
      },
      "source": [
        "### **From correlation heatmap:**\n",
        "\n",
        "Ram is positive and highly correlated with traget variable price it is the most important feature.\n",
        "\n",
        "Battery power is also has positive acorrelation with price range ir is the second most important feature for price range.\n",
        "\n",
        "three_g is positive and high correlated with four_g variable.\n",
        "\n",
        "Pc(Primary camera) positive and has high correlation with fc(Front camera).\n",
        "\n",
        "px_width and px_hight has high correlation.it is also has positive correlation with target variable price range.\n"
      ]
    },
    {
      "cell_type": "markdown",
      "metadata": {
        "id": "9MjwBQFYW7cM"
      },
      "source": [
        "# Split the Data"
      ]
    },
    {
      "cell_type": "code",
      "execution_count": 35,
      "metadata": {
        "id": "ltXqqnM3OvbO"
      },
      "outputs": [],
      "source": [
        "# Independent Feature \n",
        "x = df_mobile.drop(\"price_range\",axis=1)"
      ]
    },
    {
      "cell_type": "code",
      "execution_count": 36,
      "metadata": {
        "id": "fO93c1P1XLfb"
      },
      "outputs": [],
      "source": [
        "# target variable\n",
        "y = df_mobile[\"price_range\"]"
      ]
    },
    {
      "cell_type": "code",
      "execution_count": 37,
      "metadata": {
        "id": "E6gtVtNaXSxl"
      },
      "outputs": [],
      "source": [
        "# split the data in train and test \n",
        "x_train, x_test, y_train, y_test = train_test_split(x,y,test_size=0.3,random_state=42,stratify= y)"
      ]
    },
    {
      "cell_type": "code",
      "execution_count": 38,
      "metadata": {
        "colab": {
          "base_uri": "https://localhost:8080/"
        },
        "id": "2WYTAVu3X51s",
        "outputId": "069f58d1-8908-4d85-b5cb-13aaed1205b0"
      },
      "outputs": [
        {
          "output_type": "stream",
          "name": "stdout",
          "text": [
            "(1400, 20)\n",
            "(600, 20)\n"
          ]
        }
      ],
      "source": [
        "print(x_train.shape)\n",
        "print(x_test.shape)"
      ]
    },
    {
      "cell_type": "code",
      "execution_count": 39,
      "metadata": {
        "colab": {
          "base_uri": "https://localhost:8080/"
        },
        "id": "CTDIcRJLX7Mv",
        "outputId": "9e6332e0-91f7-4d29-a0cc-ad6d5fc02849"
      },
      "outputs": [
        {
          "output_type": "stream",
          "name": "stdout",
          "text": [
            "(1400,)\n",
            "(600,)\n"
          ]
        }
      ],
      "source": [
        "print(y_train.shape)\n",
        "print(y_test.shape)"
      ]
    },
    {
      "cell_type": "markdown",
      "metadata": {
        "id": "843t_wMcYOoo"
      },
      "source": [
        "## **Fitting models**"
      ]
    },
    {
      "cell_type": "markdown",
      "source": [
        "## **KNN Classifier**"
      ],
      "metadata": {
        "id": "S_M8ZUGnSgBZ"
      }
    },
    {
      "cell_type": "code",
      "execution_count": 40,
      "metadata": {
        "id": "ke8kZY2oYRs7"
      },
      "outputs": [],
      "source": [
        "from sklearn.neighbors import KNeighborsClassifier\n",
        "\n",
        "neighbors = np.arange(1,10)\n",
        "train_accuracy= np.empty(len(neighbors))\n",
        "test_accuracy= np.empty(len(neighbors))\n",
        "\n",
        "for i,m in enumerate(neighbors):\n",
        "  knn = KNeighborsClassifier(n_neighbors= m)\n",
        "\n",
        "  # fit model \n",
        "  knn.fit(x_train, y_train)\n",
        "\n",
        "  # accuracy of training set\n",
        "  train_accuracy[i] = knn.score(x_train,y_train)\n",
        "\n",
        "  # accuracy of testing set\n",
        "  test_accuracy[i] = knn.score(x_test,y_test)\n"
      ]
    },
    {
      "cell_type": "code",
      "execution_count": 41,
      "metadata": {
        "colab": {
          "base_uri": "https://localhost:8080/",
          "height": 421
        },
        "id": "tFOxVLD1aI4R",
        "outputId": "0ded7fca-46d9-4dd3-a5cc-08ae7cdfdbf6"
      },
      "outputs": [
        {
          "output_type": "execute_result",
          "data": {
            "text/plain": [
              "<matplotlib.legend.Legend at 0x7fa5dc481450>"
            ]
          },
          "metadata": {},
          "execution_count": 41
        },
        {
          "output_type": "display_data",
          "data": {
            "text/plain": [
              "<Figure size 576x432 with 1 Axes>"
            ],
            "image/png": "[encoded data removed]"
          },
          "metadata": {
            "needs_background": "light"
          }
        }
      ],
      "source": [
        "plt.figure(figsize=(8,6))\n",
        "plt.plot(neighbors , train_accuracy , label = \"Train accuracy\")\n",
        "plt.plot(neighbors , test_accuracy , label = \"Test accuracy\")\n",
        "plt.xlabel(\"Number of Neighbors\")\n",
        "plt.ylabel(\"Accuracy\")\n",
        "plt.title(\"Knn accuracy with different n neighbors\")\n",
        "plt.legend()\n"
      ]
    },
    {
      "cell_type": "code",
      "execution_count": 42,
      "metadata": {
        "id": "YQJ4BcY8aneA"
      },
      "outputs": [],
      "source": [
        "# setup knn classifier with k neighbour\n",
        "knn = KNeighborsClassifier(n_neighbors= 8)"
      ]
    },
    {
      "cell_type": "code",
      "execution_count": 43,
      "metadata": {
        "colab": {
          "base_uri": "https://localhost:8080/"
        },
        "id": "PsyB9aeRbsUF",
        "outputId": "e306a009-912d-45c4-ea02-5a2984ca1621"
      },
      "outputs": [
        {
          "output_type": "execute_result",
          "data": {
            "text/plain": [
              "KNeighborsClassifier(n_neighbors=8)"
            ]
          },
          "metadata": {},
          "execution_count": 43
        }
      ],
      "source": [
        "# fit the model\n",
        "knn.fit(x_train , y_train)"
      ]
    },
    {
      "cell_type": "code",
      "execution_count": 44,
      "metadata": {
        "colab": {
          "base_uri": "https://localhost:8080/"
        },
        "id": "KMTDfQoSb5q-",
        "outputId": "cfaef8b9-35ea-4207-f9df-d27f6eb063d0"
      },
      "outputs": [
        {
          "output_type": "execute_result",
          "data": {
            "text/plain": [
              "0.9371428571428572"
            ]
          },
          "metadata": {},
          "execution_count": 44
        }
      ],
      "source": [
        "# matrics\n",
        "knn_train_score = knn.score(x_train , y_train) \n",
        "knn_train_score "
      ]
    },
    {
      "cell_type": "code",
      "execution_count": 45,
      "metadata": {
        "colab": {
          "base_uri": "https://localhost:8080/"
        },
        "id": "P9ICVu9DcGVR",
        "outputId": "e3928917-0a00-4900-985f-390d84f149a5"
      },
      "outputs": [
        {
          "output_type": "execute_result",
          "data": {
            "text/plain": [
              "0.9366666666666666"
            ]
          },
          "metadata": {},
          "execution_count": 45
        }
      ],
      "source": [
        "knn_test_score = knn.score(x_test , y_test) \n",
        "knn_test_score "
      ]
    },
    {
      "cell_type": "code",
      "execution_count": 46,
      "metadata": {
        "id": "0qijghkdcP-8"
      },
      "outputs": [],
      "source": [
        "y_train_pred = knn.predict(x_train)\n",
        "y_test_pred = knn.predict(x_test)"
      ]
    },
    {
      "cell_type": "code",
      "execution_count": 47,
      "metadata": {
        "id": "FJELE4VCcm3I"
      },
      "outputs": [],
      "source": [
        "# import confusion matrix and classification report\n",
        "from sklearn.metrics import classification_report, confusion_matrix , roc_auc_score"
      ]
    },
    {
      "cell_type": "code",
      "execution_count": 48,
      "metadata": {
        "colab": {
          "base_uri": "https://localhost:8080/"
        },
        "id": "8XrcUvqyc44z",
        "outputId": "26551273-a236-4c47-87d0-aaf0a84fe357"
      },
      "outputs": [
        {
          "output_type": "execute_result",
          "data": {
            "text/plain": [
              "array([[148,   2,   0,   0],\n",
              "       [  8, 139,   3,   0],\n",
              "       [  0,   7, 137,   6],\n",
              "       [  0,   0,  12, 138]])"
            ]
          },
          "metadata": {},
          "execution_count": 48
        }
      ],
      "source": [
        "matrix = confusion_matrix(y_test , y_test_pred)\n",
        "matrix"
      ]
    },
    {
      "cell_type": "code",
      "execution_count": 49,
      "metadata": {
        "colab": {
          "base_uri": "https://localhost:8080/",
          "height": 371
        },
        "id": "k8kNQ3igdDdo",
        "outputId": "cba5fd7a-1deb-4e04-b2ae-8e17ad78613a"
      },
      "outputs": [
        {
          "output_type": "execute_result",
          "data": {
            "text/plain": [
              "Text(0.5, 1.0, 'Confusion Matrix')"
            ]
          },
          "metadata": {},
          "execution_count": 49
        },
        {
          "output_type": "display_data",
          "data": {
            "text/plain": [
              "<Figure size 504x360 with 1 Axes>"
            ],
            "image/png": "[encoded data removed]"
          },
          "metadata": {
            "needs_background": "light"
          }
        }
      ],
      "source": [
        "# plot confusion matrix for train\n",
        " \n",
        "train_cm = confusion_matrix(y_train , y_train_pred)\n",
        "\n",
        "df1 = pd.DataFrame(columns = [\"0\", \"1\", \"2\", \"3\" ], index= [\"0\", \"1\", \"2\", \"3\"],data = train_cm)\n",
        "\n",
        "plt.figure(figsize=(7,5))\n",
        "sns.heatmap(df1, annot = True, fmt = \".0f\",cmap=\"tab20\", cbar = False, linewidths=2)\n",
        "plt.xlabel(\"Predicted labels\", size=12)\n",
        "plt.ylabel(\"Actual labels\", size=12)\n",
        "plt.title(\"Confusion Matrix\",size=14)"
      ]
    },
    {
      "cell_type": "code",
      "execution_count": 50,
      "metadata": {
        "colab": {
          "base_uri": "https://localhost:8080/",
          "height": 371
        },
        "id": "9bUfYiXedb9b",
        "outputId": "e3daa39e-a0d8-4ead-bcf4-d3c74a8a9194"
      },
      "outputs": [
        {
          "output_type": "execute_result",
          "data": {
            "text/plain": [
              "Text(0.5, 1.0, 'Confusion Matrix')"
            ]
          },
          "metadata": {},
          "execution_count": 50
        },
        {
          "output_type": "display_data",
          "data": {
            "text/plain": [
              "<Figure size 504x360 with 1 Axes>"
            ],
            "image/png": "[encoded data removed]"
          },
          "metadata": {
            "needs_background": "light"
          }
        }
      ],
      "source": [
        "# plot confusion matrix for test\n",
        " \n",
        "test_cm = confusion_matrix(y_test , y_test_pred)\n",
        "\n",
        "df1 = pd.DataFrame(columns = [\"0\", \"1\", \"2\", \"3\" ], index= [\"0\", \"1\", \"2\", \"3\"],data = test_cm)\n",
        "\n",
        "plt.figure(figsize=(7,5))\n",
        "sns.heatmap(df1, annot = True, fmt = \".0f\",cmap=\"tab20\", cbar = False, linewidths=2)\n",
        "plt.xlabel(\"Predicted labels\", size=12)\n",
        "plt.ylabel(\"Actual labels\", size=12)\n",
        "plt.title(\"Confusion Matrix\",size=14)"
      ]
    },
    {
      "cell_type": "code",
      "execution_count": 51,
      "metadata": {
        "id": "dOFWdJSDyVLy"
      },
      "outputs": [],
      "source": [
        "y_pred_proba = knn.predict_proba(x_test)"
      ]
    },
    {
      "cell_type": "code",
      "execution_count": 52,
      "metadata": {
        "colab": {
          "base_uri": "https://localhost:8080/"
        },
        "id": "NCVe6dgby2kt",
        "outputId": "2362165f-2b62-47a3-eb93-30e918472df7"
      },
      "outputs": [
        {
          "output_type": "execute_result",
          "data": {
            "text/plain": [
              "0.9956722222222222"
            ]
          },
          "metadata": {},
          "execution_count": 52
        }
      ],
      "source": [
        "roc_auc_score(y_test , y_pred_proba,multi_class= \"ovo\",average=\"weighted\")"
      ]
    },
    {
      "cell_type": "code",
      "execution_count": 53,
      "metadata": {
        "colab": {
          "base_uri": "https://localhost:8080/"
        },
        "id": "evFtRuH4zC3L",
        "outputId": "0282bf8d-cc91-42bd-a6af-3be8be667056"
      },
      "outputs": [
        {
          "output_type": "stream",
          "name": "stdout",
          "text": [
            "              precision    recall  f1-score   support\n",
            "\n",
            "           0       0.95      0.98      0.97       350\n",
            "           1       0.93      0.94      0.93       350\n",
            "           2       0.90      0.92      0.91       350\n",
            "           3       0.97      0.91      0.94       350\n",
            "\n",
            "    accuracy                           0.94      1400\n",
            "   macro avg       0.94      0.94      0.94      1400\n",
            "weighted avg       0.94      0.94      0.94      1400\n",
            "\n"
          ]
        }
      ],
      "source": [
        "# predict classification report for training dataset\n",
        "print(classification_report(y_train, y_train_pred))"
      ]
    },
    {
      "cell_type": "code",
      "execution_count": 54,
      "metadata": {
        "colab": {
          "base_uri": "https://localhost:8080/"
        },
        "id": "KFS_8LAPzkqU",
        "outputId": "30ee22f0-2315-4693-fbe5-1f9bee8b3d55"
      },
      "outputs": [
        {
          "output_type": "stream",
          "name": "stdout",
          "text": [
            "              precision    recall  f1-score   support\n",
            "\n",
            "           0       0.95      0.99      0.97       150\n",
            "           1       0.94      0.93      0.93       150\n",
            "           2       0.90      0.91      0.91       150\n",
            "           3       0.96      0.92      0.94       150\n",
            "\n",
            "    accuracy                           0.94       600\n",
            "   macro avg       0.94      0.94      0.94       600\n",
            "weighted avg       0.94      0.94      0.94       600\n",
            "\n"
          ]
        }
      ],
      "source": [
        "# predict classification report for test dataset\n",
        "print(classification_report(y_test, y_test_pred))"
      ]
    },
    {
      "cell_type": "code",
      "execution_count": 55,
      "metadata": {
        "colab": {
          "base_uri": "https://localhost:8080/"
        },
        "id": "NflXEzu7z1iF",
        "outputId": "11ac048b-e43b-40e5-f7f4-5cc082655e48"
      },
      "outputs": [
        {
          "output_type": "execute_result",
          "data": {
            "text/plain": [
              "570     3\n",
              "414     3\n",
              "1837    1\n",
              "1510    1\n",
              "1130    3\n",
              "       ..\n",
              "544     1\n",
              "1303    3\n",
              "1193    0\n",
              "1818    0\n",
              "67      3\n",
              "Name: price_range, Length: 600, dtype: int64"
            ]
          },
          "metadata": {},
          "execution_count": 55
        }
      ],
      "source": [
        "y_test"
      ]
    },
    {
      "cell_type": "code",
      "execution_count": 56,
      "metadata": {
        "colab": {
          "base_uri": "https://localhost:8080/"
        },
        "id": "dB9aah5_z8sO",
        "outputId": "14770bca-d7e6-42aa-d23b-aa88088a8668"
      },
      "outputs": [
        {
          "output_type": "execute_result",
          "data": {
            "text/plain": [
              "array([3, 3, 1, 1, 3, 3, 0, 0, 2, 3, 1, 1, 0, 1, 0, 2, 3, 1, 3, 2, 3, 2,\n",
              "       2, 0, 3, 2, 1, 3, 2, 3, 2, 3, 0, 1, 1, 1, 2, 2, 1, 2, 3, 1, 2, 3,\n",
              "       0, 1, 2, 3, 2, 2, 1, 0, 0, 2, 0, 2, 1, 2, 2, 3, 3, 1, 1, 3, 2, 2,\n",
              "       2, 2, 0, 0, 0, 0, 0, 3, 3, 0, 2, 1, 0, 2, 1, 2, 1, 3, 0, 2, 0, 2,\n",
              "       3, 2, 1, 2, 0, 3, 3, 3, 3, 3, 0, 0, 1, 0, 1, 1, 1, 3, 1, 2, 3, 2,\n",
              "       1, 1, 0, 2, 1, 3, 1, 0, 3, 1, 2, 1, 0, 0, 2, 1, 1, 3, 0, 0, 3, 2,\n",
              "       0, 0, 0, 0, 1, 2, 1, 2, 2, 0, 2, 0, 3, 3, 0, 3, 2, 0, 3, 1, 2, 3,\n",
              "       1, 1, 0, 3, 1, 2, 3, 1, 0, 3, 0, 0, 3, 1, 0, 2, 3, 2, 0, 1, 2, 2,\n",
              "       0, 1, 1, 1, 3, 1, 1, 3, 2, 2, 0, 3, 3, 1, 0, 2, 2, 0, 3, 2, 0, 1,\n",
              "       3, 3, 0, 1, 1, 2, 3, 0, 2, 3, 0, 2, 3, 0, 2, 3, 1, 1, 2, 1, 2, 2,\n",
              "       3, 0, 2, 2, 2, 1, 2, 3, 0, 2, 1, 0, 2, 3, 3, 1, 3, 0, 1, 3, 1, 2,\n",
              "       0, 1, 3, 0, 1, 3, 3, 0, 3, 0, 2, 0, 2, 3, 3, 1, 1, 3, 1, 0, 2, 0,\n",
              "       3, 2, 2, 2, 1, 2, 1, 2, 3, 1, 0, 3, 0, 3, 1, 1, 3, 2, 1, 3, 3, 1,\n",
              "       1, 2, 2, 2, 2, 1, 1, 2, 1, 0, 1, 0, 0, 0, 2, 3, 1, 3, 1, 2, 3, 0,\n",
              "       1, 3, 0, 0, 0, 3, 1, 1, 2, 1, 2, 0, 2, 1, 1, 1, 0, 0, 1, 1, 3, 3,\n",
              "       2, 0, 2, 0, 3, 0, 3, 0, 3, 1, 1, 3, 3, 2, 2, 0, 3, 1, 1, 2, 0, 1,\n",
              "       1, 3, 1, 0, 0, 3, 2, 3, 3, 0, 2, 2, 0, 0, 3, 3, 1, 2, 3, 3, 3, 2,\n",
              "       3, 2, 1, 0, 3, 1, 0, 0, 3, 0, 0, 0, 2, 1, 3, 0, 3, 1, 2, 1, 2, 0,\n",
              "       1, 1, 1, 2, 2, 0, 1, 1, 0, 0, 0, 2, 0, 1, 2, 1, 2, 2, 3, 3, 2, 2,\n",
              "       2, 0, 2, 1, 1, 2, 0, 2, 0, 0, 2, 0, 0, 0, 0, 2, 1, 2, 2, 1, 0, 2,\n",
              "       0, 2, 2, 1, 2, 2, 1, 1, 0, 3, 1, 3, 3, 3, 1, 0, 3, 0, 0, 2, 0, 1,\n",
              "       0, 3, 3, 0, 0, 0, 1, 0, 0, 0, 0, 3, 0, 1, 1, 2, 0, 3, 2, 1, 0, 1,\n",
              "       3, 3, 1, 0, 1, 1, 3, 1, 0, 2, 1, 2, 0, 2, 1, 3, 2, 0, 3, 0, 1, 3,\n",
              "       1, 1, 3, 3, 0, 2, 3, 2, 3, 2, 0, 2, 3, 0, 1, 3, 0, 3, 3, 1, 2, 1,\n",
              "       2, 0, 2, 2, 0, 3, 3, 0, 1, 3, 3, 2, 2, 1, 0, 1, 0, 0, 0, 1, 3, 1,\n",
              "       3, 3, 1, 0, 0, 1, 3, 2, 3, 0, 3, 1, 2, 3, 2, 0, 1, 3, 2, 2, 2, 3,\n",
              "       2, 2, 2, 3, 2, 2, 2, 2, 3, 1, 0, 0, 1, 0, 3, 2, 0, 0, 2, 1, 0, 0,\n",
              "       0, 1, 3, 0, 0, 3])"
            ]
          },
          "metadata": {},
          "execution_count": 56
        }
      ],
      "source": [
        "y_test_pred"
      ]
    },
    {
      "cell_type": "markdown",
      "metadata": {
        "id": "2YS_4rKk0RaH"
      },
      "source": [
        "## **Logistic Regression**"
      ]
    },
    {
      "cell_type": "code",
      "execution_count": 57,
      "metadata": {
        "id": "M140wsfP0cur"
      },
      "outputs": [],
      "source": [
        "from sklearn.linear_model import LogisticRegression"
      ]
    },
    {
      "cell_type": "code",
      "execution_count": 58,
      "metadata": {
        "id": "S_jBNC6g0_qg"
      },
      "outputs": [],
      "source": [
        "logistic_model = LogisticRegression(max_iter=10000)"
      ]
    },
    {
      "cell_type": "code",
      "execution_count": 59,
      "metadata": {
        "colab": {
          "base_uri": "https://localhost:8080/"
        },
        "id": "P99C6-zp1MZB",
        "outputId": "ee4e5721-b2f1-4dff-f594-b4bd618e4588"
      },
      "outputs": [
        {
          "output_type": "stream",
          "name": "stderr",
          "text": [
            "/usr/local/lib/python3.7/dist-packages/sklearn/linear_model/_logistic.py:818: ConvergenceWarning: lbfgs failed to converge (status=1):\n",
            "STOP: TOTAL NO. of ITERATIONS REACHED LIMIT.\n",
            "\n",
            "Increase the number of iterations (max_iter) or scale the data as shown in:\n",
            "    https://scikit-learn.org/stable/modules/preprocessing.html\n",
            "Please also refer to the documentation for alternative solver options:\n",
            "    https://scikit-learn.org/stable/modules/linear_model.html#logistic-regression\n",
            "  extra_warning_msg=_LOGISTIC_SOLVER_CONVERGENCE_MSG,\n"
          ]
        },
        {
          "output_type": "execute_result",
          "data": {
            "text/plain": [
              "LogisticRegression(max_iter=10000)"
            ]
          },
          "metadata": {},
          "execution_count": 59
        }
      ],
      "source": [
        "# fit the model\n",
        "logistic_model.fit(x_train, y_train)"
      ]
    },
    {
      "cell_type": "code",
      "execution_count": 60,
      "metadata": {
        "id": "NtTQb40a1VPL"
      },
      "outputs": [],
      "source": [
        "# predict the model \n",
        "y_train_pred_logistic = logistic_model.predict(x_train)\n",
        "y_test_pred_logistic = logistic_model.predict(x_test)"
      ]
    },
    {
      "cell_type": "code",
      "execution_count": 61,
      "metadata": {
        "id": "hibzwaNc10XO"
      },
      "outputs": [],
      "source": [
        "# get accuracy score\n",
        "\n",
        "train_accuracy = accuracy_score(y_train , y_train_pred_logistic)\n",
        "test_accuracy = accuracy_score(y_test , y_test_pred_logistic)"
      ]
    },
    {
      "cell_type": "code",
      "execution_count": 62,
      "metadata": {
        "colab": {
          "base_uri": "https://localhost:8080/"
        },
        "id": "MtHPSObN2UuE",
        "outputId": "4e54c403-0d7d-4fa9-9095-5a724d17641c"
      },
      "outputs": [
        {
          "output_type": "stream",
          "name": "stdout",
          "text": [
            "Accuracy on train data :  0.8064285714285714\n",
            "Accuracy on test data :  0.725\n"
          ]
        }
      ],
      "source": [
        "print(\"Accuracy on train data : \",train_accuracy)\n",
        "print(\"Accuracy on test data : \",test_accuracy)"
      ]
    },
    {
      "cell_type": "code",
      "execution_count": 63,
      "metadata": {
        "colab": {
          "base_uri": "https://localhost:8080/",
          "height": 371
        },
        "id": "RGYgBFAa2ipc",
        "outputId": "20474def-e3a2-42a6-e786-6e834147a516"
      },
      "outputs": [
        {
          "output_type": "execute_result",
          "data": {
            "text/plain": [
              "Text(0.5, 1.0, 'Confusion Matrix')"
            ]
          },
          "metadata": {},
          "execution_count": 63
        },
        {
          "output_type": "display_data",
          "data": {
            "text/plain": [
              "<Figure size 504x360 with 1 Axes>"
            ],
            "image/png": "[encoded data removed]"
          },
          "metadata": {
            "needs_background": "light"
          }
        }
      ],
      "source": [
        "# confusion matrix of train data\n",
        "\n",
        "train_cm = confusion_matrix(y_train , y_train_pred_logistic)\n",
        "\n",
        "df1 = pd.DataFrame(columns = [\"0\", \"1\", \"2\", \"3\" ], index= [\"0\", \"1\", \"2\", \"3\"],data = train_cm)\n",
        "\n",
        "plt.figure(figsize=(7,5))\n",
        "sns.heatmap(df1, annot = True, fmt = \".0f\",cmap=\"tab20\", cbar = False, linewidths=2)\n",
        "plt.xlabel(\"Predicted labels\", size=12)\n",
        "plt.ylabel(\"Actual labels\", size=12)\n",
        "plt.title(\"Confusion Matrix\",size=14)\n"
      ]
    },
    {
      "cell_type": "code",
      "execution_count": 64,
      "metadata": {
        "colab": {
          "base_uri": "https://localhost:8080/",
          "height": 371
        },
        "id": "p7y6LKkH3KvT",
        "outputId": "8da9b14d-cff2-4b78-f984-3b4d62ce6ca3"
      },
      "outputs": [
        {
          "output_type": "execute_result",
          "data": {
            "text/plain": [
              "Text(0.5, 1.0, 'Confusion Matrix')"
            ]
          },
          "metadata": {},
          "execution_count": 64
        },
        {
          "output_type": "display_data",
          "data": {
            "text/plain": [
              "<Figure size 504x360 with 1 Axes>"
            ],
            "image/png": "[encoded data removed]"
          },
          "metadata": {
            "needs_background": "light"
          }
        }
      ],
      "source": [
        "# confusion matrix of train data\n",
        "\n",
        "train_cm = confusion_matrix(y_test , y_test_pred_logistic)\n",
        "\n",
        "df1 = pd.DataFrame(columns = [\"0\", \"1\", \"2\", \"3\" ], index= [\"0\", \"1\", \"2\", \"3\"],data = train_cm)\n",
        "\n",
        "plt.figure(figsize=(7,5))\n",
        "sns.heatmap(df1, annot = True, fmt = \".0f\",cmap=\"tab20\", cbar = False, linewidths=2)\n",
        "plt.xlabel(\"Predicted labels\", size=12)\n",
        "plt.ylabel(\"Actual labels\", size=12)\n",
        "plt.title(\"Confusion Matrix\",size=14)"
      ]
    },
    {
      "cell_type": "code",
      "execution_count": 65,
      "metadata": {
        "id": "wM_1yvq73R-B"
      },
      "outputs": [],
      "source": [
        "# predict probability\n",
        "y_pred_proba = logistic_model.predict_proba(x_test)"
      ]
    },
    {
      "cell_type": "code",
      "execution_count": 66,
      "metadata": {
        "colab": {
          "base_uri": "https://localhost:8080/"
        },
        "id": "97lqrLap3nPn",
        "outputId": "478b53d2-145c-41c0-def5-236cb2a242bb"
      },
      "outputs": [
        {
          "output_type": "execute_result",
          "data": {
            "text/plain": [
              "0.9294740740740742"
            ]
          },
          "metadata": {},
          "execution_count": 66
        }
      ],
      "source": [
        "roc_auc_score(y_test , y_pred_proba,multi_class= \"ovo\",average=\"weighted\")"
      ]
    },
    {
      "cell_type": "code",
      "execution_count": 67,
      "metadata": {
        "colab": {
          "base_uri": "https://localhost:8080/"
        },
        "id": "5_AMqJ693vjG",
        "outputId": "6c6b2720-f057-4320-fbf7-163496e0c6ab"
      },
      "outputs": [
        {
          "output_type": "stream",
          "name": "stdout",
          "text": [
            "              precision    recall  f1-score   support\n",
            "\n",
            "           0       0.91      0.90      0.91       350\n",
            "           1       0.77      0.76      0.76       350\n",
            "           2       0.71      0.68      0.70       350\n",
            "           3       0.83      0.88      0.86       350\n",
            "\n",
            "    accuracy                           0.81      1400\n",
            "   macro avg       0.81      0.81      0.81      1400\n",
            "weighted avg       0.81      0.81      0.81      1400\n",
            "\n"
          ]
        }
      ],
      "source": [
        "# predict classification report for training dataset\n",
        "print(classification_report(y_train, y_train_pred_logistic))"
      ]
    },
    {
      "cell_type": "code",
      "execution_count": 68,
      "metadata": {
        "colab": {
          "base_uri": "https://localhost:8080/"
        },
        "id": "f6C4XT6P33gO",
        "outputId": "3990d2cd-7209-4b4c-db69-3424175b7bca"
      },
      "outputs": [
        {
          "output_type": "stream",
          "name": "stdout",
          "text": [
            "              precision    recall  f1-score   support\n",
            "\n",
            "           0       0.92      0.82      0.87       150\n",
            "           1       0.63      0.65      0.64       150\n",
            "           2       0.58      0.63      0.60       150\n",
            "           3       0.81      0.80      0.81       150\n",
            "\n",
            "    accuracy                           0.73       600\n",
            "   macro avg       0.73      0.72      0.73       600\n",
            "weighted avg       0.73      0.72      0.73       600\n",
            "\n"
          ]
        }
      ],
      "source": [
        "# predict classification report for test dataset\n",
        "print(classification_report(y_test, y_test_pred_logistic))"
      ]
    },
    {
      "cell_type": "markdown",
      "metadata": {
        "id": "GxWmrTw16Bn6"
      },
      "source": [
        "## **GradientBoostingClassifier**"
      ]
    },
    {
      "cell_type": "code",
      "execution_count": 69,
      "metadata": {
        "id": "p8xbHnJh6TUd"
      },
      "outputs": [],
      "source": [
        "from sklearn.ensemble import GradientBoostingClassifier"
      ]
    },
    {
      "cell_type": "code",
      "execution_count": 70,
      "metadata": {
        "colab": {
          "base_uri": "https://localhost:8080/"
        },
        "id": "JzcLNuZf6JRy",
        "outputId": "4f0b7004-9218-40d3-d77e-4d47711a7b39"
      },
      "outputs": [
        {
          "output_type": "stream",
          "name": "stdout",
          "text": [
            "learning rate : 0.05\n",
            "Accuracy score of train data : 0.783\n",
            "Accuracy score of test data : 0.753 \n",
            "learning rate : 0.07\n",
            "Accuracy score of train data : 0.804\n",
            "Accuracy score of test data : 0.772 \n",
            "learning rate : 0.08\n",
            "Accuracy score of train data : 0.804\n",
            "Accuracy score of test data : 0.772 \n",
            "learning rate : 0.1\n",
            "Accuracy score of train data : 0.816\n",
            "Accuracy score of test data : 0.780 \n",
            "learning rate : 0.25\n",
            "Accuracy score of train data : 0.907\n",
            "Accuracy score of test data : 0.853 \n",
            "learning rate : 0.5\n",
            "Accuracy score of train data : 0.967\n",
            "Accuracy score of test data : 0.902 \n",
            "learning rate : 0.75\n",
            "Accuracy score of train data : 0.988\n",
            "Accuracy score of test data : 0.912 \n",
            "learning rate : 1\n",
            "Accuracy score of train data : 0.996\n",
            "Accuracy score of test data : 0.893 \n"
          ]
        }
      ],
      "source": [
        "# list of learning rate\n",
        "learning_rate_list = [0.05, 0.07, 0.08, 0.1, 0.25, 0.5, 0.75, 1]\n",
        "\n",
        "for learning_rate in learning_rate_list:\n",
        "  gb_clsf = GradientBoostingClassifier(n_estimators=20, learning_rate = learning_rate, max_depth = 2,  random_state = 0) \n",
        "  gb_clsf.fit(x_train, y_train)\n",
        "\n",
        "  print(\"learning rate :\",learning_rate)\n",
        "  print(\"Accuracy score of train data : {0:.3f}\".format(gb_clsf.score(x_train, y_train)))\n",
        "  print(\"Accuracy score of test data : {0:.3f} \".format(gb_clsf.score(x_test, y_test)))\n",
        "    "
      ]
    },
    {
      "cell_type": "markdown",
      "metadata": {
        "id": "-SQfV62p87Ed"
      },
      "source": [
        "From above we can say that learning rate 0.75 is gives the best result on train data as well as in test data also."
      ]
    },
    {
      "cell_type": "code",
      "execution_count": 71,
      "metadata": {
        "colab": {
          "base_uri": "https://localhost:8080/"
        },
        "id": "JQnBw7o-9REF",
        "outputId": "748b8432-4144-498d-8fbc-6255ef90d859"
      },
      "outputs": [
        {
          "output_type": "execute_result",
          "data": {
            "text/plain": [
              "GradientBoostingClassifier(learning_rate=0.75, max_depth=2, n_estimators=20,\n",
              "                           random_state=0)"
            ]
          },
          "metadata": {},
          "execution_count": 71
        }
      ],
      "source": [
        "# new classifier with the learning rate of 0.75\n",
        "\n",
        "gb_clsf1 = GradientBoostingClassifier(n_estimators=20, learning_rate = 0.75, max_depth = 2,  random_state = 0) \n",
        "gb_clsf1.fit(x_train,y_train)"
      ]
    },
    {
      "cell_type": "code",
      "execution_count": 72,
      "metadata": {
        "colab": {
          "base_uri": "https://localhost:8080/"
        },
        "id": "xZnDA2dM9wB_",
        "outputId": "d1dc2762-16e4-46fe-e947-0873f319688a"
      },
      "outputs": [
        {
          "output_type": "execute_result",
          "data": {
            "text/plain": [
              "array([3, 3, 1, 1, 3, 3, 0, 0, 2, 3, 1, 1, 0, 1, 0, 1, 3, 2, 3, 2, 3, 2,\n",
              "       2, 0, 3, 2, 1, 3, 2, 3, 2, 3, 0, 1, 2, 2, 2, 1, 1, 2, 3, 1, 2, 3,\n",
              "       0, 2, 2, 3, 2, 2, 1, 0, 0, 3, 0, 2, 0, 2, 2, 3, 3, 1, 1, 2, 2, 2,\n",
              "       2, 2, 0, 0, 0, 0, 0, 3, 3, 0, 2, 2, 0, 2, 1, 2, 1, 3, 0, 2, 0, 2,\n",
              "       3, 3, 1, 2, 0, 3, 3, 3, 3, 3, 0, 0, 1, 0, 1, 1, 1, 3, 1, 3, 3, 2,\n",
              "       1, 1, 0, 2, 1, 3, 1, 0, 3, 1, 2, 1, 1, 0, 1, 1, 1, 3, 0, 0, 3, 2,\n",
              "       0, 0, 0, 0, 1, 2, 1, 2, 3, 0, 2, 0, 3, 3, 0, 3, 2, 0, 3, 1, 2, 3,\n",
              "       2, 1, 0, 3, 1, 2, 3, 1, 0, 3, 0, 0, 3, 1, 1, 2, 3, 2, 0, 1, 1, 2,\n",
              "       0, 1, 1, 1, 3, 1, 1, 3, 2, 2, 0, 3, 3, 1, 0, 2, 2, 0, 3, 2, 0, 1,\n",
              "       3, 3, 0, 2, 1, 3, 3, 0, 2, 3, 0, 2, 3, 0, 2, 3, 1, 1, 3, 1, 2, 2,\n",
              "       3, 0, 2, 2, 2, 1, 2, 3, 0, 2, 1, 0, 2, 2, 3, 1, 3, 0, 2, 3, 1, 2,\n",
              "       0, 1, 3, 0, 1, 2, 3, 0, 3, 0, 2, 0, 2, 3, 3, 1, 1, 3, 1, 0, 2, 0,\n",
              "       3, 2, 2, 2, 2, 3, 1, 2, 3, 1, 0, 3, 0, 2, 1, 2, 3, 2, 1, 3, 3, 1,\n",
              "       1, 2, 2, 2, 1, 1, 1, 2, 1, 1, 2, 0, 0, 0, 2, 3, 1, 3, 1, 2, 3, 0,\n",
              "       1, 3, 0, 0, 0, 3, 1, 1, 2, 1, 2, 0, 2, 1, 2, 1, 1, 0, 1, 2, 3, 3,\n",
              "       2, 0, 2, 0, 3, 0, 3, 0, 3, 1, 1, 3, 3, 2, 2, 0, 2, 1, 1, 1, 0, 1,\n",
              "       1, 3, 1, 0, 0, 3, 2, 3, 3, 1, 2, 2, 0, 0, 3, 3, 1, 2, 2, 3, 3, 2,\n",
              "       3, 2, 1, 0, 3, 1, 0, 0, 3, 0, 0, 0, 3, 1, 3, 0, 3, 1, 2, 1, 2, 0,\n",
              "       1, 1, 1, 2, 2, 0, 1, 1, 0, 0, 0, 2, 0, 2, 2, 1, 2, 3, 3, 3, 2, 2,\n",
              "       2, 0, 1, 1, 1, 2, 0, 2, 0, 0, 2, 0, 0, 0, 0, 2, 1, 2, 2, 1, 0, 3,\n",
              "       0, 2, 2, 2, 2, 2, 1, 2, 0, 3, 1, 3, 3, 3, 1, 0, 3, 0, 1, 2, 0, 1,\n",
              "       0, 3, 3, 0, 0, 0, 2, 0, 0, 0, 0, 2, 0, 1, 1, 2, 0, 3, 2, 1, 0, 1,\n",
              "       3, 3, 1, 1, 1, 2, 3, 2, 0, 2, 1, 1, 0, 3, 1, 3, 2, 0, 3, 0, 1, 3,\n",
              "       1, 1, 3, 3, 0, 2, 2, 2, 3, 2, 0, 2, 3, 0, 1, 3, 0, 3, 3, 1, 2, 1,\n",
              "       2, 0, 2, 2, 0, 3, 3, 0, 2, 3, 3, 2, 2, 1, 0, 1, 0, 0, 0, 1, 3, 1,\n",
              "       3, 3, 1, 0, 0, 1, 3, 2, 3, 0, 3, 0, 2, 3, 2, 0, 1, 3, 2, 2, 2, 3,\n",
              "       3, 2, 2, 2, 2, 1, 2, 2, 3, 1, 0, 0, 1, 0, 3, 2, 0, 0, 2, 1, 0, 0,\n",
              "       0, 1, 3, 0, 0, 3])"
            ]
          },
          "metadata": {},
          "execution_count": 72
        }
      ],
      "source": [
        "# predict \n",
        "gb_clsf1_train_pred = gb_clsf1.predict(x_train)\n",
        "gb_clsf1_train_pred\n",
        "\n",
        "gb_clsf1_test_pred = gb_clsf1.predict(x_test)\n",
        "gb_clsf1_test_pred"
      ]
    },
    {
      "cell_type": "code",
      "source": [
        "print(\"Classification report\\n\\n\",classification_report(y_train, gb_clsf1_train_pred))"
      ],
      "metadata": {
        "colab": {
          "base_uri": "https://localhost:8080/"
        },
        "id": "IDf9J0KvVFBa",
        "outputId": "90c46dd0-550e-4f6d-dcf2-1ebb9aacc726"
      },
      "execution_count": 73,
      "outputs": [
        {
          "output_type": "stream",
          "name": "stdout",
          "text": [
            "Classification report\n",
            "\n",
            "               precision    recall  f1-score   support\n",
            "\n",
            "           0       1.00      0.99      1.00       350\n",
            "           1       0.98      0.98      0.98       350\n",
            "           2       0.97      0.99      0.98       350\n",
            "           3       0.99      0.99      0.99       350\n",
            "\n",
            "    accuracy                           0.99      1400\n",
            "   macro avg       0.99      0.99      0.99      1400\n",
            "weighted avg       0.99      0.99      0.99      1400\n",
            "\n"
          ]
        }
      ]
    },
    {
      "cell_type": "code",
      "execution_count": 74,
      "metadata": {
        "colab": {
          "base_uri": "https://localhost:8080/"
        },
        "id": "nRxtGTNi-CDQ",
        "outputId": "bf172237-e294-448f-c9d0-eabc7865496b"
      },
      "outputs": [
        {
          "output_type": "stream",
          "name": "stdout",
          "text": [
            "Classification report\n",
            "\n",
            "               precision    recall  f1-score   support\n",
            "\n",
            "           0       0.97      0.98      0.98       150\n",
            "           1       0.90      0.85      0.88       150\n",
            "           2       0.82      0.88      0.85       150\n",
            "           3       0.95      0.93      0.94       150\n",
            "\n",
            "    accuracy                           0.91       600\n",
            "   macro avg       0.91      0.91      0.91       600\n",
            "weighted avg       0.91      0.91      0.91       600\n",
            "\n"
          ]
        }
      ],
      "source": [
        "print(\"Classification report\\n\\n\",classification_report(y_test, gb_clsf1_test_pred))"
      ]
    },
    {
      "cell_type": "code",
      "execution_count": 75,
      "metadata": {
        "colab": {
          "base_uri": "https://localhost:8080/",
          "height": 371
        },
        "id": "LM_JDHns-XuC",
        "outputId": "c8e93d56-9a83-44ce-bc1b-704564ee6289"
      },
      "outputs": [
        {
          "output_type": "execute_result",
          "data": {
            "text/plain": [
              "Text(0.5, 1.0, 'Confusion Matrix')"
            ]
          },
          "metadata": {},
          "execution_count": 75
        },
        {
          "output_type": "display_data",
          "data": {
            "text/plain": [
              "<Figure size 504x360 with 1 Axes>"
            ],
            "image/png": "[encoded data removed]"
          },
          "metadata": {
            "needs_background": "light"
          }
        }
      ],
      "source": [
        "# confusion matrix of train data\n",
        "\n",
        "train_cm = confusion_matrix(y_train , gb_clsf1_train_pred)\n",
        "\n",
        "df1 = pd.DataFrame(columns = [\"0\", \"1\", \"2\", \"3\" ], index= [\"0\", \"1\", \"2\", \"3\"],data = train_cm)\n",
        "\n",
        "plt.figure(figsize=(7,5))\n",
        "sns.heatmap(df1, annot = True, fmt = \".0f\",cmap=\"tab20\", cbar = False, linewidths=2)\n",
        "plt.xlabel(\"Predicted labels\", size=12)\n",
        "plt.ylabel(\"Actual labels\", size=12)\n",
        "plt.title(\"Confusion Matrix\",size=14)"
      ]
    },
    {
      "cell_type": "code",
      "execution_count": 76,
      "metadata": {
        "colab": {
          "base_uri": "https://localhost:8080/",
          "height": 371
        },
        "id": "6Vdf5gbU_erc",
        "outputId": "b1c278a3-cf8b-46a9-a07c-24135fe9a127"
      },
      "outputs": [
        {
          "output_type": "execute_result",
          "data": {
            "text/plain": [
              "Text(0.5, 1.0, 'Confusion Matrix')"
            ]
          },
          "metadata": {},
          "execution_count": 76
        },
        {
          "output_type": "display_data",
          "data": {
            "text/plain": [
              "<Figure size 504x360 with 1 Axes>"
            ],
            "image/png": "[encoded data removed]"
          },
          "metadata": {
            "needs_background": "light"
          }
        }
      ],
      "source": [
        "# confusion matrix of train data\n",
        "\n",
        "test_cm = confusion_matrix(y_test , gb_clsf1_test_pred)\n",
        "\n",
        "df1 = pd.DataFrame(columns = [\"0\", \"1\", \"2\", \"3\" ], index= [\"0\", \"1\", \"2\", \"3\"],data = test_cm)\n",
        "\n",
        "plt.figure(figsize=(7,5))\n",
        "sns.heatmap(df1, annot = True, fmt = \".0f\",cmap=\"tab20\", cbar = False, linewidths=2)\n",
        "plt.xlabel(\"Predicted labels\", size=12)\n",
        "plt.ylabel(\"Actual labels\", size=12)\n",
        "plt.title(\"Confusion Matrix\",size=14)"
      ]
    },
    {
      "cell_type": "markdown",
      "metadata": {
        "id": "lLE7BHSi4S30"
      },
      "source": [
        "## **XGBclassifier**"
      ]
    },
    {
      "cell_type": "code",
      "execution_count": 77,
      "metadata": {
        "id": "OpfvMTz04W-r"
      },
      "outputs": [],
      "source": [
        "from xgboost import XGBClassifier"
      ]
    },
    {
      "cell_type": "code",
      "execution_count": 78,
      "metadata": {
        "id": "IZ-yy6_S5BZw"
      },
      "outputs": [],
      "source": [
        "xgb_clsf = XGBClassifier()"
      ]
    },
    {
      "cell_type": "code",
      "execution_count": 79,
      "metadata": {
        "colab": {
          "base_uri": "https://localhost:8080/"
        },
        "id": "VnOlVmtc5QYA",
        "outputId": "01900441-0121-46f4-cf51-787b6e1ba9c1"
      },
      "outputs": [
        {
          "output_type": "execute_result",
          "data": {
            "text/plain": [
              "XGBClassifier(objective='multi:softprob')"
            ]
          },
          "metadata": {},
          "execution_count": 79
        }
      ],
      "source": [
        "# fit the model\n",
        "xgb_clsf.fit(x_train , y_train)"
      ]
    },
    {
      "cell_type": "code",
      "execution_count": 80,
      "metadata": {
        "id": "gS358NPn5dCB"
      },
      "outputs": [],
      "source": [
        "# predict\n",
        "xgb_train_pred = xgb_clsf.predict(x_train)\n",
        "xgb_test_pred = xgb_clsf.predict(x_test)\n"
      ]
    },
    {
      "cell_type": "code",
      "source": [
        "print(\"Classification report\\n\\n\",classification_report(y_train , xgb_train_pred))"
      ],
      "metadata": {
        "colab": {
          "base_uri": "https://localhost:8080/"
        },
        "id": "MWQAQO_yWtVd",
        "outputId": "fc3b81a3-0fd0-40b9-9d4f-3cf96f576a4a"
      },
      "execution_count": 81,
      "outputs": [
        {
          "output_type": "stream",
          "name": "stdout",
          "text": [
            "Classification report\n",
            "\n",
            "               precision    recall  f1-score   support\n",
            "\n",
            "           0       0.99      0.99      0.99       350\n",
            "           1       0.98      0.98      0.98       350\n",
            "           2       0.98      0.98      0.98       350\n",
            "           3       1.00      0.99      0.99       350\n",
            "\n",
            "    accuracy                           0.99      1400\n",
            "   macro avg       0.99      0.99      0.99      1400\n",
            "weighted avg       0.99      0.99      0.99      1400\n",
            "\n"
          ]
        }
      ]
    },
    {
      "cell_type": "code",
      "execution_count": 82,
      "metadata": {
        "colab": {
          "base_uri": "https://localhost:8080/"
        },
        "id": "UnkeZW9FBIeI",
        "outputId": "3ce415a8-5285-427a-dfc3-0b7aead985ca"
      },
      "outputs": [
        {
          "output_type": "stream",
          "name": "stdout",
          "text": [
            "Classification report\n",
            "\n",
            "               precision    recall  f1-score   support\n",
            "\n",
            "           0       0.97      0.97      0.97       150\n",
            "           1       0.89      0.90      0.89       150\n",
            "           2       0.85      0.84      0.85       150\n",
            "           3       0.93      0.92      0.92       150\n",
            "\n",
            "    accuracy                           0.91       600\n",
            "   macro avg       0.91      0.91      0.91       600\n",
            "weighted avg       0.91      0.91      0.91       600\n",
            "\n"
          ]
        }
      ],
      "source": [
        "print(\"Classification report\\n\\n\",classification_report(y_test , xgb_test_pred))"
      ]
    },
    {
      "cell_type": "code",
      "execution_count": 83,
      "metadata": {
        "colab": {
          "base_uri": "https://localhost:8080/",
          "height": 371
        },
        "id": "ZTopbPG6AShj",
        "outputId": "cee3df6b-465c-4650-c1b7-74a15e9c27f7"
      },
      "outputs": [
        {
          "output_type": "execute_result",
          "data": {
            "text/plain": [
              "Text(0.5, 1.0, 'Confusion Matrix')"
            ]
          },
          "metadata": {},
          "execution_count": 83
        },
        {
          "output_type": "display_data",
          "data": {
            "text/plain": [
              "<Figure size 504x360 with 1 Axes>"
            ],
            "image/png": "[encoded data removed]"
          },
          "metadata": {
            "needs_background": "light"
          }
        }
      ],
      "source": [
        "# confusion matrix of train data\n",
        "\n",
        "train_cm = confusion_matrix(y_train , xgb_train_pred)\n",
        "\n",
        "df1 = pd.DataFrame(columns = [\"0\", \"1\", \"2\", \"3\" ], index= [\"0\", \"1\", \"2\", \"3\"],data = train_cm)\n",
        "\n",
        "plt.figure(figsize=(7,5))\n",
        "sns.heatmap(df1, annot = True, fmt = \".0f\",cmap=\"tab20\", cbar = False, linewidths=2)\n",
        "plt.xlabel(\"Predicted labels\", size=12)\n",
        "plt.ylabel(\"Actual labels\", size=12)\n",
        "plt.title(\"Confusion Matrix\",size=14)"
      ]
    },
    {
      "cell_type": "code",
      "execution_count": 84,
      "metadata": {
        "colab": {
          "base_uri": "https://localhost:8080/",
          "height": 371
        },
        "id": "HrGFEQMMA12e",
        "outputId": "a74438b7-d64b-42f9-ee5a-93d4f1a51520"
      },
      "outputs": [
        {
          "output_type": "execute_result",
          "data": {
            "text/plain": [
              "Text(0.5, 1.0, 'Confusion Matrix')"
            ]
          },
          "metadata": {},
          "execution_count": 84
        },
        {
          "output_type": "display_data",
          "data": {
            "text/plain": [
              "<Figure size 504x360 with 1 Axes>"
            ],
            "image/png": "[encoded data removed]"
          },
          "metadata": {
            "needs_background": "light"
          }
        }
      ],
      "source": [
        "# confusion matrix of test data\n",
        "\n",
        "test_cm = confusion_matrix(y_test , xgb_test_pred)\n",
        "\n",
        "df1 = pd.DataFrame(columns = [\"0\", \"1\", \"2\", \"3\" ], index= [\"0\", \"1\", \"2\", \"3\"],data = test_cm)\n",
        "\n",
        "plt.figure(figsize=(7,5))\n",
        "sns.heatmap(df1, annot = True, fmt = \".0f\",cmap=\"tab20\", cbar = False, linewidths=2)\n",
        "plt.xlabel(\"Predicted labels\", size=12)\n",
        "plt.ylabel(\"Actual labels\", size=12)\n",
        "plt.title(\"Confusion Matrix\",size=14)"
      ]
    },
    {
      "cell_type": "markdown",
      "metadata": {
        "id": "eykHQOhDCWSP"
      },
      "source": [
        "## **Random Forest Classification**"
      ]
    },
    {
      "cell_type": "code",
      "execution_count": 85,
      "metadata": {
        "id": "fB-BZTL8BCDW"
      },
      "outputs": [],
      "source": [
        "from sklearn.ensemble import RandomForestClassifier"
      ]
    },
    {
      "cell_type": "code",
      "execution_count": 86,
      "metadata": {
        "id": "gSyDoN28ChUl"
      },
      "outputs": [],
      "source": [
        "# parameters for random forest\n",
        "\n",
        "# number of estimators\n",
        "n_estimators = [50,80,100,125]\n",
        "\n",
        "# maximun depth of tree\n",
        "max_depth = [3,4,5,7,8]\n",
        "\n",
        "\n",
        "parameter = {\n",
        "    \"n_estimators\" : n_estimators,\n",
        "    \"max_depth\" : max_depth,\n",
        "   \n",
        "}\n",
        "\n",
        "rf_clsf = RandomForestClassifier()"
      ]
    },
    {
      "cell_type": "code",
      "execution_count": 87,
      "metadata": {
        "colab": {
          "base_uri": "https://localhost:8080/"
        },
        "id": "NbNnn9VAEWIr",
        "outputId": "40bc581d-af79-424b-c169-95577b236a7b"
      },
      "outputs": [
        {
          "output_type": "stream",
          "name": "stdout",
          "text": [
            "Fitting 5 folds for each of 20 candidates, totalling 100 fits\n"
          ]
        },
        {
          "output_type": "execute_result",
          "data": {
            "text/plain": [
              "GridSearchCV(cv=5, estimator=RandomForestClassifier(), n_jobs=-1,\n",
              "             param_grid={'max_depth': [3, 4, 5, 7, 8],\n",
              "                         'n_estimators': [50, 80, 100, 125]},\n",
              "             scoring='accuracy', verbose=2)"
            ]
          },
          "metadata": {},
          "execution_count": 87
        }
      ],
      "source": [
        "# gridsearchCV \n",
        "\n",
        "rf_grid = GridSearchCV(estimator = rf_clsf, param_grid=parameter, cv = 5, verbose= 2, n_jobs = -1, scoring = \"accuracy\")\n",
        "\n",
        "# fit the data\n",
        "rf_grid.fit(x_train,y_train)"
      ]
    },
    {
      "cell_type": "code",
      "execution_count": 88,
      "metadata": {
        "id": "1RnQmAmPE-7m"
      },
      "outputs": [],
      "source": [
        "rf_optimal = rf_grid.best_estimator_"
      ]
    },
    {
      "cell_type": "code",
      "execution_count": 89,
      "metadata": {
        "colab": {
          "base_uri": "https://localhost:8080/"
        },
        "id": "IivVsLE4GjpV",
        "outputId": "ea52bbaa-689c-4d6c-8bc7-b553cbe5ae7e"
      },
      "outputs": [
        {
          "output_type": "execute_result",
          "data": {
            "text/plain": [
              "{'max_depth': 8, 'n_estimators': 100}"
            ]
          },
          "metadata": {},
          "execution_count": 89
        }
      ],
      "source": [
        "rf_grid.best_params_"
      ]
    },
    {
      "cell_type": "code",
      "execution_count": 90,
      "metadata": {
        "id": "xt0St-khGm_V"
      },
      "outputs": [],
      "source": [
        "# prediction on train and test data\n",
        "y_train_pred_rf = rf_optimal.predict(x_train)\n",
        "y_test_pred_rf = rf_optimal.predict(x_test)"
      ]
    },
    {
      "cell_type": "code",
      "execution_count": 91,
      "metadata": {
        "id": "W2r14JA_Hr4a"
      },
      "outputs": [],
      "source": [
        "# probability on train and test data\n",
        "y_train_proba = rf_optimal.predict_proba(x_train)\n",
        "y_test_proba = rf_optimal.predict_proba(x_test)"
      ]
    },
    {
      "cell_type": "code",
      "execution_count": 92,
      "metadata": {
        "id": "hdmp-3vFIG0j"
      },
      "outputs": [],
      "source": [
        "# accuracy score\n",
        "rf_train_accuracy = accuracy_score(y_train , y_train_pred_rf)\n",
        "rf_test_accuracy = accuracy_score(y_test , y_test_pred_rf)"
      ]
    },
    {
      "cell_type": "code",
      "execution_count": 93,
      "metadata": {
        "colab": {
          "base_uri": "https://localhost:8080/"
        },
        "id": "zgYEJ4DLIgQE",
        "outputId": "7cea17a9-8e92-467a-fc63-95044d0a596d"
      },
      "outputs": [
        {
          "output_type": "stream",
          "name": "stdout",
          "text": [
            "Accuracy score of train data :  0.99\n",
            "Accuracy score of test data :  0.8683333333333333\n"
          ]
        }
      ],
      "source": [
        "  print(\"Accuracy score of train data : \",rf_train_accuracy)\n",
        "  print(\"Accuracy score of test data : \" ,rf_test_accuracy)"
      ]
    },
    {
      "cell_type": "code",
      "execution_count": 94,
      "metadata": {
        "colab": {
          "base_uri": "https://localhost:8080/",
          "height": 371
        },
        "id": "PY-8emDEJC1o",
        "outputId": "9ae102ee-7a03-429e-99da-c80a71034d92"
      },
      "outputs": [
        {
          "output_type": "execute_result",
          "data": {
            "text/plain": [
              "Text(0.5, 1.0, 'Confusion Matrix')"
            ]
          },
          "metadata": {},
          "execution_count": 94
        },
        {
          "output_type": "display_data",
          "data": {
            "text/plain": [
              "<Figure size 504x360 with 1 Axes>"
            ],
            "image/png": "[encoded data removed]"
          },
          "metadata": {
            "needs_background": "light"
          }
        }
      ],
      "source": [
        "# confusion matrix of train data\n",
        "\n",
        "train_cm = confusion_matrix(y_train , y_train_pred_rf)\n",
        "\n",
        "df1 = pd.DataFrame(columns = [\"0\", \"1\", \"2\", \"3\" ], index= [\"0\", \"1\", \"2\", \"3\"],data = train_cm)\n",
        "\n",
        "plt.figure(figsize=(7,5))\n",
        "sns.heatmap(df1, annot = True, fmt = \".0f\",cmap=\"tab20\", cbar = False, linewidths=2)\n",
        "plt.xlabel(\"Predicted labels\", size=12)\n",
        "plt.ylabel(\"Actual labels\", size=12)\n",
        "plt.title(\"Confusion Matrix\",size=14)"
      ]
    },
    {
      "cell_type": "code",
      "execution_count": 95,
      "metadata": {
        "colab": {
          "base_uri": "https://localhost:8080/",
          "height": 371
        },
        "id": "FtlGRBtFJVer",
        "outputId": "03799b37-1e15-40cf-c84f-2caa323053aa"
      },
      "outputs": [
        {
          "output_type": "execute_result",
          "data": {
            "text/plain": [
              "Text(0.5, 1.0, 'Confusion Matrix')"
            ]
          },
          "metadata": {},
          "execution_count": 95
        },
        {
          "output_type": "display_data",
          "data": {
            "text/plain": [
              "<Figure size 504x360 with 1 Axes>"
            ],
            "image/png": "[encoded data removed]"
          },
          "metadata": {
            "needs_background": "light"
          }
        }
      ],
      "source": [
        "# confusion matrix of test data\n",
        "\n",
        "test_cm = confusion_matrix(y_test , y_test_pred_rf)\n",
        "\n",
        "df1 = pd.DataFrame(columns = [\"0\", \"1\", \"2\", \"3\" ], index= [\"0\", \"1\", \"2\", \"3\"],data = test_cm)\n",
        "\n",
        "plt.figure(figsize=(7,5))\n",
        "sns.heatmap(df1, annot = True, fmt = \".0f\",cmap=\"tab20\", cbar = False, linewidths=2)\n",
        "plt.xlabel(\"Predicted labels\", size=12)\n",
        "plt.ylabel(\"Actual labels\", size=12)\n",
        "plt.title(\"Confusion Matrix\",size=14)"
      ]
    },
    {
      "cell_type": "code",
      "execution_count": 96,
      "metadata": {
        "colab": {
          "base_uri": "https://localhost:8080/"
        },
        "id": "qWDSr469JhXo",
        "outputId": "88f21fe5-2d8d-4c63-bf0a-31c07932fe5b"
      },
      "outputs": [
        {
          "output_type": "stream",
          "name": "stdout",
          "text": [
            "Classification report\n",
            "\n",
            "               precision    recall  f1-score   support\n",
            "\n",
            "           0       1.00      1.00      1.00       350\n",
            "           1       0.99      0.98      0.98       350\n",
            "           2       0.97      0.99      0.98       350\n",
            "           3       1.00      0.99      1.00       350\n",
            "\n",
            "    accuracy                           0.99      1400\n",
            "   macro avg       0.99      0.99      0.99      1400\n",
            "weighted avg       0.99      0.99      0.99      1400\n",
            "\n"
          ]
        }
      ],
      "source": [
        "print(\"Classification report\\n\\n\",classification_report(y_train , y_train_pred_rf))"
      ]
    },
    {
      "cell_type": "code",
      "execution_count": 97,
      "metadata": {
        "colab": {
          "base_uri": "https://localhost:8080/"
        },
        "id": "GVggu4Q8JuSy",
        "outputId": "ed51c6c3-98a1-44aa-8ff2-5281eed2fc80"
      },
      "outputs": [
        {
          "output_type": "stream",
          "name": "stdout",
          "text": [
            "Classification report\n",
            "\n",
            "               precision    recall  f1-score   support\n",
            "\n",
            "           0       0.97      0.96      0.96       150\n",
            "           1       0.81      0.82      0.82       150\n",
            "           2       0.78      0.77      0.77       150\n",
            "           3       0.91      0.93      0.92       150\n",
            "\n",
            "    accuracy                           0.87       600\n",
            "   macro avg       0.87      0.87      0.87       600\n",
            "weighted avg       0.87      0.87      0.87       600\n",
            "\n"
          ]
        }
      ],
      "source": [
        "print(\"Classification report\\n\\n\",classification_report(y_test , y_test_pred_rf))"
      ]
    },
    {
      "cell_type": "markdown",
      "source": [
        "## **Support vector Mchine classifier**"
      ],
      "metadata": {
        "id": "CQQPs9jIHGJ2"
      }
    },
    {
      "cell_type": "code",
      "source": [
        "from sklearn.svm import SVC"
      ],
      "metadata": {
        "id": "9yfGyDElHWWs"
      },
      "execution_count": 98,
      "outputs": []
    },
    {
      "cell_type": "code",
      "source": [
        "svm_clsf = SVC()"
      ],
      "metadata": {
        "id": "g0DOJcUNIYor"
      },
      "execution_count": 99,
      "outputs": []
    },
    {
      "cell_type": "code",
      "source": [
        "# fit the model\n",
        "svm_clsf.fit(x_train , y_train)"
      ],
      "metadata": {
        "colab": {
          "base_uri": "https://localhost:8080/"
        },
        "id": "sH4WjdUMIooW",
        "outputId": "c6179a82-e55d-4594-c0a6-eaa9d208e78e"
      },
      "execution_count": 100,
      "outputs": [
        {
          "output_type": "execute_result",
          "data": {
            "text/plain": [
              "SVC()"
            ]
          },
          "metadata": {},
          "execution_count": 100
        }
      ]
    },
    {
      "cell_type": "code",
      "source": [
        "y_train_pred_svm = svm_clsf.predict(x_train)\n",
        "y_test_pred_svm = svm_clsf.predict(x_test)"
      ],
      "metadata": {
        "id": "E4JusINCI9FA"
      },
      "execution_count": 101,
      "outputs": []
    },
    {
      "cell_type": "code",
      "source": [
        "y_train_pred_svm "
      ],
      "metadata": {
        "colab": {
          "base_uri": "https://localhost:8080/"
        },
        "id": "h91l0_GmJLjw",
        "outputId": "59411a85-0a32-4853-eb21-8702b2efaa88"
      },
      "execution_count": 102,
      "outputs": [
        {
          "output_type": "execute_result",
          "data": {
            "text/plain": [
              "array([1, 2, 0, ..., 3, 0, 0])"
            ]
          },
          "metadata": {},
          "execution_count": 102
        }
      ]
    },
    {
      "cell_type": "code",
      "source": [
        "y_test_pred_svm"
      ],
      "metadata": {
        "colab": {
          "base_uri": "https://localhost:8080/"
        },
        "id": "-GOmpp6cJPN9",
        "outputId": "ff1f78f2-02cb-48e7-92e1-b6a75670935d"
      },
      "execution_count": 103,
      "outputs": [
        {
          "output_type": "execute_result",
          "data": {
            "text/plain": [
              "array([3, 3, 1, 1, 3, 3, 0, 0, 2, 3, 1, 1, 0, 1, 0, 2, 2, 1, 3, 2, 3, 2,\n",
              "       2, 0, 3, 2, 1, 3, 2, 3, 2, 3, 0, 1, 1, 2, 2, 1, 1, 2, 3, 1, 2, 3,\n",
              "       0, 1, 2, 3, 2, 3, 1, 0, 0, 3, 0, 3, 1, 1, 2, 3, 3, 1, 1, 2, 2, 2,\n",
              "       2, 2, 0, 0, 0, 0, 0, 3, 3, 0, 2, 1, 0, 2, 1, 2, 1, 3, 0, 2, 0, 2,\n",
              "       3, 2, 1, 2, 0, 3, 3, 3, 3, 3, 0, 0, 1, 0, 1, 1, 1, 3, 1, 3, 3, 2,\n",
              "       1, 1, 0, 2, 1, 3, 1, 0, 3, 1, 2, 1, 1, 0, 2, 1, 1, 3, 0, 0, 3, 2,\n",
              "       0, 0, 0, 0, 1, 2, 1, 2, 2, 0, 2, 0, 3, 3, 0, 3, 2, 0, 3, 1, 2, 3,\n",
              "       2, 1, 0, 3, 1, 2, 3, 1, 0, 3, 0, 0, 3, 1, 0, 2, 3, 2, 0, 1, 2, 2,\n",
              "       0, 1, 1, 1, 3, 0, 1, 3, 2, 2, 0, 3, 3, 1, 0, 2, 2, 0, 3, 2, 0, 1,\n",
              "       3, 3, 0, 1, 1, 3, 3, 0, 2, 3, 0, 2, 3, 0, 2, 3, 1, 1, 3, 1, 2, 2,\n",
              "       3, 0, 2, 2, 2, 1, 2, 3, 0, 3, 1, 0, 2, 3, 3, 1, 3, 0, 1, 3, 1, 2,\n",
              "       0, 1, 3, 0, 1, 3, 3, 0, 3, 0, 2, 0, 2, 3, 3, 1, 1, 3, 1, 0, 2, 0,\n",
              "       3, 2, 2, 2, 1, 2, 1, 3, 3, 1, 0, 3, 0, 2, 1, 2, 3, 2, 1, 3, 3, 1,\n",
              "       1, 2, 2, 2, 2, 1, 1, 2, 1, 0, 1, 0, 0, 0, 2, 3, 1, 3, 1, 2, 3, 0,\n",
              "       1, 3, 0, 0, 0, 3, 1, 1, 2, 1, 2, 1, 2, 1, 1, 1, 0, 0, 1, 1, 3, 3,\n",
              "       2, 0, 2, 0, 3, 0, 3, 0, 3, 1, 1, 3, 3, 2, 2, 0, 3, 1, 1, 2, 0, 1,\n",
              "       1, 3, 1, 0, 0, 3, 2, 3, 3, 1, 2, 2, 0, 0, 3, 3, 1, 2, 3, 3, 3, 2,\n",
              "       3, 2, 1, 0, 3, 1, 0, 0, 3, 0, 0, 0, 2, 1, 3, 0, 3, 1, 1, 1, 2, 0,\n",
              "       1, 1, 1, 2, 2, 0, 1, 1, 0, 0, 0, 2, 0, 1, 2, 1, 2, 3, 3, 3, 2, 2,\n",
              "       2, 0, 1, 1, 1, 2, 0, 2, 0, 0, 2, 0, 0, 0, 0, 2, 1, 3, 2, 1, 0, 2,\n",
              "       0, 2, 1, 1, 2, 2, 1, 1, 0, 3, 1, 3, 3, 3, 1, 0, 3, 0, 1, 3, 0, 1,\n",
              "       0, 3, 3, 0, 0, 0, 1, 0, 0, 0, 0, 2, 0, 1, 1, 2, 0, 3, 2, 1, 0, 1,\n",
              "       3, 3, 1, 1, 1, 1, 3, 1, 0, 2, 1, 2, 0, 2, 1, 3, 3, 0, 3, 0, 1, 3,\n",
              "       1, 1, 3, 3, 0, 2, 3, 2, 3, 2, 0, 2, 3, 0, 1, 3, 0, 3, 3, 1, 2, 1,\n",
              "       2, 0, 2, 2, 0, 3, 3, 0, 1, 3, 3, 2, 2, 1, 0, 1, 0, 0, 0, 1, 3, 1,\n",
              "       3, 3, 1, 0, 0, 1, 3, 2, 3, 0, 3, 1, 2, 3, 2, 0, 1, 3, 2, 2, 2, 3,\n",
              "       3, 2, 2, 3, 2, 1, 2, 2, 3, 1, 0, 0, 1, 0, 3, 2, 0, 0, 2, 1, 0, 0,\n",
              "       0, 1, 3, 0, 0, 3])"
            ]
          },
          "metadata": {},
          "execution_count": 103
        }
      ]
    },
    {
      "cell_type": "code",
      "source": [
        "# accuracy score \n",
        "svm_train_accuracy = accuracy_score(y_train , y_train_pred_svm)\n",
        "svm_test_accuracy = accuracy_score(y_test , y_test_pred_svm)"
      ],
      "metadata": {
        "id": "62GgtveKJRCi"
      },
      "execution_count": 104,
      "outputs": []
    },
    {
      "cell_type": "code",
      "source": [
        "  print(\"Accuracy score of train data : \",svm_train_accuracy)\n",
        "  print(\"Accuracy score of test data : \" ,svm_test_accuracy)"
      ],
      "metadata": {
        "colab": {
          "base_uri": "https://localhost:8080/"
        },
        "id": "S1oEw8k7Jh-G",
        "outputId": "cda40e7d-71c5-4915-a98d-bdd1543dff7c"
      },
      "execution_count": 105,
      "outputs": [
        {
          "output_type": "stream",
          "name": "stdout",
          "text": [
            "Accuracy score of train data :  0.9457142857142857\n",
            "Accuracy score of test data :  0.96\n"
          ]
        }
      ]
    },
    {
      "cell_type": "code",
      "source": [
        "# classification report of train data\n",
        "print(\"Classification report\\n\\n\",classification_report(y_train , y_train_pred_svm))"
      ],
      "metadata": {
        "colab": {
          "base_uri": "https://localhost:8080/"
        },
        "id": "LrWP2SSdJoPi",
        "outputId": "0fc58eb2-79b2-47a1-dce3-5ed24c6dfd5e"
      },
      "execution_count": 106,
      "outputs": [
        {
          "output_type": "stream",
          "name": "stdout",
          "text": [
            "Classification report\n",
            "\n",
            "               precision    recall  f1-score   support\n",
            "\n",
            "           0       0.97      0.97      0.97       350\n",
            "           1       0.92      0.95      0.94       350\n",
            "           2       0.95      0.89      0.92       350\n",
            "           3       0.94      0.97      0.96       350\n",
            "\n",
            "    accuracy                           0.95      1400\n",
            "   macro avg       0.95      0.95      0.95      1400\n",
            "weighted avg       0.95      0.95      0.95      1400\n",
            "\n"
          ]
        }
      ]
    },
    {
      "cell_type": "code",
      "source": [
        "# classification report of test data\n",
        "print(\"Classification report\\n\\n\",classification_report(y_test , y_test_pred_svm))"
      ],
      "metadata": {
        "colab": {
          "base_uri": "https://localhost:8080/"
        },
        "id": "ymgQNIQAJ1Qj",
        "outputId": "0967bb5f-f1b5-4cbc-9bea-13a3bea1a0bf"
      },
      "execution_count": 107,
      "outputs": [
        {
          "output_type": "stream",
          "name": "stdout",
          "text": [
            "Classification report\n",
            "\n",
            "               precision    recall  f1-score   support\n",
            "\n",
            "           0       0.98      0.99      0.99       150\n",
            "           1       0.94      0.97      0.96       150\n",
            "           2       0.96      0.90      0.93       150\n",
            "           3       0.95      0.97      0.96       150\n",
            "\n",
            "    accuracy                           0.96       600\n",
            "   macro avg       0.96      0.96      0.96       600\n",
            "weighted avg       0.96      0.96      0.96       600\n",
            "\n"
          ]
        }
      ]
    },
    {
      "cell_type": "code",
      "source": [
        "# confusion matrix of train data\n",
        "\n",
        "train_cm = confusion_matrix(y_train , y_train_pred_svm)\n",
        "\n",
        "df1 = pd.DataFrame(columns = [\"0\", \"1\", \"2\", \"3\" ], index= [\"0\", \"1\", \"2\", \"3\"],data = train_cm)\n",
        "\n",
        "plt.figure(figsize=(7,5))\n",
        "sns.heatmap(df1, annot = True, fmt = \".0f\",cmap=\"tab20\", cbar = False, linewidths=2)\n",
        "plt.xlabel(\"Predicted labels\", size=12)\n",
        "plt.ylabel(\"Actual labels\", size=12)\n",
        "plt.title(\"Confusion Matrix\",size=14)"
      ],
      "metadata": {
        "colab": {
          "base_uri": "https://localhost:8080/",
          "height": 371
        },
        "id": "1sehv94MJ64b",
        "outputId": "017feba6-15ef-40d3-90a9-b04f7b3835f1"
      },
      "execution_count": 108,
      "outputs": [
        {
          "output_type": "execute_result",
          "data": {
            "text/plain": [
              "Text(0.5, 1.0, 'Confusion Matrix')"
            ]
          },
          "metadata": {},
          "execution_count": 108
        },
        {
          "output_type": "display_data",
          "data": {
            "text/plain": [
              "<Figure size 504x360 with 1 Axes>"
            ],
            "image/png": "[encoded data removed]"
          },
          "metadata": {
            "needs_background": "light"
          }
        }
      ]
    },
    {
      "cell_type": "code",
      "source": [
        "# confusion matrix of test data\n",
        "\n",
        "test_cm = confusion_matrix(y_test , y_test_pred_svm)\n",
        "\n",
        "df1 = pd.DataFrame(columns = [\"0\", \"1\", \"2\", \"3\" ], index= [\"0\", \"1\", \"2\", \"3\"],data = test_cm)\n",
        "\n",
        "plt.figure(figsize=(7,5))\n",
        "sns.heatmap(df1, annot = True, fmt = \".0f\",cmap=\"tab20\", cbar = False, linewidths=2)\n",
        "plt.xlabel(\"Predicted labels\", size=12)\n",
        "plt.ylabel(\"Actual labels\", size=12)\n",
        "plt.title(\"Confusion Matrix\",size=14)"
      ],
      "metadata": {
        "colab": {
          "base_uri": "https://localhost:8080/",
          "height": 371
        },
        "id": "zWMJlMd7KSbs",
        "outputId": "9a5cc5c4-5b37-4dbb-e9a3-f87512ee7759"
      },
      "execution_count": 109,
      "outputs": [
        {
          "output_type": "execute_result",
          "data": {
            "text/plain": [
              "Text(0.5, 1.0, 'Confusion Matrix')"
            ]
          },
          "metadata": {},
          "execution_count": 109
        },
        {
          "output_type": "display_data",
          "data": {
            "text/plain": [
              "<Figure size 504x360 with 1 Axes>"
            ],
            "image/png": "[encoded data removed]"
          },
          "metadata": {
            "needs_background": "light"
          }
        }
      ]
    },
    {
      "cell_type": "markdown",
      "source": [
        "From above all algorithm we can see than SVM classifier is perform best, apply Hyperparameter tuning in SVM Classifier."
      ],
      "metadata": {
        "id": "KXKOmUJoLgpX"
      }
    },
    {
      "cell_type": "markdown",
      "source": [
        "## **Hyperparameter Tuning**"
      ],
      "metadata": {
        "id": "gPMPcfB1LXvI"
      }
    },
    {
      "cell_type": "code",
      "source": [
        "svm_clsf = SVC()"
      ],
      "metadata": {
        "id": "wVQgrPuWLf2f"
      },
      "execution_count": 110,
      "outputs": []
    },
    {
      "cell_type": "code",
      "source": [
        "# grid parameters\n",
        "parameter = { \"kernel\" : [\"linear\", \"poly\", \"rbf\"],\n",
        "             \"decision_function_shape\" : [\"ovo\", \"ovr\"],\n",
        "             \"C\" : [1,5,8,10,15]\n",
        "}\n",
        "\n",
        "grid_svm = GridSearchCV(svm_clsf, param_grid = parameter, cv=5, n_jobs = -1 , verbose = 2)\n",
        "grid_svm.fit(x_train , y_train)"
      ],
      "metadata": {
        "colab": {
          "base_uri": "https://localhost:8080/"
        },
        "id": "COv1K4BEMYC9",
        "outputId": "ea4f3f6b-9900-4195-b1f5-6143e71187dd"
      },
      "execution_count": 111,
      "outputs": [
        {
          "output_type": "stream",
          "name": "stdout",
          "text": [
            "Fitting 5 folds for each of 30 candidates, totalling 150 fits\n"
          ]
        },
        {
          "output_type": "execute_result",
          "data": {
            "text/plain": [
              "GridSearchCV(cv=5, estimator=SVC(), n_jobs=-1,\n",
              "             param_grid={'C': [1, 5, 8, 10, 15],\n",
              "                         'decision_function_shape': ['ovo', 'ovr'],\n",
              "                         'kernel': ['linear', 'poly', 'rbf']},\n",
              "             verbose=2)"
            ]
          },
          "metadata": {},
          "execution_count": 111
        }
      ]
    },
    {
      "cell_type": "code",
      "source": [
        "grid_svm.best_params_"
      ],
      "metadata": {
        "colab": {
          "base_uri": "https://localhost:8080/"
        },
        "id": "Fr85rGSIP3oG",
        "outputId": "80f56ee9-f43b-42e4-a401-35d0ee99fd57"
      },
      "execution_count": 112,
      "outputs": [
        {
          "output_type": "execute_result",
          "data": {
            "text/plain": [
              "{'C': 1, 'decision_function_shape': 'ovo', 'kernel': 'linear'}"
            ]
          },
          "metadata": {},
          "execution_count": 112
        }
      ]
    },
    {
      "cell_type": "code",
      "source": [
        "svm_optimal = grid_svm.best_estimator_"
      ],
      "metadata": {
        "id": "KulOTXr7UD5b"
      },
      "execution_count": 113,
      "outputs": []
    },
    {
      "cell_type": "code",
      "source": [
        "svm_optimal"
      ],
      "metadata": {
        "colab": {
          "base_uri": "https://localhost:8080/"
        },
        "id": "c5VksfsLa53-",
        "outputId": "1b57552f-3bde-48e3-fdf5-69c43057790b"
      },
      "execution_count": 114,
      "outputs": [
        {
          "output_type": "execute_result",
          "data": {
            "text/plain": [
              "SVC(C=1, decision_function_shape='ovo', kernel='linear')"
            ]
          },
          "metadata": {},
          "execution_count": 114
        }
      ]
    },
    {
      "cell_type": "code",
      "source": [
        "grid_svm.best_score_"
      ],
      "metadata": {
        "colab": {
          "base_uri": "https://localhost:8080/"
        },
        "id": "T79RMWadUG9x",
        "outputId": "7bbcfa87-1d14-4246-c986-d6a40cee7091"
      },
      "execution_count": 115,
      "outputs": [
        {
          "output_type": "execute_result",
          "data": {
            "text/plain": [
              "0.9707142857142858"
            ]
          },
          "metadata": {},
          "execution_count": 115
        }
      ]
    },
    {
      "cell_type": "code",
      "source": [
        "y_train_pred_grid_svm = grid_svm.predict(x_train)"
      ],
      "metadata": {
        "id": "6X3Y4M1dSqVp"
      },
      "execution_count": 116,
      "outputs": []
    },
    {
      "cell_type": "code",
      "source": [
        "y_train_pred_grid_svm"
      ],
      "metadata": {
        "colab": {
          "base_uri": "https://localhost:8080/"
        },
        "id": "7CI1OI9bTFSo",
        "outputId": "7ae45e8c-b54f-4ee3-bd84-af2d19b40ed0"
      },
      "execution_count": 117,
      "outputs": [
        {
          "output_type": "execute_result",
          "data": {
            "text/plain": [
              "array([1, 2, 0, ..., 3, 0, 0])"
            ]
          },
          "metadata": {},
          "execution_count": 117
        }
      ]
    },
    {
      "cell_type": "code",
      "source": [
        "y_test_pred_grid_svm = grid_svm.predict(x_test)"
      ],
      "metadata": {
        "id": "tqvQurBDTau2"
      },
      "execution_count": 118,
      "outputs": []
    },
    {
      "cell_type": "code",
      "source": [
        "# accuracy score \n",
        "grid_svm_train_accuracy = accuracy_score(y_train , y_train_pred_grid_svm)\n",
        "grid_svm_test_accuracy = accuracy_score(y_test , y_test_pred_grid_svm)"
      ],
      "metadata": {
        "id": "bjXqM8etThdK"
      },
      "execution_count": 119,
      "outputs": []
    },
    {
      "cell_type": "code",
      "source": [
        "print(\"Accuracy score of train data : \",grid_svm_train_accuracy)\n",
        "print(\"Accuracy score of test data : \" ,grid_svm_test_accuracy)"
      ],
      "metadata": {
        "colab": {
          "base_uri": "https://localhost:8080/"
        },
        "id": "v-2xbkHhUhTZ",
        "outputId": "a3fdacb0-d314-4e83-d316-16ed6762832c"
      },
      "execution_count": 120,
      "outputs": [
        {
          "output_type": "stream",
          "name": "stdout",
          "text": [
            "Accuracy score of train data :  0.9914285714285714\n",
            "Accuracy score of test data :  0.9733333333333334\n"
          ]
        }
      ]
    },
    {
      "cell_type": "code",
      "source": [
        "# classification report of train data\n",
        "print(\"Classification report\\n\\n\",classification_report(y_train , y_train_pred_grid_svm))"
      ],
      "metadata": {
        "colab": {
          "base_uri": "https://localhost:8080/"
        },
        "id": "RsaU_GfhUnyJ",
        "outputId": "77882413-416e-4c24-b2dd-c87b41b3fdc3"
      },
      "execution_count": 121,
      "outputs": [
        {
          "output_type": "stream",
          "name": "stdout",
          "text": [
            "Classification report\n",
            "\n",
            "               precision    recall  f1-score   support\n",
            "\n",
            "           0       1.00      1.00      1.00       350\n",
            "           1       0.99      0.99      0.99       350\n",
            "           2       0.99      0.98      0.98       350\n",
            "           3       0.99      0.99      0.99       350\n",
            "\n",
            "    accuracy                           0.99      1400\n",
            "   macro avg       0.99      0.99      0.99      1400\n",
            "weighted avg       0.99      0.99      0.99      1400\n",
            "\n"
          ]
        }
      ]
    },
    {
      "cell_type": "code",
      "source": [
        "# classification report of test data\n",
        "print(\"Classification report\\n\\n\",classification_report(y_test , y_test_pred_grid_svm))"
      ],
      "metadata": {
        "colab": {
          "base_uri": "https://localhost:8080/"
        },
        "id": "zYUUvffYVNY-",
        "outputId": "04083ad4-5222-467a-e57f-57b54c350060"
      },
      "execution_count": 122,
      "outputs": [
        {
          "output_type": "stream",
          "name": "stdout",
          "text": [
            "Classification report\n",
            "\n",
            "               precision    recall  f1-score   support\n",
            "\n",
            "           0       0.99      0.99      0.99       150\n",
            "           1       0.96      0.97      0.96       150\n",
            "           2       0.95      0.96      0.95       150\n",
            "           3       0.99      0.97      0.98       150\n",
            "\n",
            "    accuracy                           0.97       600\n",
            "   macro avg       0.97      0.97      0.97       600\n",
            "weighted avg       0.97      0.97      0.97       600\n",
            "\n"
          ]
        }
      ]
    },
    {
      "cell_type": "code",
      "source": [
        "# confusion matrix of train data\n",
        "\n",
        "train_cm = confusion_matrix(y_train , y_train_pred_grid_svm)\n",
        "\n",
        "df1 = pd.DataFrame(columns = [\"0\", \"1\", \"2\", \"3\" ], index= [\"0\", \"1\", \"2\", \"3\"],data = train_cm)\n",
        "\n",
        "plt.figure(figsize=(7,5))\n",
        "sns.heatmap(df1, annot = True, fmt = \".0f\",cmap=\"tab20\", cbar = False, linewidths=2)\n",
        "plt.xlabel(\"Predicted labels\", size=12)\n",
        "plt.ylabel(\"Actual labels\", size=12)\n",
        "plt.title(\"Confusion Matrix\",size=14)"
      ],
      "metadata": {
        "colab": {
          "base_uri": "https://localhost:8080/",
          "height": 371
        },
        "id": "7YB-CJ4BVRtx",
        "outputId": "347cdd93-4685-422f-c9da-7d2d168c6c08"
      },
      "execution_count": 123,
      "outputs": [
        {
          "output_type": "execute_result",
          "data": {
            "text/plain": [
              "Text(0.5, 1.0, 'Confusion Matrix')"
            ]
          },
          "metadata": {},
          "execution_count": 123
        },
        {
          "output_type": "display_data",
          "data": {
            "text/plain": [
              "<Figure size 504x360 with 1 Axes>"
            ],
            "image/png": "[encoded data removed]"
          },
          "metadata": {
            "needs_background": "light"
          }
        }
      ]
    },
    {
      "cell_type": "code",
      "source": [
        "# confusion matrix of test data\n",
        "\n",
        "test_cm = confusion_matrix(y_test , y_test_pred_grid_svm)\n",
        "\n",
        "df1 = pd.DataFrame(columns = [\"0\", \"1\", \"2\", \"3\" ], index= [\"0\", \"1\", \"2\", \"3\"],data = test_cm)\n",
        "\n",
        "plt.figure(figsize=(7,5))\n",
        "sns.heatmap(df1, annot = True, fmt = \".0f\",cmap=\"tab20\", cbar = False, linewidths=2)\n",
        "plt.xlabel(\"Predicted labels\", size=12)\n",
        "plt.ylabel(\"Actual labels\", size=12)\n",
        "plt.title(\"Confusion Matrix\",size=14)"
      ],
      "metadata": {
        "colab": {
          "base_uri": "https://localhost:8080/",
          "height": 371
        },
        "id": "_8PUBcrrVtOA",
        "outputId": "78996e94-38ff-4376-ee72-fc9f2157a8e0"
      },
      "execution_count": 124,
      "outputs": [
        {
          "output_type": "execute_result",
          "data": {
            "text/plain": [
              "Text(0.5, 1.0, 'Confusion Matrix')"
            ]
          },
          "metadata": {},
          "execution_count": 124
        },
        {
          "output_type": "display_data",
          "data": {
            "text/plain": [
              "<Figure size 504x360 with 1 Axes>"
            ],
            "image/png": "[encoded data removed]"
          },
          "metadata": {
            "needs_background": "light"
          }
        }
      ]
    },
    {
      "cell_type": "code",
      "source": [
        "# feature importance for  xgboost classifier\n",
        "\n",
        "Importance =  xgb_clsf.feature_importances_\n",
        "\n",
        "features_dict = { \"feature\": list(x_train.columns),\n",
        "                       \"feature importance\" : Importance \n",
        "                       }\n",
        "\n",
        "importance_df = pd.DataFrame(features_dict)"
      ],
      "metadata": {
        "id": "_eitAwf-ZAZ5"
      },
      "execution_count": 125,
      "outputs": []
    },
    {
      "cell_type": "code",
      "source": [
        "importance_df[\"feature importance\"] = round(importance_df[\"feature importance\"],3)"
      ],
      "metadata": {
        "id": "3NIvXLhVZun5"
      },
      "execution_count": 126,
      "outputs": []
    },
    {
      "cell_type": "code",
      "source": [
        "importance_df"
      ],
      "metadata": {
        "colab": {
          "base_uri": "https://localhost:8080/",
          "height": 676
        },
        "id": "98oW6-L9Zyla",
        "outputId": "d500e1c5-32a0-4caf-cf18-a655ea0a1041"
      },
      "execution_count": 127,
      "outputs": [
        {
          "output_type": "execute_result",
          "data": {
            "text/plain": [
              "          feature  feature importance\n",
              "0   battery_power               0.115\n",
              "1            blue               0.000\n",
              "2     clock_speed               0.023\n",
              "3        dual_sim               0.004\n",
              "4              fc               0.031\n",
              "5          four_g               0.000\n",
              "6      int_memory               0.035\n",
              "7           m_dep               0.031\n",
              "8       mobile_wt               0.039\n",
              "9         n_cores               0.036\n",
              "10             pc               0.024\n",
              "11      px_height               0.077\n",
              "12       px_width               0.071\n",
              "13            ram               0.409\n",
              "14           sc_h               0.025\n",
              "15           sc_w               0.014\n",
              "16      talk_time               0.025\n",
              "17        three_g               0.019\n",
              "18   touch_screen               0.022\n",
              "19           wifi               0.000"
            ],
            "text/html": [
              "\n",
              "  <div id=\"df-545cdce3-cce9-423f-8bd3-5a899639f3c3\">\n",
              "    <div class=\"colab-df-container\">\n",
              "      <div>\n",
              "<style scoped>\n",
              "    .dataframe tbody tr th:only-of-type {\n",
              "        vertical-align: middle;\n",
              "    }\n",
              "\n",
              "    .dataframe tbody tr th {\n",
              "        vertical-align: top;\n",
              "    }\n",
              "\n",
              "    .dataframe thead th {\n",
              "        text-align: right;\n",
              "    }\n",
              "</style>\n",
              "<table border=\"1\" class=\"dataframe\">\n",
              "  <thead>\n",
              "    <tr style=\"text-align: right;\">\n",
              "      <th></th>\n",
              "      <th>feature</th>\n",
              "      <th>feature importance</th>\n",
              "    </tr>\n",
              "  </thead>\n",
              "  <tbody>\n",
              "    <tr>\n",
              "      <th>0</th>\n",
              "      <td>battery_power</td>\n",
              "      <td>0.115</td>\n",
              "    </tr>\n",
              "    <tr>\n",
              "      <th>1</th>\n",
              "      <td>blue</td>\n",
              "      <td>0.000</td>\n",
              "    </tr>\n",
              "    <tr>\n",
              "      <th>2</th>\n",
              "      <td>clock_speed</td>\n",
              "      <td>0.023</td>\n",
              "    </tr>\n",
              "    <tr>\n",
              "      <th>3</th>\n",
              "      <td>dual_sim</td>\n",
              "      <td>0.004</td>\n",
              "    </tr>\n",
              "    <tr>\n",
              "      <th>4</th>\n",
              "      <td>fc</td>\n",
              "      <td>0.031</td>\n",
              "    </tr>\n",
              "    <tr>\n",
              "      <th>5</th>\n",
              "      <td>four_g</td>\n",
              "      <td>0.000</td>\n",
              "    </tr>\n",
              "    <tr>\n",
              "      <th>6</th>\n",
              "      <td>int_memory</td>\n",
              "      <td>0.035</td>\n",
              "    </tr>\n",
              "    <tr>\n",
              "      <th>7</th>\n",
              "      <td>m_dep</td>\n",
              "      <td>0.031</td>\n",
              "    </tr>\n",
              "    <tr>\n",
              "      <th>8</th>\n",
              "      <td>mobile_wt</td>\n",
              "      <td>0.039</td>\n",
              "    </tr>\n",
              "    <tr>\n",
              "      <th>9</th>\n",
              "      <td>n_cores</td>\n",
              "      <td>0.036</td>\n",
              "    </tr>\n",
              "    <tr>\n",
              "      <th>10</th>\n",
              "      <td>pc</td>\n",
              "      <td>0.024</td>\n",
              "    </tr>\n",
              "    <tr>\n",
              "      <th>11</th>\n",
              "      <td>px_height</td>\n",
              "      <td>0.077</td>\n",
              "    </tr>\n",
              "    <tr>\n",
              "      <th>12</th>\n",
              "      <td>px_width</td>\n",
              "      <td>0.071</td>\n",
              "    </tr>\n",
              "    <tr>\n",
              "      <th>13</th>\n",
              "      <td>ram</td>\n",
              "      <td>0.409</td>\n",
              "    </tr>\n",
              "    <tr>\n",
              "      <th>14</th>\n",
              "      <td>sc_h</td>\n",
              "      <td>0.025</td>\n",
              "    </tr>\n",
              "    <tr>\n",
              "      <th>15</th>\n",
              "      <td>sc_w</td>\n",
              "      <td>0.014</td>\n",
              "    </tr>\n",
              "    <tr>\n",
              "      <th>16</th>\n",
              "      <td>talk_time</td>\n",
              "      <td>0.025</td>\n",
              "    </tr>\n",
              "    <tr>\n",
              "      <th>17</th>\n",
              "      <td>three_g</td>\n",
              "      <td>0.019</td>\n",
              "    </tr>\n",
              "    <tr>\n",
              "      <th>18</th>\n",
              "      <td>touch_screen</td>\n",
              "      <td>0.022</td>\n",
              "    </tr>\n",
              "    <tr>\n",
              "      <th>19</th>\n",
              "      <td>wifi</td>\n",
              "      <td>0.000</td>\n",
              "    </tr>\n",
              "  </tbody>\n",
              "</table>\n",
              "</div>\n",
              "      <button class=\"colab-df-convert\" onclick=\"convertToInteractive('df-545cdce3-cce9-423f-8bd3-5a899639f3c3')\"\n",
              "              title=\"Convert this dataframe to an interactive table.\"\n",
              "              style=\"display:none;\">\n",
              "        \n",
              "  <svg xmlns=\"http://www.w3.org/2000/svg\" height=\"24px\"viewBox=\"0 0 24 24\"\n",
              "       width=\"24px\">\n",
              "    <path d=\"M0 0h24v24H0V0z\" fill=\"none\"/>\n",
              "    <path d=\"M18.56 5.44l.94 2.06.94-2.06 2.06-.94-2.06-.94-.94-2.06-.94 2.06-2.06.94zm-11 1L8.5 8.5l.94-2.06 2.06-.94-2.06-.94L8.5 2.5l-.94 2.06-2.06.94zm10 10l.94 2.06.94-2.06 2.06-.94-2.06-.94-.94-2.06-.94 2.06-2.06.94z\"/><path d=\"M17.41 7.96l-1.37-1.37c-.4-.4-.92-.59-1.43-.59-.52 0-1.04.2-1.43.59L10.3 9.45l-7.72 7.72c-.78.78-.78 2.05 0 2.83L4 21.41c.39.39.9.59 1.41.59.51 0 1.02-.2 1.41-.59l7.78-7.78 2.81-2.81c.8-.78.8-2.07 0-2.86zM5.41 20L4 18.59l7.72-7.72 1.47 1.35L5.41 20z\"/>\n",
              "  </svg>\n",
              "      </button>\n",
              "      \n",
              "  <style>\n",
              "    .colab-df-container {\n",
              "      display:flex;\n",
              "      flex-wrap:wrap;\n",
              "      gap: 12px;\n",
              "    }\n",
              "\n",
              "    .colab-df-convert {\n",
              "      background-color: #E8F0FE;\n",
              "      border: none;\n",
              "      border-radius: 50%;\n",
              "      cursor: pointer;\n",
              "      display: none;\n",
              "      fill: #1967D2;\n",
              "      height: 32px;\n",
              "      padding: 0 0 0 0;\n",
              "      width: 32px;\n",
              "    }\n",
              "\n",
              "    .colab-df-convert:hover {\n",
              "      background-color: #E2EBFA;\n",
              "      box-shadow: 0px 1px 2px rgba(60, 64, 67, 0.3), 0px 1px 3px 1px rgba(60, 64, 67, 0.15);\n",
              "      fill: #174EA6;\n",
              "    }\n",
              "\n",
              "    [theme=dark] .colab-df-convert {\n",
              "      background-color: #3B4455;\n",
              "      fill: #D2E3FC;\n",
              "    }\n",
              "\n",
              "    [theme=dark] .colab-df-convert:hover {\n",
              "      background-color: #434B5C;\n",
              "      box-shadow: 0px 1px 3px 1px rgba(0, 0, 0, 0.15);\n",
              "      filter: drop-shadow(0px 1px 2px rgba(0, 0, 0, 0.3));\n",
              "      fill: #FFFFFF;\n",
              "    }\n",
              "  </style>\n",
              "\n",
              "      <script>\n",
              "        const buttonEl =\n",
              "          document.querySelector('#df-545cdce3-cce9-423f-8bd3-5a899639f3c3 button.colab-df-convert');\n",
              "        buttonEl.style.display =\n",
              "          google.colab.kernel.accessAllowed ? 'block' : 'none';\n",
              "\n",
              "        async function convertToInteractive(key) {\n",
              "          const element = document.querySelector('#df-545cdce3-cce9-423f-8bd3-5a899639f3c3');\n",
              "          const dataTable =\n",
              "            await google.colab.kernel.invokeFunction('convertToInteractive',\n",
              "                                                     [key], {});\n",
              "          if (!dataTable) return;\n",
              "\n",
              "          const docLinkHtml = 'Like what you see? Visit the ' +\n",
              "            '<a target=\"_blank\" href=https://colab.research.google.com/notebooks/data_table.ipynb>data table notebook</a>'\n",
              "            + ' to learn more about interactive tables.';\n",
              "          element.innerHTML = '';\n",
              "          dataTable['output_type'] = 'display_data';\n",
              "          await google.colab.output.renderOutput(dataTable, element);\n",
              "          const docLink = document.createElement('div');\n",
              "          docLink.innerHTML = docLinkHtml;\n",
              "          element.appendChild(docLink);\n",
              "        }\n",
              "      </script>\n",
              "    </div>\n",
              "  </div>\n",
              "  "
            ]
          },
          "metadata": {},
          "execution_count": 127
        }
      ]
    },
    {
      "cell_type": "code",
      "source": [
        "# graph of feature importance of  xgboost\n",
        "plt.figure(figsize=(8,6))\n",
        "xgb_graph = importance_df.sort_values(by =[\"feature importance\"],ascending=False)\n",
        "sns.barplot(x = \"feature importance\" , y = \"feature\",data=xgb_graph)"
      ],
      "metadata": {
        "colab": {
          "base_uri": "https://localhost:8080/",
          "height": 405
        },
        "id": "v8JwRx6oZ0Ou",
        "outputId": "f8ba9597-5514-4ded-e609-ba0b22499532"
      },
      "execution_count": 128,
      "outputs": [
        {
          "output_type": "execute_result",
          "data": {
            "text/plain": [
              "<matplotlib.axes._subplots.AxesSubplot at 0x7fa5cbd3fb90>"
            ]
          },
          "metadata": {},
          "execution_count": 128
        },
        {
          "output_type": "display_data",
          "data": {
            "text/plain": [
              "<Figure size 576x432 with 1 Axes>"
            ],
            "image/png": "[encoded data removed]"
          },
          "metadata": {
            "needs_background": "light"
          }
        }
      ]
    },
    {
      "cell_type": "code",
      "source": [
        "# feature importance for gradient boost classifier\n",
        "\n",
        "Importance =  gb_clsf.feature_importances_\n",
        "\n",
        "features_dict = { \"feature\": list(x_train.columns),\n",
        "                       \"feature importance\" : Importance \n",
        "                       }\n",
        "\n",
        "importance_df = pd.DataFrame(features_dict)"
      ],
      "metadata": {
        "id": "CescPvVdV72z"
      },
      "execution_count": 129,
      "outputs": []
    },
    {
      "cell_type": "code",
      "source": [
        "importance_df[\"feature importance\"] = round(importance_df[\"feature importance\"],3)"
      ],
      "metadata": {
        "id": "AIenkxmaXcRB"
      },
      "execution_count": 130,
      "outputs": []
    },
    {
      "cell_type": "code",
      "source": [
        "importance_df"
      ],
      "metadata": {
        "colab": {
          "base_uri": "https://localhost:8080/",
          "height": 676
        },
        "id": "XjEnI18MYM2A",
        "outputId": "10d268b8-d276-4288-a924-b0fc0b2c3578"
      },
      "execution_count": 131,
      "outputs": [
        {
          "output_type": "execute_result",
          "data": {
            "text/plain": [
              "          feature  feature importance\n",
              "0   battery_power               0.067\n",
              "1            blue               0.000\n",
              "2     clock_speed               0.000\n",
              "3        dual_sim               0.000\n",
              "4              fc               0.000\n",
              "5          four_g               0.000\n",
              "6      int_memory               0.003\n",
              "7           m_dep               0.001\n",
              "8       mobile_wt               0.003\n",
              "9         n_cores               0.001\n",
              "10             pc               0.001\n",
              "11      px_height               0.040\n",
              "12       px_width               0.024\n",
              "13            ram               0.856\n",
              "14           sc_h               0.001\n",
              "15           sc_w               0.001\n",
              "16      talk_time               0.001\n",
              "17        three_g               0.000\n",
              "18   touch_screen               0.001\n",
              "19           wifi               0.000"
            ],
            "text/html": [
              "\n",
              "  <div id=\"df-bef346bd-a93e-4f5d-9450-f3190c1780eb\">\n",
              "    <div class=\"colab-df-container\">\n",
              "      <div>\n",
              "<style scoped>\n",
              "    .dataframe tbody tr th:only-of-type {\n",
              "        vertical-align: middle;\n",
              "    }\n",
              "\n",
              "    .dataframe tbody tr th {\n",
              "        vertical-align: top;\n",
              "    }\n",
              "\n",
              "    .dataframe thead th {\n",
              "        text-align: right;\n",
              "    }\n",
              "</style>\n",
              "<table border=\"1\" class=\"dataframe\">\n",
              "  <thead>\n",
              "    <tr style=\"text-align: right;\">\n",
              "      <th></th>\n",
              "      <th>feature</th>\n",
              "      <th>feature importance</th>\n",
              "    </tr>\n",
              "  </thead>\n",
              "  <tbody>\n",
              "    <tr>\n",
              "      <th>0</th>\n",
              "      <td>battery_power</td>\n",
              "      <td>0.067</td>\n",
              "    </tr>\n",
              "    <tr>\n",
              "      <th>1</th>\n",
              "      <td>blue</td>\n",
              "      <td>0.000</td>\n",
              "    </tr>\n",
              "    <tr>\n",
              "      <th>2</th>\n",
              "      <td>clock_speed</td>\n",
              "      <td>0.000</td>\n",
              "    </tr>\n",
              "    <tr>\n",
              "      <th>3</th>\n",
              "      <td>dual_sim</td>\n",
              "      <td>0.000</td>\n",
              "    </tr>\n",
              "    <tr>\n",
              "      <th>4</th>\n",
              "      <td>fc</td>\n",
              "      <td>0.000</td>\n",
              "    </tr>\n",
              "    <tr>\n",
              "      <th>5</th>\n",
              "      <td>four_g</td>\n",
              "      <td>0.000</td>\n",
              "    </tr>\n",
              "    <tr>\n",
              "      <th>6</th>\n",
              "      <td>int_memory</td>\n",
              "      <td>0.003</td>\n",
              "    </tr>\n",
              "    <tr>\n",
              "      <th>7</th>\n",
              "      <td>m_dep</td>\n",
              "      <td>0.001</td>\n",
              "    </tr>\n",
              "    <tr>\n",
              "      <th>8</th>\n",
              "      <td>mobile_wt</td>\n",
              "      <td>0.003</td>\n",
              "    </tr>\n",
              "    <tr>\n",
              "      <th>9</th>\n",
              "      <td>n_cores</td>\n",
              "      <td>0.001</td>\n",
              "    </tr>\n",
              "    <tr>\n",
              "      <th>10</th>\n",
              "      <td>pc</td>\n",
              "      <td>0.001</td>\n",
              "    </tr>\n",
              "    <tr>\n",
              "      <th>11</th>\n",
              "      <td>px_height</td>\n",
              "      <td>0.040</td>\n",
              "    </tr>\n",
              "    <tr>\n",
              "      <th>12</th>\n",
              "      <td>px_width</td>\n",
              "      <td>0.024</td>\n",
              "    </tr>\n",
              "    <tr>\n",
              "      <th>13</th>\n",
              "      <td>ram</td>\n",
              "      <td>0.856</td>\n",
              "    </tr>\n",
              "    <tr>\n",
              "      <th>14</th>\n",
              "      <td>sc_h</td>\n",
              "      <td>0.001</td>\n",
              "    </tr>\n",
              "    <tr>\n",
              "      <th>15</th>\n",
              "      <td>sc_w</td>\n",
              "      <td>0.001</td>\n",
              "    </tr>\n",
              "    <tr>\n",
              "      <th>16</th>\n",
              "      <td>talk_time</td>\n",
              "      <td>0.001</td>\n",
              "    </tr>\n",
              "    <tr>\n",
              "      <th>17</th>\n",
              "      <td>three_g</td>\n",
              "      <td>0.000</td>\n",
              "    </tr>\n",
              "    <tr>\n",
              "      <th>18</th>\n",
              "      <td>touch_screen</td>\n",
              "      <td>0.001</td>\n",
              "    </tr>\n",
              "    <tr>\n",
              "      <th>19</th>\n",
              "      <td>wifi</td>\n",
              "      <td>0.000</td>\n",
              "    </tr>\n",
              "  </tbody>\n",
              "</table>\n",
              "</div>\n",
              "      <button class=\"colab-df-convert\" onclick=\"convertToInteractive('df-bef346bd-a93e-4f5d-9450-f3190c1780eb')\"\n",
              "              title=\"Convert this dataframe to an interactive table.\"\n",
              "              style=\"display:none;\">\n",
              "        \n",
              "  <svg xmlns=\"http://www.w3.org/2000/svg\" height=\"24px\"viewBox=\"0 0 24 24\"\n",
              "       width=\"24px\">\n",
              "    <path d=\"M0 0h24v24H0V0z\" fill=\"none\"/>\n",
              "    <path d=\"M18.56 5.44l.94 2.06.94-2.06 2.06-.94-2.06-.94-.94-2.06-.94 2.06-2.06.94zm-11 1L8.5 8.5l.94-2.06 2.06-.94-2.06-.94L8.5 2.5l-.94 2.06-2.06.94zm10 10l.94 2.06.94-2.06 2.06-.94-2.06-.94-.94-2.06-.94 2.06-2.06.94z\"/><path d=\"M17.41 7.96l-1.37-1.37c-.4-.4-.92-.59-1.43-.59-.52 0-1.04.2-1.43.59L10.3 9.45l-7.72 7.72c-.78.78-.78 2.05 0 2.83L4 21.41c.39.39.9.59 1.41.59.51 0 1.02-.2 1.41-.59l7.78-7.78 2.81-2.81c.8-.78.8-2.07 0-2.86zM5.41 20L4 18.59l7.72-7.72 1.47 1.35L5.41 20z\"/>\n",
              "  </svg>\n",
              "      </button>\n",
              "      \n",
              "  <style>\n",
              "    .colab-df-container {\n",
              "      display:flex;\n",
              "      flex-wrap:wrap;\n",
              "      gap: 12px;\n",
              "    }\n",
              "\n",
              "    .colab-df-convert {\n",
              "      background-color: #E8F0FE;\n",
              "      border: none;\n",
              "      border-radius: 50%;\n",
              "      cursor: pointer;\n",
              "      display: none;\n",
              "      fill: #1967D2;\n",
              "      height: 32px;\n",
              "      padding: 0 0 0 0;\n",
              "      width: 32px;\n",
              "    }\n",
              "\n",
              "    .colab-df-convert:hover {\n",
              "      background-color: #E2EBFA;\n",
              "      box-shadow: 0px 1px 2px rgba(60, 64, 67, 0.3), 0px 1px 3px 1px rgba(60, 64, 67, 0.15);\n",
              "      fill: #174EA6;\n",
              "    }\n",
              "\n",
              "    [theme=dark] .colab-df-convert {\n",
              "      background-color: #3B4455;\n",
              "      fill: #D2E3FC;\n",
              "    }\n",
              "\n",
              "    [theme=dark] .colab-df-convert:hover {\n",
              "      background-color: #434B5C;\n",
              "      box-shadow: 0px 1px 3px 1px rgba(0, 0, 0, 0.15);\n",
              "      filter: drop-shadow(0px 1px 2px rgba(0, 0, 0, 0.3));\n",
              "      fill: #FFFFFF;\n",
              "    }\n",
              "  </style>\n",
              "\n",
              "      <script>\n",
              "        const buttonEl =\n",
              "          document.querySelector('#df-bef346bd-a93e-4f5d-9450-f3190c1780eb button.colab-df-convert');\n",
              "        buttonEl.style.display =\n",
              "          google.colab.kernel.accessAllowed ? 'block' : 'none';\n",
              "\n",
              "        async function convertToInteractive(key) {\n",
              "          const element = document.querySelector('#df-bef346bd-a93e-4f5d-9450-f3190c1780eb');\n",
              "          const dataTable =\n",
              "            await google.colab.kernel.invokeFunction('convertToInteractive',\n",
              "                                                     [key], {});\n",
              "          if (!dataTable) return;\n",
              "\n",
              "          const docLinkHtml = 'Like what you see? Visit the ' +\n",
              "            '<a target=\"_blank\" href=https://colab.research.google.com/notebooks/data_table.ipynb>data table notebook</a>'\n",
              "            + ' to learn more about interactive tables.';\n",
              "          element.innerHTML = '';\n",
              "          dataTable['output_type'] = 'display_data';\n",
              "          await google.colab.output.renderOutput(dataTable, element);\n",
              "          const docLink = document.createElement('div');\n",
              "          docLink.innerHTML = docLinkHtml;\n",
              "          element.appendChild(docLink);\n",
              "        }\n",
              "      </script>\n",
              "    </div>\n",
              "  </div>\n",
              "  "
            ]
          },
          "metadata": {},
          "execution_count": 131
        }
      ]
    },
    {
      "cell_type": "code",
      "source": [
        "# graph of feature importance of gradient boosting\n",
        "plt.figure(figsize=(8,6))\n",
        "gb_graph = importance_df.sort_values(by =[\"feature importance\"],ascending=False)\n",
        "sns.barplot(x = \"feature importance\" , y = \"feature\",data=gb_graph)"
      ],
      "metadata": {
        "colab": {
          "base_uri": "https://localhost:8080/",
          "height": 405
        },
        "id": "Nhbwj2GBYZS7",
        "outputId": "d6331429-5168-487d-a3f7-8507ba896d0f"
      },
      "execution_count": 132,
      "outputs": [
        {
          "output_type": "execute_result",
          "data": {
            "text/plain": [
              "<matplotlib.axes._subplots.AxesSubplot at 0x7fa5d6082450>"
            ]
          },
          "metadata": {},
          "execution_count": 132
        },
        {
          "output_type": "display_data",
          "data": {
            "text/plain": [
              "<Figure size 576x432 with 1 Axes>"
            ],
            "image/png": "[encoded data removed]"
          },
          "metadata": {
            "needs_background": "light"
          }
        }
      ]
    },
    {
      "cell_type": "code",
      "source": [
        "# feature importance for  random forest classifier\n",
        "\n",
        "Importance =  rf_optimal.feature_importances_\n",
        "\n",
        "features_dict = { \"feature\": list(x_train.columns),\n",
        "                       \"feature importance\" : Importance \n",
        "                       }\n",
        "\n",
        "importance_df = pd.DataFrame(features_dict)"
      ],
      "metadata": {
        "id": "uedKoUmuZ9jN"
      },
      "execution_count": 133,
      "outputs": []
    },
    {
      "cell_type": "code",
      "source": [
        "importance_df[\"feature importance\"] = round(importance_df[\"feature importance\"],3)"
      ],
      "metadata": {
        "id": "yWnXySe6acf3"
      },
      "execution_count": 134,
      "outputs": []
    },
    {
      "cell_type": "code",
      "source": [
        "importance_df"
      ],
      "metadata": {
        "colab": {
          "base_uri": "https://localhost:8080/",
          "height": 676
        },
        "id": "BBy1J4GFafpq",
        "outputId": "bc3a1355-e744-4824-f485-ebfe1d20fd4b"
      },
      "execution_count": 135,
      "outputs": [
        {
          "output_type": "execute_result",
          "data": {
            "text/plain": [
              "          feature  feature importance\n",
              "0   battery_power               0.072\n",
              "1            blue               0.005\n",
              "2     clock_speed               0.024\n",
              "3        dual_sim               0.004\n",
              "4              fc               0.019\n",
              "5          four_g               0.005\n",
              "6      int_memory               0.031\n",
              "7           m_dep               0.022\n",
              "8       mobile_wt               0.033\n",
              "9         n_cores               0.019\n",
              "10             pc               0.022\n",
              "11      px_height               0.050\n",
              "12       px_width               0.055\n",
              "13            ram               0.554\n",
              "14           sc_h               0.022\n",
              "15           sc_w               0.026\n",
              "16      talk_time               0.024\n",
              "17        three_g               0.004\n",
              "18   touch_screen               0.006\n",
              "19           wifi               0.004"
            ],
            "text/html": [
              "\n",
              "  <div id=\"df-85710719-db7f-4f5a-ab6c-1b9358b719e4\">\n",
              "    <div class=\"colab-df-container\">\n",
              "      <div>\n",
              "<style scoped>\n",
              "    .dataframe tbody tr th:only-of-type {\n",
              "        vertical-align: middle;\n",
              "    }\n",
              "\n",
              "    .dataframe tbody tr th {\n",
              "        vertical-align: top;\n",
              "    }\n",
              "\n",
              "    .dataframe thead th {\n",
              "        text-align: right;\n",
              "    }\n",
              "</style>\n",
              "<table border=\"1\" class=\"dataframe\">\n",
              "  <thead>\n",
              "    <tr style=\"text-align: right;\">\n",
              "      <th></th>\n",
              "      <th>feature</th>\n",
              "      <th>feature importance</th>\n",
              "    </tr>\n",
              "  </thead>\n",
              "  <tbody>\n",
              "    <tr>\n",
              "      <th>0</th>\n",
              "      <td>battery_power</td>\n",
              "      <td>0.072</td>\n",
              "    </tr>\n",
              "    <tr>\n",
              "      <th>1</th>\n",
              "      <td>blue</td>\n",
              "      <td>0.005</td>\n",
              "    </tr>\n",
              "    <tr>\n",
              "      <th>2</th>\n",
              "      <td>clock_speed</td>\n",
              "      <td>0.024</td>\n",
              "    </tr>\n",
              "    <tr>\n",
              "      <th>3</th>\n",
              "      <td>dual_sim</td>\n",
              "      <td>0.004</td>\n",
              "    </tr>\n",
              "    <tr>\n",
              "      <th>4</th>\n",
              "      <td>fc</td>\n",
              "      <td>0.019</td>\n",
              "    </tr>\n",
              "    <tr>\n",
              "      <th>5</th>\n",
              "      <td>four_g</td>\n",
              "      <td>0.005</td>\n",
              "    </tr>\n",
              "    <tr>\n",
              "      <th>6</th>\n",
              "      <td>int_memory</td>\n",
              "      <td>0.031</td>\n",
              "    </tr>\n",
              "    <tr>\n",
              "      <th>7</th>\n",
              "      <td>m_dep</td>\n",
              "      <td>0.022</td>\n",
              "    </tr>\n",
              "    <tr>\n",
              "      <th>8</th>\n",
              "      <td>mobile_wt</td>\n",
              "      <td>0.033</td>\n",
              "    </tr>\n",
              "    <tr>\n",
              "      <th>9</th>\n",
              "      <td>n_cores</td>\n",
              "      <td>0.019</td>\n",
              "    </tr>\n",
              "    <tr>\n",
              "      <th>10</th>\n",
              "      <td>pc</td>\n",
              "      <td>0.022</td>\n",
              "    </tr>\n",
              "    <tr>\n",
              "      <th>11</th>\n",
              "      <td>px_height</td>\n",
              "      <td>0.050</td>\n",
              "    </tr>\n",
              "    <tr>\n",
              "      <th>12</th>\n",
              "      <td>px_width</td>\n",
              "      <td>0.055</td>\n",
              "    </tr>\n",
              "    <tr>\n",
              "      <th>13</th>\n",
              "      <td>ram</td>\n",
              "      <td>0.554</td>\n",
              "    </tr>\n",
              "    <tr>\n",
              "      <th>14</th>\n",
              "      <td>sc_h</td>\n",
              "      <td>0.022</td>\n",
              "    </tr>\n",
              "    <tr>\n",
              "      <th>15</th>\n",
              "      <td>sc_w</td>\n",
              "      <td>0.026</td>\n",
              "    </tr>\n",
              "    <tr>\n",
              "      <th>16</th>\n",
              "      <td>talk_time</td>\n",
              "      <td>0.024</td>\n",
              "    </tr>\n",
              "    <tr>\n",
              "      <th>17</th>\n",
              "      <td>three_g</td>\n",
              "      <td>0.004</td>\n",
              "    </tr>\n",
              "    <tr>\n",
              "      <th>18</th>\n",
              "      <td>touch_screen</td>\n",
              "      <td>0.006</td>\n",
              "    </tr>\n",
              "    <tr>\n",
              "      <th>19</th>\n",
              "      <td>wifi</td>\n",
              "      <td>0.004</td>\n",
              "    </tr>\n",
              "  </tbody>\n",
              "</table>\n",
              "</div>\n",
              "      <button class=\"colab-df-convert\" onclick=\"convertToInteractive('df-85710719-db7f-4f5a-ab6c-1b9358b719e4')\"\n",
              "              title=\"Convert this dataframe to an interactive table.\"\n",
              "              style=\"display:none;\">\n",
              "        \n",
              "  <svg xmlns=\"http://www.w3.org/2000/svg\" height=\"24px\"viewBox=\"0 0 24 24\"\n",
              "       width=\"24px\">\n",
              "    <path d=\"M0 0h24v24H0V0z\" fill=\"none\"/>\n",
              "    <path d=\"M18.56 5.44l.94 2.06.94-2.06 2.06-.94-2.06-.94-.94-2.06-.94 2.06-2.06.94zm-11 1L8.5 8.5l.94-2.06 2.06-.94-2.06-.94L8.5 2.5l-.94 2.06-2.06.94zm10 10l.94 2.06.94-2.06 2.06-.94-2.06-.94-.94-2.06-.94 2.06-2.06.94z\"/><path d=\"M17.41 7.96l-1.37-1.37c-.4-.4-.92-.59-1.43-.59-.52 0-1.04.2-1.43.59L10.3 9.45l-7.72 7.72c-.78.78-.78 2.05 0 2.83L4 21.41c.39.39.9.59 1.41.59.51 0 1.02-.2 1.41-.59l7.78-7.78 2.81-2.81c.8-.78.8-2.07 0-2.86zM5.41 20L4 18.59l7.72-7.72 1.47 1.35L5.41 20z\"/>\n",
              "  </svg>\n",
              "      </button>\n",
              "      \n",
              "  <style>\n",
              "    .colab-df-container {\n",
              "      display:flex;\n",
              "      flex-wrap:wrap;\n",
              "      gap: 12px;\n",
              "    }\n",
              "\n",
              "    .colab-df-convert {\n",
              "      background-color: #E8F0FE;\n",
              "      border: none;\n",
              "      border-radius: 50%;\n",
              "      cursor: pointer;\n",
              "      display: none;\n",
              "      fill: #1967D2;\n",
              "      height: 32px;\n",
              "      padding: 0 0 0 0;\n",
              "      width: 32px;\n",
              "    }\n",
              "\n",
              "    .colab-df-convert:hover {\n",
              "      background-color: #E2EBFA;\n",
              "      box-shadow: 0px 1px 2px rgba(60, 64, 67, 0.3), 0px 1px 3px 1px rgba(60, 64, 67, 0.15);\n",
              "      fill: #174EA6;\n",
              "    }\n",
              "\n",
              "    [theme=dark] .colab-df-convert {\n",
              "      background-color: #3B4455;\n",
              "      fill: #D2E3FC;\n",
              "    }\n",
              "\n",
              "    [theme=dark] .colab-df-convert:hover {\n",
              "      background-color: #434B5C;\n",
              "      box-shadow: 0px 1px 3px 1px rgba(0, 0, 0, 0.15);\n",
              "      filter: drop-shadow(0px 1px 2px rgba(0, 0, 0, 0.3));\n",
              "      fill: #FFFFFF;\n",
              "    }\n",
              "  </style>\n",
              "\n",
              "      <script>\n",
              "        const buttonEl =\n",
              "          document.querySelector('#df-85710719-db7f-4f5a-ab6c-1b9358b719e4 button.colab-df-convert');\n",
              "        buttonEl.style.display =\n",
              "          google.colab.kernel.accessAllowed ? 'block' : 'none';\n",
              "\n",
              "        async function convertToInteractive(key) {\n",
              "          const element = document.querySelector('#df-85710719-db7f-4f5a-ab6c-1b9358b719e4');\n",
              "          const dataTable =\n",
              "            await google.colab.kernel.invokeFunction('convertToInteractive',\n",
              "                                                     [key], {});\n",
              "          if (!dataTable) return;\n",
              "\n",
              "          const docLinkHtml = 'Like what you see? Visit the ' +\n",
              "            '<a target=\"_blank\" href=https://colab.research.google.com/notebooks/data_table.ipynb>data table notebook</a>'\n",
              "            + ' to learn more about interactive tables.';\n",
              "          element.innerHTML = '';\n",
              "          dataTable['output_type'] = 'display_data';\n",
              "          await google.colab.output.renderOutput(dataTable, element);\n",
              "          const docLink = document.createElement('div');\n",
              "          docLink.innerHTML = docLinkHtml;\n",
              "          element.appendChild(docLink);\n",
              "        }\n",
              "      </script>\n",
              "    </div>\n",
              "  </div>\n",
              "  "
            ]
          },
          "metadata": {},
          "execution_count": 135
        }
      ]
    },
    {
      "cell_type": "code",
      "source": [
        "# graph of feature importance of random forest classifier\n",
        "plt.figure(figsize=(8,6))\n",
        "rf_optimal_graph = importance_df.sort_values(by =[\"feature importance\"],ascending=False)\n",
        "sns.barplot(x = \"feature importance\" , y = \"feature\",data=rf_optimal_graph)"
      ],
      "metadata": {
        "colab": {
          "base_uri": "https://localhost:8080/",
          "height": 405
        },
        "id": "1BEKQ8Riagsx",
        "outputId": "c917a446-4353-4e68-e9d9-825315f6fc81"
      },
      "execution_count": 136,
      "outputs": [
        {
          "output_type": "execute_result",
          "data": {
            "text/plain": [
              "<matplotlib.axes._subplots.AxesSubplot at 0x7fa5cbae6b10>"
            ]
          },
          "metadata": {},
          "execution_count": 136
        },
        {
          "output_type": "display_data",
          "data": {
            "text/plain": [
              "<Figure size 576x432 with 1 Axes>"
            ],
            "image/png": "[encoded data removed]"
          },
          "metadata": {
            "needs_background": "light"
          }
        }
      ]
    },
    {
      "cell_type": "markdown",
      "source": [
        "As seen ram, battery_power, px_width, px_height are the most important feature for predicting the price of mobile."
      ],
      "metadata": {
        "id": "V36SlV-7bzS3"
      }
    },
    {
      "cell_type": "markdown",
      "source": [
        "## **Conclusion**"
      ],
      "metadata": {
        "id": "CqetyxjGcDzV"
      }
    },
    {
      "cell_type": "markdown",
      "source": [
        "Ram is the most relevant feature for predecting the price, from feature importance we can see than ram, battery_poer, px_width, px_height are the more relevant to predecting price of mobile.\n",
        "\n",
        "Kneighbours gives the accuracy score of 93% for train and test, and logistic regression gives the accuracy score 80% for train and 70% for test data.\n",
        "\n",
        "Logistic regression gives the less accuracy among the all algorithms.\n",
        "\n",
        "Support vector machine classifier gives the accuracy score of 95% for train and 96% for test data this algorithm gives the best result, so i tune the hyperparameter in svm classifier  and it gives the accuracy score of 97% for test data.\n",
        "\n",
        "So, i conclude that the svm classifier gives the best result for the dataset.\n",
        "\n",
        "so, we can say that if the ram size and battery capacity is increase the price of mobile is also increases."
      ],
      "metadata": {
        "id": "AwBVHwGgdZba"
      }
    },
    {
      "cell_type": "code",
      "source": [
        ""
      ],
      "metadata": {
        "id": "ociJaAInfqWs"
      },
      "execution_count": 136,
      "outputs": []
    }
  ],
  "metadata": {
    "colab": {
      "collapsed_sections": [],
      "name": "Mobile Price Range Prediction.ipynb",
      "provenance": [],
      "authorship_tag": "ABX9TyNUAUXA9RGFikoqSgQKF10P",
      "include_colab_link": true
    },
    "kernelspec": {
      "display_name": "Python 3",
      "name": "python3"
    },
    "language_info": {
      "name": "python"
    }
  },
  "nbformat": 4,
  "nbformat_minor": 0
}